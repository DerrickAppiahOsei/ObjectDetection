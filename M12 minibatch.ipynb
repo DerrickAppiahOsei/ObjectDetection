{
 "cells": [
  {
   "cell_type": "markdown",
   "metadata": {},
   "source": [
    "Load all necessary imports"
   ]
  },
  {
   "cell_type": "code",
   "execution_count": 1,
   "metadata": {},
   "outputs": [
    {
     "name": "stderr",
     "output_type": "stream",
     "text": [
      "2024-03-12 16:17:31.091115: I tensorflow/core/util/port.cc:113] oneDNN custom operations are on. You may see slightly different numerical results due to floating-point round-off errors from different computation orders. To turn them off, set the environment variable `TF_ENABLE_ONEDNN_OPTS=0`.\n",
      "2024-03-12 16:17:31.123705: E external/local_xla/xla/stream_executor/cuda/cuda_dnn.cc:9261] Unable to register cuDNN factory: Attempting to register factory for plugin cuDNN when one has already been registered\n",
      "2024-03-12 16:17:31.123732: E external/local_xla/xla/stream_executor/cuda/cuda_fft.cc:607] Unable to register cuFFT factory: Attempting to register factory for plugin cuFFT when one has already been registered\n",
      "2024-03-12 16:17:31.124698: E external/local_xla/xla/stream_executor/cuda/cuda_blas.cc:1515] Unable to register cuBLAS factory: Attempting to register factory for plugin cuBLAS when one has already been registered\n",
      "2024-03-12 16:17:31.130259: I tensorflow/core/platform/cpu_feature_guard.cc:182] This TensorFlow binary is optimized to use available CPU instructions in performance-critical operations.\n",
      "To enable the following instructions: AVX2 AVX512F AVX512_VNNI FMA, in other operations, rebuild TensorFlow with the appropriate compiler flags.\n",
      "2024-03-12 16:17:31.781515: W tensorflow/compiler/tf2tensorrt/utils/py_utils.cc:38] TF-TRT Warning: Could not find TensorRT\n",
      "2024-03-12 16:17:32.793328: I tensorflow/core/common_runtime/gpu/gpu_device.cc:1929] Created device /job:localhost/replica:0/task:0/device:GPU:0 with 21872 MB memory:  -> device: 0, name: NVIDIA GeForce RTX 3090, pci bus id: 0000:68:00.0, compute capability: 8.6\n"
     ]
    }
   ],
   "source": [
    "import numpy as np\n",
    "import tensorflow as tf\n",
    "from tensorflow.keras import layers\n",
    "import cv2\n",
    "import matplotlib.pyplot as plt\n",
    "import h5py\n",
    "\n",
    "# Configure Keras to use GPU\n",
    "config = tf.compat.v1.ConfigProto()\n",
    "config.gpu_options.allow_growth = True\n",
    "sess = tf.compat.v1.Session(config=config)\n",
    "tf.compat.v1.keras.backend.set_session(sess)"
   ]
  },
  {
   "cell_type": "markdown",
   "metadata": {},
   "source": [
    "Data Loading"
   ]
  },
  {
   "cell_type": "code",
   "execution_count": 2,
   "metadata": {},
   "outputs": [],
   "source": [
    "# with h5py.File('TrainingData5zeroes.h5', 'r') as hdf:\n",
    "#     ls = list(hdf.keys())\n",
    "#     images = hdf.get('images')\n",
    "#     boxes = hdf.get('boxes')\n",
    "#     images = np.array(images)\n",
    "#     boxes = np.array(boxes)"
   ]
  },
  {
   "cell_type": "code",
   "execution_count": 2,
   "metadata": {},
   "outputs": [],
   "source": [
    "# Define file paths for images and corresponding bounding boxes\n",
    "image_files = [\n",
    "    '/home/m3-learning/Downloads/Training Data/Training/preprocessed_data/000_img.npz',\n",
    "               '/home/m3-learning/Downloads/Training Data/Training/preprocessed_data/001_img.npz',\n",
    "               '/home/m3-learning/Downloads/Training Data/Training/preprocessed_data/002_img.npz',\n",
    "               '/home/m3-learning/Downloads/Training Data/Training/preprocessed_data/003_img.npz',\n",
    "               '/home/m3-learning/Downloads/Training Data/Training/preprocessed_data/004_img.npz',\n",
    "               '/home/m3-learning/Downloads/Training Data/Training/preprocessed_data/005_img.npz',\n",
    "               '/home/m3-learning/Downloads/Training Data/Training/preprocessed_data/006_img.npz',\n",
    "               '/home/m3-learning/Downloads/Training Data/Training/preprocessed_data/007_img.npz',\n",
    "               '/home/m3-learning/Downloads/Training Data/Training/preprocessed_data/008_img.npz',\n",
    "               '/home/m3-learning/Downloads/Training Data/Training/preprocessed_data/009_img.npz',\n",
    "               '/home/m3-learning/Downloads/Training Data/Training/preprocessed_data/010_img.npz',\n",
    "               '/home/m3-learning/Downloads/Training Data/Training/preprocessed_data/011_img.npz',\n",
    "               '/home/m3-learning/Downloads/Training Data/Training/preprocessed_data/012_img.npz',\n",
    "               '/home/m3-learning/Downloads/Training Data/Training/preprocessed_data/013_img.npz',\n",
    "               '/home/m3-learning/Downloads/Training Data/Training/preprocessed_data/014_img.npz',\n",
    "               '/home/m3-learning/Downloads/Training Data/Training/preprocessed_data/015_img.npz',\n",
    "               '/home/m3-learning/Downloads/Training Data/Training/preprocessed_data/016_img.npz',\n",
    "               '/home/m3-learning/Downloads/Training Data/Training/preprocessed_data/017_img.npz',\n",
    "               '/home/m3-learning/Downloads/Training Data/Training/preprocessed_data/018_img.npz',\n",
    "               '/home/m3-learning/Downloads/Training Data/Training/preprocessed_data/019_img.npz',\n",
    "               '/home/m3-learning/Downloads/Training Data/Training/preprocessed_data/020_img.npz',\n",
    "               '/home/m3-learning/Downloads/Training Data/Training/preprocessed_data/021_img.npz',\n",
    "               '/home/m3-learning/Downloads/Training Data/Training/preprocessed_data/022_img.npz',\n",
    "            \n",
    "               '/home/m3-learning/Downloads/Training Data/Training/preprocessed_data/023_img.npz',\n",
    "               '/home/m3-learning/Downloads/Training Data/Training/preprocessed_data/024_img.npz',\n",
    "               '/home/m3-learning/Downloads/Training Data/Training/preprocessed_data/025_img.npz',\n",
    "               '/home/m3-learning/Downloads/Training Data/Training/preprocessed_data/026_img.npz',\n",
    "               '/home/m3-learning/Downloads/Training Data/Training/preprocessed_data/027_img.npz',\n",
    "               '/home/m3-learning/Downloads/Training Data/Training/preprocessed_data/028_img.npz',\n",
    "               '/home/m3-learning/Downloads/Training Data/Training/preprocessed_data/029_img.npz',\n",
    "               '/home/m3-learning/Downloads/Training Data/Training/preprocessed_data/030_img.npz',\n",
    "            #    '/home/m3-learning/Downloads/Training Data/Training/preprocessed_data/031_img.npz',\n",
    "            #    '/home/m3-learning/Downloads/Training Data/Training/preprocessed_data/032_img.npz',\n",
    "            #    '/home/m3-learning/Downloads/Training Data/Training/preprocessed_data/033_img.npz',\n",
    "            #    '/home/m3-learning/Downloads/Training Data/Training/preprocessed_data/034_img.npz',\n",
    "            #    '/home/m3-learning/Downloads/Training Data/Training/preprocessed_data/035_img.npz',\n",
    "            #    '/home/m3-learning/Downloads/Training Data/Training/preprocessed_data/036_img.npz',\n",
    "            #    '/home/m3-learning/Downloads/Training Data/Training/preprocessed_data/037_img.npz',\n",
    "            #    '/home/m3-learning/Downloads/Training Data/Training/preprocessed_data/038_img.npz',\n",
    "            #    '/home/m3-learning/Downloads/Training Data/Training/preprocessed_data/039_img.npz',\n",
    "# '/home/m3-learning/Downloads/Training Data/Training/preprocessed_data/040_img.npz',\n",
    "# '/home/m3-learning/Downloads/Training Data/Training/preprocessed_data/041_img.npz',\n",
    "# '/home/m3-learning/Downloads/Training Data/Training/preprocessed_data/042_img.npz',\n",
    "# '/home/m3-learning/Downloads/Training Data/Training/preprocessed_data/043_img.npz',\n",
    "#                '/home/m3-learning/Downloads/Training Data/Training/preprocessed_data/044_img.npz',\n",
    "#                '/home/m3-learning/Downloads/Training Data/Training/preprocessed_data/045_img.npz',\n",
    "#                '/home/m3-learning/Downloads/Training Data/Training/preprocessed_data/046_img.npz',\n",
    "#                '/home/m3-learning/Downloads/Training Data/Training/preprocessed_data/047_img.npz',\n",
    "#                '/home/m3-learning/Downloads/Training Data/Training/preprocessed_data/048_img.npz',\n",
    "#                '/home/m3-learning/Downloads/Training Data/Training/preprocessed_data/049_img.npz'\n",
    "               ]\n",
    "box_files = [\n",
    "    '/home/m3-learning/Documents/Research Data/padded bounding boxes/padded bounding boxes-20240102T154337Z-001/padded bounding boxes/000_box.npz',\n",
    "             '/home/m3-learning/Documents/Research Data/padded bounding boxes/padded bounding boxes-20240102T154337Z-001/padded bounding boxes/001_box.npz',\n",
    "             '/home/m3-learning/Documents/Research Data/padded bounding boxes/padded bounding boxes-20240102T154337Z-001/padded bounding boxes/002_box.npz',\n",
    "             '/home/m3-learning/Documents/Research Data/padded bounding boxes/padded bounding boxes-20240102T154337Z-001/padded bounding boxes/003_box.npz',\n",
    "                '/home/m3-learning/Documents/Research Data/padded bounding boxes/padded bounding boxes-20240102T154337Z-001/padded bounding boxes/004_box.npz',\n",
    "                '/home/m3-learning/Documents/Research Data/padded bounding boxes/padded bounding boxes-20240102T154337Z-001/padded bounding boxes/005_box.npz',\n",
    "                '/home/m3-learning/Documents/Research Data/padded bounding boxes/padded bounding boxes-20240102T154337Z-001/padded bounding boxes/006_box.npz',\n",
    "                '/home/m3-learning/Documents/Research Data/padded bounding boxes/padded bounding boxes-20240102T154337Z-001/padded bounding boxes/007_box.npz',\n",
    "                '/home/m3-learning/Documents/Research Data/padded bounding boxes/padded bounding boxes-20240102T154337Z-001/padded bounding boxes/008_box.npz',\n",
    "        \n",
    "             '/home/m3-learning/Documents/Research Data/padded bounding boxes/padded bounding boxes-20240102T154337Z-001/padded bounding boxes/009_box.npz',\n",
    "             '/home/m3-learning/Documents/Research Data/padded bounding boxes/padded bounding boxes-20240102T154337Z-001/padded bounding boxes/010_box.npz',\n",
    "             '/home/m3-learning/Documents/Research Data/padded bounding boxes/padded bounding boxes-20240102T154337Z-001/padded bounding boxes/011_box.npz',\n",
    "             '/home/m3-learning/Documents/Research Data/padded bounding boxes/padded bounding boxes-20240102T154337Z-001/padded bounding boxes/012_box.npz',\n",
    "             '/home/m3-learning/Documents/Research Data/padded bounding boxes/padded bounding boxes-20240102T154337Z-001/padded bounding boxes/013_box.npz',\n",
    "             '/home/m3-learning/Documents/Research Data/padded bounding boxes/padded bounding boxes-20240102T154337Z-001/padded bounding boxes/014_box.npz',\n",
    "             '/home/m3-learning/Documents/Research Data/padded bounding boxes/padded bounding boxes-20240102T154337Z-001/padded bounding boxes/015_box.npz',\n",
    "             '/home/m3-learning/Documents/Research Data/padded bounding boxes/padded bounding boxes-20240102T154337Z-001/padded bounding boxes/016_box.npz',\n",
    "             '/home/m3-learning/Documents/Research Data/padded bounding boxes/padded bounding boxes-20240102T154337Z-001/padded bounding boxes/017_box.npz',\n",
    "             '/home/m3-learning/Documents/Research Data/padded bounding boxes/padded bounding boxes-20240102T154337Z-001/padded bounding boxes/018_box.npz',\n",
    "             '/home/m3-learning/Documents/Research Data/padded bounding boxes/padded bounding boxes-20240102T154337Z-001/padded bounding boxes/019_box.npz',\n",
    "             '/home/m3-learning/Documents/Research Data/padded bounding boxes/padded bounding boxes-20240102T154337Z-001/padded bounding boxes/020_box.npz',\n",
    "             '/home/m3-learning/Documents/Research Data/padded bounding boxes/padded bounding boxes-20240102T154337Z-001/padded bounding boxes/021_box.npz',\n",
    "             '/home/m3-learning/Documents/Research Data/padded bounding boxes/padded bounding boxes-20240102T154337Z-001/padded bounding boxes/022_box.npz',\n",
    "             '/home/m3-learning/Documents/Research Data/padded bounding boxes/padded bounding boxes-20240102T154337Z-001/padded bounding boxes/023_box.npz',\n",
    "             '/home/m3-learning/Documents/Research Data/padded bounding boxes/padded bounding boxes-20240102T154337Z-001/padded bounding boxes/024_box.npz',\n",
    "             '/home/m3-learning/Documents/Research Data/padded bounding boxes/padded bounding boxes-20240102T154337Z-001/padded bounding boxes/025_box.npz',\n",
    "             '/home/m3-learning/Documents/Research Data/padded bounding boxes/padded bounding boxes-20240102T154337Z-001/padded bounding boxes/026_box.npz',\n",
    "             '/home/m3-learning/Documents/Research Data/padded bounding boxes/padded bounding boxes-20240102T154337Z-001/padded bounding boxes/027_box.npz',\n",
    "             '/home/m3-learning/Documents/Research Data/padded bounding boxes/padded bounding boxes-20240102T154337Z-001/padded bounding boxes/028_box.npz',\n",
    "             '/home/m3-learning/Documents/Research Data/padded bounding boxes/padded bounding boxes-20240102T154337Z-001/padded bounding boxes/029_box.npz',\n",
    "             '/home/m3-learning/Documents/Research Data/padded bounding boxes/padded bounding boxes-20240102T154337Z-001/padded bounding boxes/030_box.npz'\n",
    "            #  '/home/m3-learning/Documents/Research Data/padded bounding boxes/padded bounding boxes-20240102T154337Z-001/padded bounding boxes/031_box.npz',\n",
    "            #  '/home/m3-learning/Documents/Research Data/padded bounding boxes/padded bounding boxes-20240102T154337Z-001/padded bounding boxes/032_box.npz',\n",
    "            #  '/home/m3-learning/Documents/Research Data/padded bounding boxes/padded bounding boxes-20240102T154337Z-001/padded bounding boxes/033_box.npz',\n",
    "            #  '/home/m3-learning/Documents/Research Data/padded bounding boxes/padded bounding boxes-20240102T154337Z-001/padded bounding boxes/034_box.npz',\n",
    "            #  '/home/m3-learning/Documents/Research Data/padded bounding boxes/padded bounding boxes-20240102T154337Z-001/padded bounding boxes/035_box.npz',\n",
    "            #  '/home/m3-learning/Documents/Research Data/padded bounding boxes/padded bounding boxes-20240102T154337Z-001/padded bounding boxes/036_box.npz',\n",
    "            #  '/home/m3-learning/Documents/Research Data/padded bounding boxes/padded bounding boxes-20240102T154337Z-001/padded bounding boxes/037_box.npz',\n",
    "            #  '/home/m3-learning/Documents/Research Data/padded bounding boxes/padded bounding boxes-20240102T154337Z-001/padded bounding boxes/038_box.npz',\n",
    "            #  '/home/m3-learning/Documents/Research Data/padded bounding boxes/padded bounding boxes-20240102T154337Z-001/padded bounding boxes/039_box.npz',\n",
    "            #  '/home/m3-learning/Documents/Research Data/padded bounding boxes/padded bounding boxes-20240102T154337Z-001/padded bounding boxes/040_box.npz',\n",
    "            #  '/home/m3-learning/Documents/Research Data/padded bounding boxes/padded bounding boxes-20240102T154337Z-001/padded bounding boxes/041_box.npz',\n",
    "            #  '/home/m3-learning/Documents/Research Data/padded bounding boxes/padded bounding boxes-20240102T154337Z-001/padded bounding boxes/042_box.npz',\n",
    "            #  '/home/m3-learning/Documents/Research Data/padded bounding boxes/padded bounding boxes-20240102T154337Z-001/padded bounding boxes/043_box.npz',\n",
    "            #  '/home/m3-learning/Documents/Research Data/padded bounding boxes/padded bounding boxes-20240102T154337Z-001/padded bounding boxes/044_box.npz',\n",
    "            #  '/home/m3-learning/Documents/Research Data/padded bounding boxes/padded bounding boxes-20240102T154337Z-001/padded bounding boxes/045_box.npz',\n",
    "            #  '/home/m3-learning/Documents/Research Data/padded bounding boxes/padded bounding boxes-20240102T154337Z-001/padded bounding boxes/046_box.npz',\n",
    "            #  '/home/m3-learning/Documents/Research Data/padded bounding boxes/padded bounding boxes-20240102T154337Z-001/padded bounding boxes/047_box.npz',\n",
    "            #  '/home/m3-learning/Documents/Research Data/padded bounding boxes/padded bounding boxes-20240102T154337Z-001/padded bounding boxes/048_box.npz',\n",
    "            #  '/home/m3-learning/Documents/Research Data/padded bounding boxes/padded bounding boxes-20240102T154337Z-001/padded bounding boxes/049_box.npz'\n",
    "             ]\n",
    "\n",
    "\n",
    "\n",
    "#Initialize lists to store images and boxes\n",
    "images = []\n",
    "boxes = []\n",
    "\n",
    "# Load images and corresponding boxes\n",
    "for image_path, box_path in zip(image_files, box_files):\n",
    "    # Load images\n",
    "    images_data = np.load(image_path)\n",
    "    image_keys = images_data.files\n",
    "    for key in image_keys:\n",
    "        images.append(images_data[key])\n",
    "\n",
    "    # Load corresponding boxes\n",
    "    boxes_data = np.load(box_path)\n",
    "    box_keys = boxes_data.files\n",
    "    for key in box_keys:\n",
    "        boxes.append(boxes_data[key])\n",
    "\n",
    "# Convert lists to numpy arrays\n",
    "images = np.array(images)\n",
    "boxes = np.array(boxes)"
   ]
  },
  {
   "cell_type": "code",
   "execution_count": 6,
   "metadata": {},
   "outputs": [
    {
     "data": {
      "text/plain": [
       "(6200, 280, 5)"
      ]
     },
     "execution_count": 6,
     "metadata": {},
     "output_type": "execute_result"
    }
   ],
   "source": [
    "boxes.shape"
   ]
  },
  {
   "cell_type": "markdown",
   "metadata": {},
   "source": [
    "Data Normalization"
   ]
  },
  {
   "cell_type": "code",
   "execution_count": 3,
   "metadata": {},
   "outputs": [],
   "source": [
    "image_normalized = (images+1)/9.26 # Normalize images and add noise\n",
    "\n",
    "\n",
    "# Normalize bounding boxes\n",
    "normalized_boxes = boxes / [1,64,64,64,64]"
   ]
  },
  {
   "cell_type": "markdown",
   "metadata": {},
   "source": [
    "Model Train\n"
   ]
  },
  {
   "cell_type": "code",
   "execution_count": 6,
   "metadata": {},
   "outputs": [],
   "source": [
    "from tensorflow.keras import layers, models\n",
    "\n",
    "\n",
    "\n",
    "input_shape = (64, 64, 1)\n",
    "num_classes = 280\n",
    "num_coordinates = 4\n",
    "\n",
    "images_np = image_normalized\n",
    "#images_np = tf.expand_dims(images_np, axis=-1)\n",
    "probabilities = np.array(normalized_boxes[:, :,:-4])\n",
    "probabilities = tf.expand_dims(probabilities, axis=1)\n",
    "boxes_np = np.array(normalized_boxes[:, :, 1:])\n",
    "boxes_np = tf.expand_dims(boxes_np, axis=1)\n",
    "\n",
    "dataset = tf.data.Dataset.from_tensor_slices((images_np,{'x_prob_reshape':probabilities,'x_boxes_reshape':boxes_np}))\n",
    "\n",
    "dataset = dataset.batch(128)\n",
    "dataset = dataset.shuffle(buffer_size=6200, reshuffle_each_iteration=True) \n",
    "\n",
    "\n",
    "\n",
    "x_input = layers.Input(shape=input_shape)\n",
    "\n",
    "x = layers.Conv2D(64, kernel_size=3, padding='same', activation='relu')(x_input)\n",
    "x = layers.MaxPool2D()(x)\n",
    "x = layers.BatchNormalization()(x) \n",
    "\n",
    "x = layers.Conv2D(64, kernel_size=3, padding='same', activation='relu')(x)\n",
    " \n",
    "\n",
    "x = layers.Conv2D(128, kernel_size=3, padding='same', activation='relu')(x)\n",
    "\n",
    "\n",
    "x = layers.Conv2D(128, kernel_size=3, padding='same', activation='relu')(x)\n",
    "\n",
    "\n",
    "x = layers.Conv2D(256, kernel_size=3, padding='same', activation='relu')(x)\n",
    "\n",
    "\n",
    "x = layers.Conv2D(256, kernel_size=3, padding='same', activation='relu')(x)\n",
    "\n",
    "\n",
    "x = layers.Conv2D(512, kernel_size=5, padding='same', activation='relu')(x)\n",
    "x = layers.MaxPool2D()(x)\n",
    "\n",
    "\n",
    "x = layers.Conv2D(512, kernel_size=5, padding='same', activation='relu')(x)\n",
    "x = layers.MaxPool2D()(x)\n",
    "\n",
    "\n",
    "x = layers.Conv2D(512, kernel_size=5, padding='same', activation='relu')(x)\n",
    "x = layers.MaxPool2D()(x)\n",
    "\n",
    "\n",
    "x = layers.Conv2D(256, kernel_size=5, padding='same', activation='relu')(x)\n",
    "x = layers.MaxPool2D()(x)\n",
    "x = layers.BatchNormalization()(x) # size: 8x8x\n",
    "\n",
    "\n",
    "x = layers.Flatten()(x)\n",
    "# Bounding box output\n",
    "x_prob = layers.Dense(num_classes, activation='sigmoid', name='x_prob')(x)\n",
    "x_prob_reshape = layers.Reshape((-1, num_classes, 1), name='x_prob_reshape')(x_prob)\n",
    "\n",
    "x_boxes = layers.Dense(num_classes * num_coordinates, activation='sigmoid', name='x_boxes')(x)\n",
    "x_boxes_reshape = layers.Reshape((-1, num_classes, num_coordinates), name='x_boxes_reshape')(x_boxes)\n",
    "\n",
    "\n",
    "model = tf.keras.models.Model(x_input, [x_prob_reshape, x_boxes_reshape])\n",
    "\n",
    "\n",
    "optimizer = tf.keras.optimizers.Adam(learning_rate=3e-5)  # Consider adjusting based on performance\n",
    "\n",
    "\n",
    "\n",
    "\n",
    "\n",
    "model.compile(optimizer= optimizer, loss= {'x_prob_reshape': tf.keras.losses.BinaryCrossentropy(), 'x_boxes_reshape':tf.keras.losses.MeanSquaredError()}, metrics={'x_prob_reshape':'accuracy'} )\n",
    "num_epochs = 3000\n"
   ]
  },
  {
   "cell_type": "code",
   "execution_count": 10,
   "metadata": {},
   "outputs": [
    {
     "name": "stdout",
     "output_type": "stream",
     "text": [
      "Epoch 1/3000\n"
     ]
    },
    {
     "name": "stdout",
     "output_type": "stream",
     "text": [
      "49/49 [==============================] - 5s 100ms/step - loss: 0.3306 - x_prob_reshape_loss: 0.2828 - x_boxes_reshape_loss: 0.0477 - x_prob_reshape_accuracy: 0.8625\n",
      "Epoch 2/3000\n",
      "49/49 [==============================] - 5s 100ms/step - loss: 0.3275 - x_prob_reshape_loss: 0.2808 - x_boxes_reshape_loss: 0.0467 - x_prob_reshape_accuracy: 0.8619\n",
      "Epoch 3/3000\n",
      "49/49 [==============================] - 5s 100ms/step - loss: 0.3232 - x_prob_reshape_loss: 0.2763 - x_boxes_reshape_loss: 0.0468 - x_prob_reshape_accuracy: 0.8644\n",
      "Epoch 4/3000\n",
      "15/49 [========>.....................] - ETA: 3s - loss: 0.3197 - x_prob_reshape_loss: 0.2713 - x_boxes_reshape_loss: 0.0484 - x_prob_reshape_accuracy: 0.8737"
     ]
    },
    {
     "ename": "KeyboardInterrupt",
     "evalue": "",
     "output_type": "error",
     "traceback": [
      "\u001b[0;31m---------------------------------------------------------------------------\u001b[0m",
      "\u001b[0;31mKeyboardInterrupt\u001b[0m                         Traceback (most recent call last)",
      "Cell \u001b[0;32mIn[10], line 4\u001b[0m\n\u001b[1;32m      1\u001b[0m \u001b[38;5;66;03m# Assuming you've already prepared train_dataset and val_dataset as shown previously\u001b[39;00m\n\u001b[1;32m      2\u001b[0m \n\u001b[1;32m      3\u001b[0m \u001b[38;5;66;03m# Fit the model\u001b[39;00m\n\u001b[0;32m----> 4\u001b[0m history \u001b[38;5;241m=\u001b[39m \u001b[43mmodel\u001b[49m\u001b[38;5;241;43m.\u001b[39;49m\u001b[43mfit\u001b[49m\u001b[43m(\u001b[49m\n\u001b[1;32m      5\u001b[0m \u001b[43m    \u001b[49m\u001b[43mdataset\u001b[49m\u001b[43m,\u001b[49m\u001b[43m  \u001b[49m\u001b[38;5;66;43;03m# Training data\u001b[39;49;00m\n\u001b[1;32m      6\u001b[0m \u001b[43m    \u001b[49m\u001b[43mepochs\u001b[49m\u001b[38;5;241;43m=\u001b[39;49m\u001b[43mnum_epochs\u001b[49m\n\u001b[1;32m      7\u001b[0m \u001b[43m    \u001b[49m\n\u001b[1;32m      8\u001b[0m \u001b[43m        \u001b[49m\u001b[38;5;66;43;03m# Add other callbacks here as needed, such as ModelCheckpoint or ReduceLROnPlateau\u001b[39;49;00m\n\u001b[1;32m      9\u001b[0m \u001b[43m    \u001b[49m\n\u001b[1;32m     10\u001b[0m \u001b[43m)\u001b[49m\n",
      "File \u001b[0;32m~/anaconda3/envs/tiny_yolo/lib/python3.10/site-packages/keras/src/utils/traceback_utils.py:65\u001b[0m, in \u001b[0;36mfilter_traceback.<locals>.error_handler\u001b[0;34m(*args, **kwargs)\u001b[0m\n\u001b[1;32m     63\u001b[0m filtered_tb \u001b[38;5;241m=\u001b[39m \u001b[38;5;28;01mNone\u001b[39;00m\n\u001b[1;32m     64\u001b[0m \u001b[38;5;28;01mtry\u001b[39;00m:\n\u001b[0;32m---> 65\u001b[0m     \u001b[38;5;28;01mreturn\u001b[39;00m \u001b[43mfn\u001b[49m\u001b[43m(\u001b[49m\u001b[38;5;241;43m*\u001b[39;49m\u001b[43margs\u001b[49m\u001b[43m,\u001b[49m\u001b[43m \u001b[49m\u001b[38;5;241;43m*\u001b[39;49m\u001b[38;5;241;43m*\u001b[39;49m\u001b[43mkwargs\u001b[49m\u001b[43m)\u001b[49m\n\u001b[1;32m     66\u001b[0m \u001b[38;5;28;01mexcept\u001b[39;00m \u001b[38;5;167;01mException\u001b[39;00m \u001b[38;5;28;01mas\u001b[39;00m e:\n\u001b[1;32m     67\u001b[0m     filtered_tb \u001b[38;5;241m=\u001b[39m _process_traceback_frames(e\u001b[38;5;241m.\u001b[39m__traceback__)\n",
      "File \u001b[0;32m~/anaconda3/envs/tiny_yolo/lib/python3.10/site-packages/keras/src/engine/training.py:1813\u001b[0m, in \u001b[0;36mModel.fit\u001b[0;34m(self, x, y, batch_size, epochs, verbose, callbacks, validation_split, validation_data, shuffle, class_weight, sample_weight, initial_epoch, steps_per_epoch, validation_steps, validation_batch_size, validation_freq, max_queue_size, workers, use_multiprocessing)\u001b[0m\n\u001b[1;32m   1811\u001b[0m logs \u001b[38;5;241m=\u001b[39m tmp_logs\n\u001b[1;32m   1812\u001b[0m end_step \u001b[38;5;241m=\u001b[39m step \u001b[38;5;241m+\u001b[39m data_handler\u001b[38;5;241m.\u001b[39mstep_increment\n\u001b[0;32m-> 1813\u001b[0m \u001b[43mcallbacks\u001b[49m\u001b[38;5;241;43m.\u001b[39;49m\u001b[43mon_train_batch_end\u001b[49m\u001b[43m(\u001b[49m\u001b[43mend_step\u001b[49m\u001b[43m,\u001b[49m\u001b[43m \u001b[49m\u001b[43mlogs\u001b[49m\u001b[43m)\u001b[49m\n\u001b[1;32m   1814\u001b[0m \u001b[38;5;28;01mif\u001b[39;00m \u001b[38;5;28mself\u001b[39m\u001b[38;5;241m.\u001b[39mstop_training:\n\u001b[1;32m   1815\u001b[0m     \u001b[38;5;28;01mbreak\u001b[39;00m\n",
      "File \u001b[0;32m~/anaconda3/envs/tiny_yolo/lib/python3.10/site-packages/keras/src/callbacks.py:475\u001b[0m, in \u001b[0;36mCallbackList.on_train_batch_end\u001b[0;34m(self, batch, logs)\u001b[0m\n\u001b[1;32m    468\u001b[0m \u001b[38;5;250m\u001b[39m\u001b[38;5;124;03m\"\"\"Calls the `on_train_batch_end` methods of its callbacks.\u001b[39;00m\n\u001b[1;32m    469\u001b[0m \n\u001b[1;32m    470\u001b[0m \u001b[38;5;124;03mArgs:\u001b[39;00m\n\u001b[1;32m    471\u001b[0m \u001b[38;5;124;03m    batch: Integer, index of batch within the current epoch.\u001b[39;00m\n\u001b[1;32m    472\u001b[0m \u001b[38;5;124;03m    logs: Dict. Aggregated metric results up until this batch.\u001b[39;00m\n\u001b[1;32m    473\u001b[0m \u001b[38;5;124;03m\"\"\"\u001b[39;00m\n\u001b[1;32m    474\u001b[0m \u001b[38;5;28;01mif\u001b[39;00m \u001b[38;5;28mself\u001b[39m\u001b[38;5;241m.\u001b[39m_should_call_train_batch_hooks:\n\u001b[0;32m--> 475\u001b[0m     \u001b[38;5;28;43mself\u001b[39;49m\u001b[38;5;241;43m.\u001b[39;49m\u001b[43m_call_batch_hook\u001b[49m\u001b[43m(\u001b[49m\u001b[43mModeKeys\u001b[49m\u001b[38;5;241;43m.\u001b[39;49m\u001b[43mTRAIN\u001b[49m\u001b[43m,\u001b[49m\u001b[43m \u001b[49m\u001b[38;5;124;43m\"\u001b[39;49m\u001b[38;5;124;43mend\u001b[39;49m\u001b[38;5;124;43m\"\u001b[39;49m\u001b[43m,\u001b[49m\u001b[43m \u001b[49m\u001b[43mbatch\u001b[49m\u001b[43m,\u001b[49m\u001b[43m \u001b[49m\u001b[43mlogs\u001b[49m\u001b[38;5;241;43m=\u001b[39;49m\u001b[43mlogs\u001b[49m\u001b[43m)\u001b[49m\n",
      "File \u001b[0;32m~/anaconda3/envs/tiny_yolo/lib/python3.10/site-packages/keras/src/callbacks.py:322\u001b[0m, in \u001b[0;36mCallbackList._call_batch_hook\u001b[0;34m(self, mode, hook, batch, logs)\u001b[0m\n\u001b[1;32m    320\u001b[0m     \u001b[38;5;28mself\u001b[39m\u001b[38;5;241m.\u001b[39m_call_batch_begin_hook(mode, batch, logs)\n\u001b[1;32m    321\u001b[0m \u001b[38;5;28;01melif\u001b[39;00m hook \u001b[38;5;241m==\u001b[39m \u001b[38;5;124m\"\u001b[39m\u001b[38;5;124mend\u001b[39m\u001b[38;5;124m\"\u001b[39m:\n\u001b[0;32m--> 322\u001b[0m     \u001b[38;5;28;43mself\u001b[39;49m\u001b[38;5;241;43m.\u001b[39;49m\u001b[43m_call_batch_end_hook\u001b[49m\u001b[43m(\u001b[49m\u001b[43mmode\u001b[49m\u001b[43m,\u001b[49m\u001b[43m \u001b[49m\u001b[43mbatch\u001b[49m\u001b[43m,\u001b[49m\u001b[43m \u001b[49m\u001b[43mlogs\u001b[49m\u001b[43m)\u001b[49m\n\u001b[1;32m    323\u001b[0m \u001b[38;5;28;01melse\u001b[39;00m:\n\u001b[1;32m    324\u001b[0m     \u001b[38;5;28;01mraise\u001b[39;00m \u001b[38;5;167;01mValueError\u001b[39;00m(\n\u001b[1;32m    325\u001b[0m         \u001b[38;5;124mf\u001b[39m\u001b[38;5;124m\"\u001b[39m\u001b[38;5;124mUnrecognized hook: \u001b[39m\u001b[38;5;132;01m{\u001b[39;00mhook\u001b[38;5;132;01m}\u001b[39;00m\u001b[38;5;124m. \u001b[39m\u001b[38;5;124m\"\u001b[39m\n\u001b[1;32m    326\u001b[0m         \u001b[38;5;124m'\u001b[39m\u001b[38;5;124mExpected values are [\u001b[39m\u001b[38;5;124m\"\u001b[39m\u001b[38;5;124mbegin\u001b[39m\u001b[38;5;124m\"\u001b[39m\u001b[38;5;124m, \u001b[39m\u001b[38;5;124m\"\u001b[39m\u001b[38;5;124mend\u001b[39m\u001b[38;5;124m\"\u001b[39m\u001b[38;5;124m]\u001b[39m\u001b[38;5;124m'\u001b[39m\n\u001b[1;32m    327\u001b[0m     )\n",
      "File \u001b[0;32m~/anaconda3/envs/tiny_yolo/lib/python3.10/site-packages/keras/src/callbacks.py:345\u001b[0m, in \u001b[0;36mCallbackList._call_batch_end_hook\u001b[0;34m(self, mode, batch, logs)\u001b[0m\n\u001b[1;32m    342\u001b[0m     batch_time \u001b[38;5;241m=\u001b[39m time\u001b[38;5;241m.\u001b[39mtime() \u001b[38;5;241m-\u001b[39m \u001b[38;5;28mself\u001b[39m\u001b[38;5;241m.\u001b[39m_batch_start_time\n\u001b[1;32m    343\u001b[0m     \u001b[38;5;28mself\u001b[39m\u001b[38;5;241m.\u001b[39m_batch_times\u001b[38;5;241m.\u001b[39mappend(batch_time)\n\u001b[0;32m--> 345\u001b[0m \u001b[38;5;28;43mself\u001b[39;49m\u001b[38;5;241;43m.\u001b[39;49m\u001b[43m_call_batch_hook_helper\u001b[49m\u001b[43m(\u001b[49m\u001b[43mhook_name\u001b[49m\u001b[43m,\u001b[49m\u001b[43m \u001b[49m\u001b[43mbatch\u001b[49m\u001b[43m,\u001b[49m\u001b[43m \u001b[49m\u001b[43mlogs\u001b[49m\u001b[43m)\u001b[49m\n\u001b[1;32m    347\u001b[0m \u001b[38;5;28;01mif\u001b[39;00m \u001b[38;5;28mlen\u001b[39m(\u001b[38;5;28mself\u001b[39m\u001b[38;5;241m.\u001b[39m_batch_times) \u001b[38;5;241m>\u001b[39m\u001b[38;5;241m=\u001b[39m \u001b[38;5;28mself\u001b[39m\u001b[38;5;241m.\u001b[39m_num_batches_for_timing_check:\n\u001b[1;32m    348\u001b[0m     end_hook_name \u001b[38;5;241m=\u001b[39m hook_name\n",
      "File \u001b[0;32m~/anaconda3/envs/tiny_yolo/lib/python3.10/site-packages/keras/src/callbacks.py:393\u001b[0m, in \u001b[0;36mCallbackList._call_batch_hook_helper\u001b[0;34m(self, hook_name, batch, logs)\u001b[0m\n\u001b[1;32m    391\u001b[0m \u001b[38;5;28;01mfor\u001b[39;00m callback \u001b[38;5;129;01min\u001b[39;00m \u001b[38;5;28mself\u001b[39m\u001b[38;5;241m.\u001b[39mcallbacks:\n\u001b[1;32m    392\u001b[0m     hook \u001b[38;5;241m=\u001b[39m \u001b[38;5;28mgetattr\u001b[39m(callback, hook_name)\n\u001b[0;32m--> 393\u001b[0m     \u001b[43mhook\u001b[49m\u001b[43m(\u001b[49m\u001b[43mbatch\u001b[49m\u001b[43m,\u001b[49m\u001b[43m \u001b[49m\u001b[43mlogs\u001b[49m\u001b[43m)\u001b[49m\n\u001b[1;32m    395\u001b[0m \u001b[38;5;28;01mif\u001b[39;00m \u001b[38;5;28mself\u001b[39m\u001b[38;5;241m.\u001b[39m_check_timing:\n\u001b[1;32m    396\u001b[0m     \u001b[38;5;28;01mif\u001b[39;00m hook_name \u001b[38;5;129;01mnot\u001b[39;00m \u001b[38;5;129;01min\u001b[39;00m \u001b[38;5;28mself\u001b[39m\u001b[38;5;241m.\u001b[39m_hook_times:\n",
      "File \u001b[0;32m~/anaconda3/envs/tiny_yolo/lib/python3.10/site-packages/keras/src/callbacks.py:1093\u001b[0m, in \u001b[0;36mProgbarLogger.on_train_batch_end\u001b[0;34m(self, batch, logs)\u001b[0m\n\u001b[1;32m   1092\u001b[0m \u001b[38;5;28;01mdef\u001b[39;00m \u001b[38;5;21mon_train_batch_end\u001b[39m(\u001b[38;5;28mself\u001b[39m, batch, logs\u001b[38;5;241m=\u001b[39m\u001b[38;5;28;01mNone\u001b[39;00m):\n\u001b[0;32m-> 1093\u001b[0m     \u001b[38;5;28;43mself\u001b[39;49m\u001b[38;5;241;43m.\u001b[39;49m\u001b[43m_batch_update_progbar\u001b[49m\u001b[43m(\u001b[49m\u001b[43mbatch\u001b[49m\u001b[43m,\u001b[49m\u001b[43m \u001b[49m\u001b[43mlogs\u001b[49m\u001b[43m)\u001b[49m\n",
      "File \u001b[0;32m~/anaconda3/envs/tiny_yolo/lib/python3.10/site-packages/keras/src/callbacks.py:1169\u001b[0m, in \u001b[0;36mProgbarLogger._batch_update_progbar\u001b[0;34m(self, batch, logs)\u001b[0m\n\u001b[1;32m   1165\u001b[0m     \u001b[38;5;28mself\u001b[39m\u001b[38;5;241m.\u001b[39mseen \u001b[38;5;241m+\u001b[39m\u001b[38;5;241m=\u001b[39m add_seen\n\u001b[1;32m   1167\u001b[0m \u001b[38;5;28;01mif\u001b[39;00m \u001b[38;5;28mself\u001b[39m\u001b[38;5;241m.\u001b[39mverbose \u001b[38;5;241m==\u001b[39m \u001b[38;5;241m1\u001b[39m:\n\u001b[1;32m   1168\u001b[0m     \u001b[38;5;66;03m# Only block async when verbose = 1.\u001b[39;00m\n\u001b[0;32m-> 1169\u001b[0m     logs \u001b[38;5;241m=\u001b[39m \u001b[43mtf_utils\u001b[49m\u001b[38;5;241;43m.\u001b[39;49m\u001b[43msync_to_numpy_or_python_type\u001b[49m\u001b[43m(\u001b[49m\u001b[43mlogs\u001b[49m\u001b[43m)\u001b[49m\n\u001b[1;32m   1170\u001b[0m     \u001b[38;5;28mself\u001b[39m\u001b[38;5;241m.\u001b[39mprogbar\u001b[38;5;241m.\u001b[39mupdate(\u001b[38;5;28mself\u001b[39m\u001b[38;5;241m.\u001b[39mseen, \u001b[38;5;28mlist\u001b[39m(logs\u001b[38;5;241m.\u001b[39mitems()), finalize\u001b[38;5;241m=\u001b[39m\u001b[38;5;28;01mFalse\u001b[39;00m)\n",
      "File \u001b[0;32m~/anaconda3/envs/tiny_yolo/lib/python3.10/site-packages/keras/src/utils/tf_utils.py:694\u001b[0m, in \u001b[0;36msync_to_numpy_or_python_type\u001b[0;34m(tensors)\u001b[0m\n\u001b[1;32m    691\u001b[0m         \u001b[38;5;28;01mreturn\u001b[39;00m t\n\u001b[1;32m    692\u001b[0m     \u001b[38;5;28;01mreturn\u001b[39;00m t\u001b[38;5;241m.\u001b[39mitem() \u001b[38;5;28;01mif\u001b[39;00m np\u001b[38;5;241m.\u001b[39mndim(t) \u001b[38;5;241m==\u001b[39m \u001b[38;5;241m0\u001b[39m \u001b[38;5;28;01melse\u001b[39;00m t\n\u001b[0;32m--> 694\u001b[0m \u001b[38;5;28;01mreturn\u001b[39;00m \u001b[43mtf\u001b[49m\u001b[38;5;241;43m.\u001b[39;49m\u001b[43mnest\u001b[49m\u001b[38;5;241;43m.\u001b[39;49m\u001b[43mmap_structure\u001b[49m\u001b[43m(\u001b[49m\u001b[43m_to_single_numpy_or_python_type\u001b[49m\u001b[43m,\u001b[49m\u001b[43m \u001b[49m\u001b[43mtensors\u001b[49m\u001b[43m)\u001b[49m\n",
      "File \u001b[0;32m~/anaconda3/envs/tiny_yolo/lib/python3.10/site-packages/tensorflow/python/util/nest.py:631\u001b[0m, in \u001b[0;36mmap_structure\u001b[0;34m(func, *structure, **kwargs)\u001b[0m\n\u001b[1;32m    545\u001b[0m \u001b[38;5;129m@tf_export\u001b[39m(\u001b[38;5;124m\"\u001b[39m\u001b[38;5;124mnest.map_structure\u001b[39m\u001b[38;5;124m\"\u001b[39m)\n\u001b[1;32m    546\u001b[0m \u001b[38;5;28;01mdef\u001b[39;00m \u001b[38;5;21mmap_structure\u001b[39m(func, \u001b[38;5;241m*\u001b[39mstructure, \u001b[38;5;241m*\u001b[39m\u001b[38;5;241m*\u001b[39mkwargs):\n\u001b[1;32m    547\u001b[0m \u001b[38;5;250m  \u001b[39m\u001b[38;5;124;03m\"\"\"Creates a new structure by applying `func` to each atom in `structure`.\u001b[39;00m\n\u001b[1;32m    548\u001b[0m \n\u001b[1;32m    549\u001b[0m \u001b[38;5;124;03m  Refer to [tf.nest](https://www.tensorflow.org/api_docs/python/tf/nest)\u001b[39;00m\n\u001b[0;32m   (...)\u001b[0m\n\u001b[1;32m    629\u001b[0m \u001b[38;5;124;03m    ValueError: If wrong keyword arguments are provided.\u001b[39;00m\n\u001b[1;32m    630\u001b[0m \u001b[38;5;124;03m  \"\"\"\u001b[39;00m\n\u001b[0;32m--> 631\u001b[0m   \u001b[38;5;28;01mreturn\u001b[39;00m \u001b[43mnest_util\u001b[49m\u001b[38;5;241;43m.\u001b[39;49m\u001b[43mmap_structure\u001b[49m\u001b[43m(\u001b[49m\n\u001b[1;32m    632\u001b[0m \u001b[43m      \u001b[49m\u001b[43mnest_util\u001b[49m\u001b[38;5;241;43m.\u001b[39;49m\u001b[43mModality\u001b[49m\u001b[38;5;241;43m.\u001b[39;49m\u001b[43mCORE\u001b[49m\u001b[43m,\u001b[49m\u001b[43m \u001b[49m\u001b[43mfunc\u001b[49m\u001b[43m,\u001b[49m\u001b[43m \u001b[49m\u001b[38;5;241;43m*\u001b[39;49m\u001b[43mstructure\u001b[49m\u001b[43m,\u001b[49m\u001b[43m \u001b[49m\u001b[38;5;241;43m*\u001b[39;49m\u001b[38;5;241;43m*\u001b[39;49m\u001b[43mkwargs\u001b[49m\n\u001b[1;32m    633\u001b[0m \u001b[43m  \u001b[49m\u001b[43m)\u001b[49m\n",
      "File \u001b[0;32m~/anaconda3/envs/tiny_yolo/lib/python3.10/site-packages/tensorflow/python/util/nest_util.py:1066\u001b[0m, in \u001b[0;36mmap_structure\u001b[0;34m(modality, func, *structure, **kwargs)\u001b[0m\n\u001b[1;32m    969\u001b[0m \u001b[38;5;250m\u001b[39m\u001b[38;5;124;03m\"\"\"Creates a new structure by applying `func` to each atom in `structure`.\u001b[39;00m\n\u001b[1;32m    970\u001b[0m \n\u001b[1;32m    971\u001b[0m \u001b[38;5;124;03m- For Modality.CORE: Refer to\u001b[39;00m\n\u001b[0;32m   (...)\u001b[0m\n\u001b[1;32m   1063\u001b[0m \u001b[38;5;124;03m  ValueError: If wrong keyword arguments are provided.\u001b[39;00m\n\u001b[1;32m   1064\u001b[0m \u001b[38;5;124;03m\"\"\"\u001b[39;00m\n\u001b[1;32m   1065\u001b[0m \u001b[38;5;28;01mif\u001b[39;00m modality \u001b[38;5;241m==\u001b[39m Modality\u001b[38;5;241m.\u001b[39mCORE:\n\u001b[0;32m-> 1066\u001b[0m   \u001b[38;5;28;01mreturn\u001b[39;00m \u001b[43m_tf_core_map_structure\u001b[49m\u001b[43m(\u001b[49m\u001b[43mfunc\u001b[49m\u001b[43m,\u001b[49m\u001b[43m \u001b[49m\u001b[38;5;241;43m*\u001b[39;49m\u001b[43mstructure\u001b[49m\u001b[43m,\u001b[49m\u001b[43m \u001b[49m\u001b[38;5;241;43m*\u001b[39;49m\u001b[38;5;241;43m*\u001b[39;49m\u001b[43mkwargs\u001b[49m\u001b[43m)\u001b[49m\n\u001b[1;32m   1067\u001b[0m \u001b[38;5;28;01melif\u001b[39;00m modality \u001b[38;5;241m==\u001b[39m Modality\u001b[38;5;241m.\u001b[39mDATA:\n\u001b[1;32m   1068\u001b[0m   \u001b[38;5;28;01mreturn\u001b[39;00m _tf_data_map_structure(func, \u001b[38;5;241m*\u001b[39mstructure, \u001b[38;5;241m*\u001b[39m\u001b[38;5;241m*\u001b[39mkwargs)\n",
      "File \u001b[0;32m~/anaconda3/envs/tiny_yolo/lib/python3.10/site-packages/tensorflow/python/util/nest_util.py:1106\u001b[0m, in \u001b[0;36m_tf_core_map_structure\u001b[0;34m(func, *structure, **kwargs)\u001b[0m\n\u001b[1;32m   1101\u001b[0m flat_structure \u001b[38;5;241m=\u001b[39m (_tf_core_flatten(s, expand_composites) \u001b[38;5;28;01mfor\u001b[39;00m s \u001b[38;5;129;01min\u001b[39;00m structure)\n\u001b[1;32m   1102\u001b[0m entries \u001b[38;5;241m=\u001b[39m \u001b[38;5;28mzip\u001b[39m(\u001b[38;5;241m*\u001b[39mflat_structure)\n\u001b[1;32m   1104\u001b[0m \u001b[38;5;28;01mreturn\u001b[39;00m _tf_core_pack_sequence_as(\n\u001b[1;32m   1105\u001b[0m     structure[\u001b[38;5;241m0\u001b[39m],\n\u001b[0;32m-> 1106\u001b[0m     [func(\u001b[38;5;241m*\u001b[39mx) \u001b[38;5;28;01mfor\u001b[39;00m x \u001b[38;5;129;01min\u001b[39;00m entries],\n\u001b[1;32m   1107\u001b[0m     expand_composites\u001b[38;5;241m=\u001b[39mexpand_composites,\n\u001b[1;32m   1108\u001b[0m )\n",
      "File \u001b[0;32m~/anaconda3/envs/tiny_yolo/lib/python3.10/site-packages/tensorflow/python/util/nest_util.py:1106\u001b[0m, in \u001b[0;36m<listcomp>\u001b[0;34m(.0)\u001b[0m\n\u001b[1;32m   1101\u001b[0m flat_structure \u001b[38;5;241m=\u001b[39m (_tf_core_flatten(s, expand_composites) \u001b[38;5;28;01mfor\u001b[39;00m s \u001b[38;5;129;01min\u001b[39;00m structure)\n\u001b[1;32m   1102\u001b[0m entries \u001b[38;5;241m=\u001b[39m \u001b[38;5;28mzip\u001b[39m(\u001b[38;5;241m*\u001b[39mflat_structure)\n\u001b[1;32m   1104\u001b[0m \u001b[38;5;28;01mreturn\u001b[39;00m _tf_core_pack_sequence_as(\n\u001b[1;32m   1105\u001b[0m     structure[\u001b[38;5;241m0\u001b[39m],\n\u001b[0;32m-> 1106\u001b[0m     [\u001b[43mfunc\u001b[49m\u001b[43m(\u001b[49m\u001b[38;5;241;43m*\u001b[39;49m\u001b[43mx\u001b[49m\u001b[43m)\u001b[49m \u001b[38;5;28;01mfor\u001b[39;00m x \u001b[38;5;129;01min\u001b[39;00m entries],\n\u001b[1;32m   1107\u001b[0m     expand_composites\u001b[38;5;241m=\u001b[39mexpand_composites,\n\u001b[1;32m   1108\u001b[0m )\n",
      "File \u001b[0;32m~/anaconda3/envs/tiny_yolo/lib/python3.10/site-packages/keras/src/utils/tf_utils.py:687\u001b[0m, in \u001b[0;36msync_to_numpy_or_python_type.<locals>._to_single_numpy_or_python_type\u001b[0;34m(t)\u001b[0m\n\u001b[1;32m    684\u001b[0m \u001b[38;5;28;01mdef\u001b[39;00m \u001b[38;5;21m_to_single_numpy_or_python_type\u001b[39m(t):\n\u001b[1;32m    685\u001b[0m     \u001b[38;5;66;03m# Don't turn ragged or sparse tensors to NumPy.\u001b[39;00m\n\u001b[1;32m    686\u001b[0m     \u001b[38;5;28;01mif\u001b[39;00m \u001b[38;5;28misinstance\u001b[39m(t, tf\u001b[38;5;241m.\u001b[39mTensor):\n\u001b[0;32m--> 687\u001b[0m         t \u001b[38;5;241m=\u001b[39m \u001b[43mt\u001b[49m\u001b[38;5;241;43m.\u001b[39;49m\u001b[43mnumpy\u001b[49m\u001b[43m(\u001b[49m\u001b[43m)\u001b[49m\n\u001b[1;32m    688\u001b[0m     \u001b[38;5;66;03m# Strings, ragged and sparse tensors don't have .item(). Return them\u001b[39;00m\n\u001b[1;32m    689\u001b[0m     \u001b[38;5;66;03m# as-is.\u001b[39;00m\n\u001b[1;32m    690\u001b[0m     \u001b[38;5;28;01mif\u001b[39;00m \u001b[38;5;129;01mnot\u001b[39;00m \u001b[38;5;28misinstance\u001b[39m(t, (np\u001b[38;5;241m.\u001b[39mndarray, np\u001b[38;5;241m.\u001b[39mgeneric)):\n",
      "File \u001b[0;32m~/anaconda3/envs/tiny_yolo/lib/python3.10/site-packages/tensorflow/python/framework/ops.py:394\u001b[0m, in \u001b[0;36m_EagerTensorBase.numpy\u001b[0;34m(self)\u001b[0m\n\u001b[1;32m    371\u001b[0m \u001b[38;5;250m\u001b[39m\u001b[38;5;124;03m\"\"\"Copy of the contents of this Tensor into a NumPy array or scalar.\u001b[39;00m\n\u001b[1;32m    372\u001b[0m \n\u001b[1;32m    373\u001b[0m \u001b[38;5;124;03mUnlike NumPy arrays, Tensors are immutable, so this method has to copy\u001b[39;00m\n\u001b[0;32m   (...)\u001b[0m\n\u001b[1;32m    391\u001b[0m \u001b[38;5;124;03m    NumPy dtype.\u001b[39;00m\n\u001b[1;32m    392\u001b[0m \u001b[38;5;124;03m\"\"\"\u001b[39;00m\n\u001b[1;32m    393\u001b[0m \u001b[38;5;66;03m# TODO(slebedev): Consider avoiding a copy for non-CPU or remote tensors.\u001b[39;00m\n\u001b[0;32m--> 394\u001b[0m maybe_arr \u001b[38;5;241m=\u001b[39m \u001b[38;5;28;43mself\u001b[39;49m\u001b[38;5;241;43m.\u001b[39;49m\u001b[43m_numpy\u001b[49m\u001b[43m(\u001b[49m\u001b[43m)\u001b[49m  \u001b[38;5;66;03m# pylint: disable=protected-access\u001b[39;00m\n\u001b[1;32m    395\u001b[0m \u001b[38;5;28;01mreturn\u001b[39;00m maybe_arr\u001b[38;5;241m.\u001b[39mcopy() \u001b[38;5;28;01mif\u001b[39;00m \u001b[38;5;28misinstance\u001b[39m(maybe_arr, np\u001b[38;5;241m.\u001b[39mndarray) \u001b[38;5;28;01melse\u001b[39;00m maybe_arr\n",
      "File \u001b[0;32m~/anaconda3/envs/tiny_yolo/lib/python3.10/site-packages/tensorflow/python/framework/ops.py:360\u001b[0m, in \u001b[0;36m_EagerTensorBase._numpy\u001b[0;34m(self)\u001b[0m\n\u001b[1;32m    358\u001b[0m \u001b[38;5;28;01mdef\u001b[39;00m \u001b[38;5;21m_numpy\u001b[39m(\u001b[38;5;28mself\u001b[39m):\n\u001b[1;32m    359\u001b[0m   \u001b[38;5;28;01mtry\u001b[39;00m:\n\u001b[0;32m--> 360\u001b[0m     \u001b[38;5;28;01mreturn\u001b[39;00m \u001b[38;5;28;43mself\u001b[39;49m\u001b[38;5;241;43m.\u001b[39;49m\u001b[43m_numpy_internal\u001b[49m\u001b[43m(\u001b[49m\u001b[43m)\u001b[49m\n\u001b[1;32m    361\u001b[0m   \u001b[38;5;28;01mexcept\u001b[39;00m core\u001b[38;5;241m.\u001b[39m_NotOkStatusException \u001b[38;5;28;01mas\u001b[39;00m e:  \u001b[38;5;66;03m# pylint: disable=protected-access\u001b[39;00m\n\u001b[1;32m    362\u001b[0m     \u001b[38;5;28;01mraise\u001b[39;00m core\u001b[38;5;241m.\u001b[39m_status_to_exception(e) \u001b[38;5;28;01mfrom\u001b[39;00m \u001b[38;5;28;01mNone\u001b[39;00m\n",
      "\u001b[0;31mKeyboardInterrupt\u001b[0m: "
     ]
    }
   ],
   "source": [
    "# Assuming you've already prepared train_dataset and val_dataset as shown previously\n",
    "\n",
    "# Fit the model\n",
    "history = model.fit(\n",
    "    dataset,  # Training data\n",
    "    epochs=num_epochs\n",
    "    \n",
    "        # Add other callbacks here as needed, such as ModelCheckpoint or ReduceLROnPlateau\n",
    "    \n",
    ")\n",
    "\n",
    "\n",
    "\n"
   ]
  },
  {
   "cell_type": "code",
   "execution_count": 49,
   "metadata": {},
   "outputs": [
    {
     "name": "stderr",
     "output_type": "stream",
     "text": [
      "/home/m3-learning/anaconda3/envs/tiny_yolo/lib/python3.10/site-packages/keras/src/engine/training.py:3103: UserWarning: You are saving your model as an HDF5 file via `model.save()`. This file format is considered legacy. We recommend using instead the native Keras format, e.g. `model.save('my_model.keras')`.\n",
      "  saving_api.save_model(\n"
     ]
    }
   ],
   "source": [
    "#model.save('modelM12withnoBN.h5')\n",
    "\n"
   ]
  },
  {
   "cell_type": "code",
   "execution_count": 9,
   "metadata": {},
   "outputs": [],
   "source": [
    "loaded_model = tf.keras.models.load_model('modelM12withnoBN.h5')\n"
   ]
  },
  {
   "cell_type": "code",
   "execution_count": 10,
   "metadata": {},
   "outputs": [
    {
     "data": {
      "text/plain": [
       "(10000, 280, 5)"
      ]
     },
     "execution_count": 10,
     "metadata": {},
     "output_type": "execute_result"
    }
   ],
   "source": [
    "boxes.shape"
   ]
  },
  {
   "cell_type": "code",
   "execution_count": 33,
   "metadata": {},
   "outputs": [
    {
     "name": "stdout",
     "output_type": "stream",
     "text": [
      "194/194 [==============================] - 2s 12ms/step\n"
     ]
    }
   ],
   "source": [
    "dataset = tf.data.Dataset.from_tensor_slices((images_np,{'x_prob_reshape':probabilities,'x_boxes_reshape':boxes_np}))\n",
    "\n",
    "dataset = dataset.batch(6200)\n",
    "#dataset = dataset.shuffle(buffer_size=1000, reshuffle_each_iteration=True) \n",
    "inputs,targets = next(iter(dataset))\n",
    "output = model.predict(inputs)"
   ]
  },
  {
   "cell_type": "code",
   "execution_count": 20,
   "metadata": {},
   "outputs": [
    {
     "data": {
      "text/plain": [
       "<tf.Tensor: shape=(1, 280, 4), dtype=float64, numpy=\n",
       "array([[[0.734375, 0.015625, 0.734375, 0.03125 ],\n",
       "        [0.      , 0.      , 0.      , 0.      ],\n",
       "        [0.      , 0.      , 0.      , 0.      ],\n",
       "        ...,\n",
       "        [0.      , 0.      , 0.      , 0.      ],\n",
       "        [0.      , 0.      , 0.      , 0.      ],\n",
       "        [0.      , 0.      , 0.      , 0.      ]]])>"
      ]
     },
     "execution_count": 20,
     "metadata": {},
     "output_type": "execute_result"
    }
   ],
   "source": [
    "targets['x_boxes_reshape'][0]"
   ]
  },
  {
   "cell_type": "code",
   "execution_count": 21,
   "metadata": {},
   "outputs": [
    {
     "data": {
      "text/plain": [
       "array([[[1.0000000e+00, 7.2822481e-01, 1.0000000e+00, 7.0619828e-01],\n",
       "        [7.1303678e-01, 1.2970885e-04, 8.1124562e-01, 5.8743940e-04],\n",
       "        [8.3973110e-03, 5.3547724e-06, 1.4405793e-03, 5.6630233e-07],\n",
       "        ...,\n",
       "        [8.9156987e-05, 2.6598404e-05, 1.3588786e-05, 5.7922007e-05],\n",
       "        [4.3181117e-05, 9.7729735e-06, 5.1067425e-05, 1.7856942e-06],\n",
       "        [5.7388745e-05, 7.2670955e-06, 5.2524541e-05, 4.1765853e-09]]],\n",
       "      dtype=float32)"
      ]
     },
     "execution_count": 21,
     "metadata": {},
     "output_type": "execute_result"
    }
   ],
   "source": [
    "output[1][0]"
   ]
  },
  {
   "cell_type": "code",
   "execution_count": 35,
   "metadata": {},
   "outputs": [
    {
     "name": "stdout",
     "output_type": "stream",
     "text": [
      "MSE Loss: 0.014516038896329278\n"
     ]
    }
   ],
   "source": [
    "import tensorflow as tf\n",
    "\n",
    "r = np.random.randint(0,100)\n",
    "tensor1 = tf.constant(targets['x_boxes_reshape'], dtype=tf.float64)\n",
    "\n",
    "tensor2 = tf.constant(output[1], dtype=tf.float32)\n",
    "\n",
    "\n",
    "tensor2 = tf.cast(tensor2, tf.float64)\n",
    "\n",
    "\n",
    "mse_loss_fn =  tf.keras.losses.MeanSquaredError()\n",
    "mse_loss = mse_loss_fn(tensor1, tensor2)\n",
    "\n",
    "print(\"MSE Loss:\", mse_loss.numpy())\n"
   ]
  },
  {
   "cell_type": "code",
   "execution_count": 48,
   "metadata": {},
   "outputs": [
    {
     "data": {
      "image/png": "[encoded data removed]",
      "text/plain": [
       "<Figure size 400x400 with 1 Axes>"
      ]
     },
     "metadata": {},
     "output_type": "display_data"
    },
    {
     "data": {
      "image/png": "[encoded data removed]",
      "text/plain": [
       "<Figure size 400x400 with 1 Axes>"
      ]
     },
     "metadata": {},
     "output_type": "display_data"
    }
   ],
   "source": [
    "def visualize_bounding_boxes(image, probability_vector, bounding_box_coordinates, threshold=0.9):\n",
    "    \"\"\"\n",
    "    Visualizes bounding boxes on an image based on a probability vector.\n",
    "\n",
    "    Parameters:\n",
    "    - image: A 3D tensor representing the image.\n",
    "    - probability_vector: A 1D tensor representing the probabilities associated with bounding boxes.\n",
    "    - bounding_box_coordinates: A 2D tensor representing bounding box coordinates.\n",
    "    - threshold: Probability threshold for visualization.\n",
    "\n",
    "    Returns:\n",
    "    None (displays the image with bounding boxes).\n",
    "    \"\"\"\n",
    "    # Convert to NumPy arrays for easier handling\n",
    "    image_np = image\n",
    "    prob_vector_np = probability_vector\n",
    "    bbox_coordinates_np = bounding_box_coordinates\n",
    "   # Denormalize image if necessary (adjust based on your normalization method)\n",
    "    denormalized_image = image_np  # Modify if normalization was applied during training\n",
    "\n",
    "    # Visualize the image\n",
    "    plt.figure(figsize=(4, 4))\n",
    "    plt.imshow(denormalized_image, cmap='gray')\n",
    "    plt.title(\"Bounding Box Visualization\")\n",
    "\n",
    "    # Plot bounding boxes based on probability threshold\n",
    "    for i in range(len(prob_vector_np)):\n",
    "        prob = prob_vector_np[i]\n",
    "        bbox = bbox_coordinates_np[i]\n",
    "        if prob > threshold:\n",
    "            # Denormalize bounding box coordinates if necessary\n",
    "            denormalized_bbox = bbox  # Modify if normalization was applied during training\n",
    "            y1, x1, y2, x2 = denormalized_bbox\n",
    "            plt.plot([x1, x2, x2, x1, x1],[y1, y1, y2, y2, y1],\n",
    "                     \n",
    "                     color='r', linewidth=2, label='Bounding Box')\n",
    "\n",
    "   \n",
    "\n",
    "\n",
    "\n",
    "\n",
    "\n",
    "\n",
    "   \n",
    "    plt.show()\n",
    "\n",
    "t = np.random.randint(0,400)\n",
    "\n",
    "\n",
    "visualize_bounding_boxes(tf.convert_to_tensor(inputs[t]), probabilities.numpy()[t].squeeze(), tf.convert_to_tensor(output[1][t,0,:,:])*[64,64,64,64]) ##myprediction\n",
    "visualize_bounding_boxes(tf.convert_to_tensor(image_normalized[t]), probabilities.numpy()[t].squeeze(), tf.convert_to_tensor(boxes_np[t,0,:,:])*[64,64,64,64]) ##myprediction\n",
    "\n",
    "\n",
    "\n"
   ]
  },
  {
   "cell_type": "code",
   "execution_count": null,
   "metadata": {},
   "outputs": [],
   "source": []
  }
 ],
 "metadata": {
  "kernelspec": {
   "display_name": "tiny_yolo",
   "language": "python",
   "name": "python3"
  },
  "language_info": {
   "codemirror_mode": {
    "name": "ipython",
    "version": 3
   },
   "file_extension": ".py",
   "mimetype": "text/x-python",
   "name": "python",
   "nbconvert_exporter": "python",
   "pygments_lexer": "ipython3",
   "version": "3.10.13"
  }
 },
 "nbformat": 4,
 "nbformat_minor": 2
}
