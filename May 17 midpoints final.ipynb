{
 "cells": [
  {
   "cell_type": "markdown",
   "metadata": {},
   "source": [
    "### Load dependencies"
   ]
  },
  {
   "cell_type": "code",
   "execution_count": 1,
   "metadata": {},
   "outputs": [
    {
     "name": "stderr",
     "output_type": "stream",
     "text": [
      "2024-05-17 16:03:16.649386: I tensorflow/core/util/port.cc:113] oneDNN custom operations are on. You may see slightly different numerical results due to floating-point round-off errors from different computation orders. To turn them off, set the environment variable `TF_ENABLE_ONEDNN_OPTS=0`.\n",
      "2024-05-17 16:03:16.687989: E external/local_xla/xla/stream_executor/cuda/cuda_dnn.cc:9261] Unable to register cuDNN factory: Attempting to register factory for plugin cuDNN when one has already been registered\n",
      "2024-05-17 16:03:16.688023: E external/local_xla/xla/stream_executor/cuda/cuda_fft.cc:607] Unable to register cuFFT factory: Attempting to register factory for plugin cuFFT when one has already been registered\n",
      "2024-05-17 16:03:16.689227: E external/local_xla/xla/stream_executor/cuda/cuda_blas.cc:1515] Unable to register cuBLAS factory: Attempting to register factory for plugin cuBLAS when one has already been registered\n",
      "2024-05-17 16:03:16.695529: I tensorflow/core/platform/cpu_feature_guard.cc:182] This TensorFlow binary is optimized to use available CPU instructions in performance-critical operations.\n",
      "To enable the following instructions: AVX2 AVX512F AVX512_VNNI FMA, in other operations, rebuild TensorFlow with the appropriate compiler flags.\n",
      "2024-05-17 16:03:17.473787: W tensorflow/compiler/tf2tensorrt/utils/py_utils.cc:38] TF-TRT Warning: Could not find TensorRT\n",
      "2024-05-17 16:03:18.621883: I tensorflow/core/common_runtime/gpu/gpu_device.cc:1929] Created device /job:localhost/replica:0/task:0/device:GPU:0 with 21614 MB memory:  -> device: 0, name: NVIDIA GeForce RTX 3090, pci bus id: 0000:68:00.0, compute capability: 8.6\n"
     ]
    }
   ],
   "source": [
    "import numpy as np\n",
    "import tensorflow as tf\n",
    "from tensorflow.keras import layers, models\n",
    "\n",
    "import matplotlib.pyplot as plt\n",
    "import h5py\n",
    "\n",
    "\n",
    "\n",
    "\n",
    "# Configure Keras to use GPU\n",
    "config = tf.compat.v1.ConfigProto()\n",
    "config.gpu_options.allow_growth = True\n",
    "sess = tf.compat.v1.Session(config=config)\n",
    "tf.compat.v1.keras.backend.set_session(sess)"
   ]
  },
  {
   "cell_type": "markdown",
   "metadata": {},
   "source": [
    "### Data Loading and processing"
   ]
  },
  {
   "cell_type": "code",
   "execution_count": 2,
   "metadata": {},
   "outputs": [
    {
     "name": "stderr",
     "output_type": "stream",
     "text": [
      "2024-05-17 16:03:20.620005: I tensorflow/core/common_runtime/gpu/gpu_device.cc:1929] Created device /job:localhost/replica:0/task:0/device:GPU:0 with 21614 MB memory:  -> device: 0, name: NVIDIA GeForce RTX 3090, pci bus id: 0000:68:00.0, compute capability: 8.6\n"
     ]
    }
   ],
   "source": [
    "with h5py.File('TrainingData5zeroes midpoints.h5', 'r') as hdf:\n",
    "    ls = list(hdf.keys())\n",
    "    images = hdf.get('images')\n",
    "    # boxes = hdf.get('boxes')\n",
    "    center_coordinates = hdf.get('center_coordinates')\n",
    "    images = np.array(images)\n",
    "    # boxes = np.array(boxes)\n",
    "    center_coordinates = np.array(center_coordinates)\n",
    "\n",
    "image_normalized = (images + 1e-9) / 9.26\n",
    "# normalized_boxes = boxes / [1, 64, 64, 64, 64]\n",
    "\n",
    "images_np = image_normalized\n",
    "center_coordinates = center_coordinates / [1,64, 64]  # Normalizing the center coordinates\n",
    "probabilities = np.array(center_coordinates[:,:, :-2])\n",
    "probabilities = tf.expand_dims(probabilities, axis=1)\n",
    "center_coordinates_np = np.array(center_coordinates[:, :, 1:])\n",
    "center_coordinates_np = tf.expand_dims(center_coordinates_np, axis=1)\n",
    "batch_size = 128\n",
    "dataset = tf.data.Dataset.from_tensor_slices((images_np, {'x_prob_reshape': probabilities, 'x_midpoints_reshape': center_coordinates_np}))\n",
    "# dataset = dataset.shuffle(buffer_size=10000).batch(batch_size)\n",
    "total_items = len(images_np)\n",
    "train_size = int(total_items * 0.6)\n",
    "test_size = total_items - train_size \n",
    "\n",
    "    # Splitting the dataset\n",
    "train_dataset = dataset.take(train_size)\n",
    "test_dataset = dataset.skip(train_size)\n",
    "\n",
    "\n",
    "train_dataset = train_dataset.shuffle(buffer_size=train_size,reshuffle_each_iteration=True)\n",
    "train_dataset = train_dataset.batch(batch_size)\n",
    "test_dataset = test_dataset.batch(batch_size) "
   ]
  },
  {
   "cell_type": "markdown",
   "metadata": {},
   "source": [
    "### Model Definition"
   ]
  },
  {
   "cell_type": "code",
   "execution_count": 3,
   "metadata": {},
   "outputs": [],
   "source": [
    "input_shape = (64, 64, 1)\n",
    "num_classes = 280\n",
    "num_coordinates = 2\n",
    "\n",
    "\n",
    "x_input = layers.Input(shape=input_shape)\n",
    "#Layer 1\n",
    "x = layers.Conv2D(64, kernel_size=3, padding='same', activation='relu')(x_input)\n",
    "x = layers.MaxPool2D()(x)\n",
    "x = layers.BatchNormalization()(x) \n",
    "x = layers.Conv2D(64, kernel_size=3, padding='same', activation='relu')(x)\n",
    "\n",
    "#Layer 2\n",
    "x = layers.Conv2D(128, kernel_size=3, padding='same', activation='relu')(x)\n",
    "x = layers.Conv2D(128, kernel_size=3, padding='same', activation='relu')(x)\n",
    "\n",
    "#Layer 3\n",
    "x = layers.Conv2D(256, kernel_size=3, padding='same', activation='relu')(x)\n",
    "x = layers.Conv2D(256, kernel_size=3, padding='same', activation='relu')(x)\n",
    "\n",
    "#Layer 4\n",
    "x = layers.Conv2D(512, kernel_size=3, padding='same', activation='relu')(x)\n",
    "x = layers.MaxPool2D()(x)\n",
    "x = layers.Conv2D(512, kernel_size=3, padding='same', activation='relu')(x)\n",
    "x = layers.MaxPool2D()(x)\n",
    "x = layers.Conv2D(512, kernel_size=3, padding='same', activation='relu')(x)\n",
    "x = layers.MaxPool2D()(x)\n",
    "\n",
    "#Layer 5\n",
    "x = layers.Conv2D(256, kernel_size=5, padding='same', activation='relu')(x)\n",
    "x = layers.MaxPool2D()(x)\n",
    "x = layers.BatchNormalization()(x) \n",
    "\n",
    "\n",
    "x = layers.Flatten()(x)\n",
    "# Probability output\n",
    "x_prob = layers.Dense(num_classes, activation='sigmoid', name='x_prob')(x)\n",
    "x_prob_reshape = layers.Reshape((-1, num_classes, 1), name='x_prob_reshape')(x_prob)\n",
    "\n",
    "# Bounding box output\n",
    "x_midpoints = layers.Dense(num_classes * num_coordinates, activation='sigmoid', name='x_midpoints')(x)\n",
    "x_midpoints_reshape = layers.Reshape((-1, num_classes, num_coordinates), name='x_midpoints_reshape')(x_midpoints)\n",
    "\n",
    "\n",
    "\n",
    "\n",
    "model = tf.keras.models.Model(x_input, [x_prob_reshape, x_midpoints_reshape])\n",
    "optimizer = tf.keras.optimizers.Adam(learning_rate=3e-5) \n",
    "model.compile(optimizer= optimizer, loss= {'x_prob_reshape': tf.keras.losses.BinaryCrossentropy(), 'x_midpoints_reshape':tf.keras.losses.MeanSquaredError()}, metrics=['accuracy'])    \n",
    "# num_epochs = 2500"
   ]
  },
  {
   "cell_type": "code",
   "execution_count": 139,
   "metadata": {},
   "outputs": [],
   "source": [
    "# t=np.random.randint(0,10)\n",
    "# r = np.random.randint(0,10)\n",
    "# # example = np.load('/home/m3-learning/Documents/myML/ValidationData-20231107T163458Z-001/ValidationData/Stack039.npz')['X'][t,r]\n",
    "# gt = np.load('/home/m3-learning/Documents/myML/ValidationData-20231107T163458Z-001/ValidationData/Stack001.npz')['y'][0,0]\n",
    "# gt = tf.expand_dims(gt, axis=0)\n",
    "# newcoords = np.loadtxt('/home/m3-learning/Documents/myML/electron_coordinatesforStack001y00.csv', delimiter=',')\n",
    "# newcoords = tf.expand_dims(newcoords, axis=0)\n",
    "# dataset = tf.data.Dataset.from_tensor_slices((gt,newcoords))\n",
    "# dataset = dataset.shuffle(buffer_size=10).batch(1)"
   ]
  },
  {
   "cell_type": "code",
   "execution_count": 126,
   "metadata": {},
   "outputs": [
    {
     "data": {
      "text/plain": [
       "TensorShape([1, 145, 2])"
      ]
     },
     "execution_count": 126,
     "metadata": {},
     "output_type": "execute_result"
    }
   ],
   "source": [
    "newcoords.shape"
   ]
  },
  {
   "cell_type": "code",
   "execution_count": 5,
   "metadata": {},
   "outputs": [],
   "source": [
    "# model = tf.keras.models.Model(x_input, x_midpoints_reshape)\n",
    "# optimizer = tf.keras.optimizers.Adam(learning_rate=3e-5) \n",
    "# model.compile(optimizer= optimizer, loss= tf.keras.losses.MeanSquaredError()) \n",
    "# model.fit(dataset, epochs=2)\n",
    "\n",
    "loadedmodel = tf.keras.models.load_model(\"/home/m3-learning/Documents/Research Data/Derrick's Object Detection/Models/midpoint3.keras\")"
   ]
  },
  {
   "cell_type": "code",
   "execution_count": 7,
   "metadata": {},
   "outputs": [
    {
     "name": "stderr",
     "output_type": "stream",
     "text": [
      "2024-05-17 16:05:06.540850: I external/local_xla/xla/stream_executor/cuda/cuda_dnn.cc:454] Loaded cuDNN version 8904\n",
      "2024-05-17 16:05:06.708119: I external/local_tsl/tsl/platform/default/subprocess.cc:304] Start cannot spawn child process: No such file or directory\n"
     ]
    },
    {
     "name": "stdout",
     "output_type": "stream",
     "text": [
      " 14/125 [==>...........................] - ETA: 0s"
     ]
    },
    {
     "name": "stderr",
     "output_type": "stream",
     "text": [
      "2024-05-17 16:05:07.111033: I external/local_tsl/tsl/platform/default/subprocess.cc:304] Start cannot spawn child process: No such file or directory\n"
     ]
    },
    {
     "name": "stdout",
     "output_type": "stream",
     "text": [
      "125/125 [==============================] - 2s 9ms/step\n"
     ]
    }
   ],
   "source": [
    "\n",
    "dataset = tf.data.Dataset.from_tensor_slices((images_np, {'x_prob_reshape': probabilities, 'x_midpoints_reshape': center_coordinates_np}))\n",
    "# dataset = dataset.batch(1000)\n",
    "test_dataset = dataset.take(test_size)\n",
    "# test_dataset = test_dataset.shuffle(buffer_size=10000,reshuffle_each_iteration=True)\n",
    "test_dataset = test_dataset.batch(test_size)\n",
    "# train_dataset = dataset.take(train_size)\n",
    "# # train_dataset = train_dataset.shuffle(buffer_size=10000,reshuffle_each_iteration=True)\n",
    "# train_dataset = train_dataset.batch(train_size)\n",
    "inputs,targets = next(iter(test_dataset))\n",
    "output =loadedmodel.predict(inputs)"
   ]
  },
  {
   "cell_type": "code",
   "execution_count": 136,
   "metadata": {},
   "outputs": [
    {
     "data": {
      "text/plain": [
       "array([[[[0.50018847, 0.49988422],\n",
       "         [0.4999133 , 0.5012618 ],\n",
       "         [0.49983162, 0.49992698],\n",
       "         [0.50032353, 0.50018895],\n",
       "         [0.50016123, 0.5001194 ],\n",
       "         [0.49998653, 0.5001484 ],\n",
       "         [0.50059676, 0.5007573 ],\n",
       "         [0.5003053 , 0.49981904],\n",
       "         [0.49936864, 0.5005321 ],\n",
       "         [0.5001687 , 0.5003527 ],\n",
       "         [0.5003601 , 0.5004905 ],\n",
       "         [0.49937457, 0.5002805 ],\n",
       "         [0.500147  , 0.5000817 ],\n",
       "         [0.4999627 , 0.50031435],\n",
       "         [0.4997196 , 0.5000731 ],\n",
       "         [0.4999467 , 0.500413  ],\n",
       "         [0.50012237, 0.50051284],\n",
       "         [0.50054085, 0.5004894 ],\n",
       "         [0.4998938 , 0.500361  ],\n",
       "         [0.50012976, 0.50037783],\n",
       "         [0.50026727, 0.50047743],\n",
       "         [0.50011796, 0.4995298 ],\n",
       "         [0.5003828 , 0.50050384],\n",
       "         [0.5003475 , 0.49986175],\n",
       "         [0.50015515, 0.5006247 ],\n",
       "         [0.50025934, 0.50030345],\n",
       "         [0.5001844 , 0.5004408 ],\n",
       "         [0.5002151 , 0.5004589 ],\n",
       "         [0.5003188 , 0.5005223 ],\n",
       "         [0.5001082 , 0.5006416 ],\n",
       "         [0.5004298 , 0.50038254],\n",
       "         [0.5002108 , 0.5004245 ],\n",
       "         [0.5004433 , 0.49996924],\n",
       "         [0.49990454, 0.49995524],\n",
       "         [0.49992466, 0.49974382],\n",
       "         [0.50035626, 0.50054896],\n",
       "         [0.50051403, 0.5004861 ],\n",
       "         [0.5001137 , 0.50053245],\n",
       "         [0.50012267, 0.5006398 ],\n",
       "         [0.4999658 , 0.5002178 ],\n",
       "         [0.500236  , 0.4999199 ],\n",
       "         [0.50026286, 0.50013775],\n",
       "         [0.50015575, 0.50055486],\n",
       "         [0.49998385, 0.49999315],\n",
       "         [0.4998433 , 0.5007325 ],\n",
       "         [0.50003564, 0.49992746],\n",
       "         [0.50026894, 0.50031257],\n",
       "         [0.4998943 , 0.5000749 ],\n",
       "         [0.5006443 , 0.500477  ],\n",
       "         [0.49985817, 0.500267  ],\n",
       "         [0.5003874 , 0.5006144 ],\n",
       "         [0.49998134, 0.50028   ],\n",
       "         [0.4998705 , 0.50041777],\n",
       "         [0.5001252 , 0.5000036 ],\n",
       "         [0.500062  , 0.5007336 ],\n",
       "         [0.5003362 , 0.50011307],\n",
       "         [0.5000862 , 0.50045675],\n",
       "         [0.5003089 , 0.5003965 ],\n",
       "         [0.49976015, 0.50041336],\n",
       "         [0.50036156, 0.500385  ],\n",
       "         [0.5001701 , 0.49992168],\n",
       "         [0.5005817 , 0.5006711 ],\n",
       "         [0.49983132, 0.5001105 ],\n",
       "         [0.49991858, 0.4998825 ],\n",
       "         [0.50001866, 0.5001325 ],\n",
       "         [0.5006046 , 0.5006807 ],\n",
       "         [0.50054705, 0.50051516],\n",
       "         [0.5007785 , 0.5001763 ],\n",
       "         [0.5005769 , 0.50040865],\n",
       "         [0.500047  , 0.5001272 ],\n",
       "         [0.5001267 , 0.49985674],\n",
       "         [0.50034994, 0.5004419 ],\n",
       "         [0.50063497, 0.5001819 ],\n",
       "         [0.49951917, 0.50031644],\n",
       "         [0.5004836 , 0.500215  ],\n",
       "         [0.5006627 , 0.50040215],\n",
       "         [0.5003588 , 0.5001433 ],\n",
       "         [0.5003306 , 0.5000704 ],\n",
       "         [0.50030494, 0.499496  ],\n",
       "         [0.50051075, 0.5006413 ],\n",
       "         [0.5006241 , 0.5004811 ],\n",
       "         [0.49999422, 0.50072134],\n",
       "         [0.50033724, 0.50003695],\n",
       "         [0.50036186, 0.5004042 ],\n",
       "         [0.5005294 , 0.49988762],\n",
       "         [0.50060564, 0.50043815],\n",
       "         [0.5006158 , 0.5008884 ],\n",
       "         [0.50052917, 0.50082165],\n",
       "         [0.50030017, 0.5003958 ],\n",
       "         [0.5000131 , 0.49989417],\n",
       "         [0.5005206 , 0.5001909 ],\n",
       "         [0.50036794, 0.50059646],\n",
       "         [0.5004492 , 0.50025773],\n",
       "         [0.50048846, 0.5010737 ],\n",
       "         [0.5007694 , 0.50014466],\n",
       "         [0.50023043, 0.5001678 ],\n",
       "         [0.5002255 , 0.5007814 ],\n",
       "         [0.50069934, 0.5001762 ],\n",
       "         [0.50031644, 0.50025505],\n",
       "         [0.50003403, 0.50061214],\n",
       "         [0.500518  , 0.5002462 ],\n",
       "         [0.5003699 , 0.50078017],\n",
       "         [0.50047976, 0.5002661 ],\n",
       "         [0.5003085 , 0.50030565],\n",
       "         [0.5005055 , 0.50003344],\n",
       "         [0.5002498 , 0.5001813 ],\n",
       "         [0.49965632, 0.50026184],\n",
       "         [0.50031906, 0.5005884 ],\n",
       "         [0.50053936, 0.49990764],\n",
       "         [0.5005302 , 0.500016  ],\n",
       "         [0.5003247 , 0.5005688 ],\n",
       "         [0.50074005, 0.5003332 ],\n",
       "         [0.5008805 , 0.50012565],\n",
       "         [0.5004227 , 0.5006663 ],\n",
       "         [0.5007803 , 0.5006412 ],\n",
       "         [0.500629  , 0.49987146],\n",
       "         [0.5003064 , 0.5002432 ],\n",
       "         [0.5000746 , 0.49998307],\n",
       "         [0.5002935 , 0.4996868 ],\n",
       "         [0.50055486, 0.49976617],\n",
       "         [0.5002239 , 0.5007824 ],\n",
       "         [0.50069416, 0.50032645],\n",
       "         [0.50039405, 0.49980572],\n",
       "         [0.5001832 , 0.5004433 ],\n",
       "         [0.50012314, 0.49996966],\n",
       "         [0.49989513, 0.5004608 ],\n",
       "         [0.4999779 , 0.50000894],\n",
       "         [0.500376  , 0.5001471 ],\n",
       "         [0.50030017, 0.5004244 ],\n",
       "         [0.50031996, 0.50011295],\n",
       "         [0.5004503 , 0.50031894],\n",
       "         [0.5004369 , 0.5000146 ],\n",
       "         [0.5006138 , 0.499684  ],\n",
       "         [0.50047755, 0.5000147 ],\n",
       "         [0.50057566, 0.5000735 ],\n",
       "         [0.5007834 , 0.49986443],\n",
       "         [0.50034386, 0.5007275 ],\n",
       "         [0.5001162 , 0.50006944],\n",
       "         [0.500729  , 0.5002686 ],\n",
       "         [0.5008176 , 0.50017136],\n",
       "         [0.5010493 , 0.49983174],\n",
       "         [0.50006276, 0.5000984 ],\n",
       "         [0.5003707 , 0.50036234],\n",
       "         [0.5002122 , 0.5000035 ],\n",
       "         [0.5004427 , 0.49980578]]]], dtype=float32)"
      ]
     },
     "execution_count": 136,
     "metadata": {},
     "output_type": "execute_result"
    }
   ],
   "source": [
    "output"
   ]
  },
  {
   "cell_type": "code",
   "execution_count": 137,
   "metadata": {},
   "outputs": [
    {
     "data": {
      "text/plain": [
       "<tf.Tensor: shape=(1, 145, 2), dtype=float64, numpy=\n",
       "array([[[  1.,  38.],\n",
       "        [  2., 255.],\n",
       "        [  3., 191.],\n",
       "        [  6.,  33.],\n",
       "        [  6.,  85.],\n",
       "        [  7., 216.],\n",
       "        [  9.,  83.],\n",
       "        [  9.,  91.],\n",
       "        [ 13., 182.],\n",
       "        [ 17., 172.],\n",
       "        [ 21., 167.],\n",
       "        [ 22., 200.],\n",
       "        [ 25., 202.],\n",
       "        [ 26., 228.],\n",
       "        [ 30., 249.],\n",
       "        [ 34., 116.],\n",
       "        [ 36., 234.],\n",
       "        [ 37., 147.],\n",
       "        [ 46.,  24.],\n",
       "        [ 46., 114.],\n",
       "        [ 47.,  43.],\n",
       "        [ 49.,   1.],\n",
       "        [ 50., 172.],\n",
       "        [ 53.,  24.],\n",
       "        [ 53.,  45.],\n",
       "        [ 55.,  90.],\n",
       "        [ 55.,  94.],\n",
       "        [ 56.,  59.],\n",
       "        [ 56., 241.],\n",
       "        [ 57.,  88.],\n",
       "        [ 57., 124.],\n",
       "        [ 60., 195.],\n",
       "        [ 61.,  24.],\n",
       "        [ 62., 122.],\n",
       "        [ 63.,  71.],\n",
       "        [ 63., 193.],\n",
       "        [ 64.,  59.],\n",
       "        [ 64., 255.],\n",
       "        [ 65., 179.],\n",
       "        [ 67., 120.],\n",
       "        [ 71., 125.],\n",
       "        [ 72.,  65.],\n",
       "        [ 77.,  98.],\n",
       "        [ 78., 187.],\n",
       "        [ 80.,  26.],\n",
       "        [ 82.,   2.],\n",
       "        [ 86.,  43.],\n",
       "        [ 86.,  87.],\n",
       "        [ 86., 250.],\n",
       "        [ 88., 128.],\n",
       "        [ 90., 248.],\n",
       "        [ 91., 224.],\n",
       "        [ 93., 203.],\n",
       "        [ 95.,  10.],\n",
       "        [ 97., 153.],\n",
       "        [101., 224.],\n",
       "        [103.,  88.],\n",
       "        [104.,  18.],\n",
       "        [106.,  83.],\n",
       "        [106., 194.],\n",
       "        [108.,  24.],\n",
       "        [108., 199.],\n",
       "        [109.,  21.],\n",
       "        [109.,  41.],\n",
       "        [110.,  70.],\n",
       "        [118., 196.],\n",
       "        [125., 169.],\n",
       "        [126., 135.],\n",
       "        [130., 133.],\n",
       "        [130., 160.],\n",
       "        [132., 132.],\n",
       "        [132., 146.],\n",
       "        [133.,   9.],\n",
       "        [136., 215.],\n",
       "        [140.,  12.],\n",
       "        [141., 106.],\n",
       "        [143.,  94.],\n",
       "        [143., 179.],\n",
       "        [144.,  18.],\n",
       "        [146.,  99.],\n",
       "        [146., 191.],\n",
       "        [149., 228.],\n",
       "        [154.,  24.],\n",
       "        [156.,  82.],\n",
       "        [160.,  35.],\n",
       "        [161., 142.],\n",
       "        [161., 188.],\n",
       "        [163., 212.],\n",
       "        [167., 109.],\n",
       "        [167., 113.],\n",
       "        [168., 251.],\n",
       "        [175., 168.],\n",
       "        [178., 213.],\n",
       "        [183., 245.],\n",
       "        [192., 233.],\n",
       "        [195., 222.],\n",
       "        [195., 250.],\n",
       "        [197.,  47.],\n",
       "        [197., 142.],\n",
       "        [200., 230.],\n",
       "        [201., 187.],\n",
       "        [206., 156.],\n",
       "        [207.,  59.],\n",
       "        [207., 187.],\n",
       "        [209.,  77.],\n",
       "        [209., 104.],\n",
       "        [210., 137.],\n",
       "        [211., 223.],\n",
       "        [213., 121.],\n",
       "        [214.,  64.],\n",
       "        [214., 169.],\n",
       "        [219.,  32.],\n",
       "        [219.,  43.],\n",
       "        [220., 111.],\n",
       "        [222., 185.],\n",
       "        [224.,  91.],\n",
       "        [224., 174.],\n",
       "        [225.,  21.],\n",
       "        [226.,  18.],\n",
       "        [229.,  74.],\n",
       "        [229., 156.],\n",
       "        [229., 164.],\n",
       "        [230., 182.],\n",
       "        [230., 231.],\n",
       "        [231., 141.],\n",
       "        [231., 200.],\n",
       "        [231., 218.],\n",
       "        [231., 240.],\n",
       "        [234.,  99.],\n",
       "        [235.,   2.],\n",
       "        [235.,  92.],\n",
       "        [236., 119.],\n",
       "        [237., 190.],\n",
       "        [240.,  19.],\n",
       "        [242.,  47.],\n",
       "        [243.,   5.],\n",
       "        [246.,  95.],\n",
       "        [246., 169.],\n",
       "        [247., 111.],\n",
       "        [248.,  70.],\n",
       "        [249., 106.],\n",
       "        [249., 203.],\n",
       "        [252., 124.],\n",
       "        [252., 194.],\n",
       "        [254., 217.]]])>"
      ]
     },
     "execution_count": 137,
     "metadata": {},
     "output_type": "execute_result"
    }
   ],
   "source": [
    "targets"
   ]
  },
  {
   "cell_type": "markdown",
   "metadata": {},
   "source": [
    "Load Trained weights"
   ]
  },
  {
   "cell_type": "code",
   "execution_count": 33,
   "metadata": {},
   "outputs": [],
   "source": [
    "# loadedmodel = tf.keras.models.load_model(\"/home/m3-learning/Documents/Research Data/Derrick's Object Detection/Models/midpoint3.keras\")\n",
    "# loadmodel = tf.keras.models.load_model(\"/home/m3-learning/Documents/myML/ElectronCounting-master/CountingNN/modelweights/model_200kV_final.pt\")"
   ]
  },
  {
   "cell_type": "code",
   "execution_count": 11,
   "metadata": {},
   "outputs": [],
   "source": [
    "# loadedmodel.fit(train_dataset, epochs=num_epochs)"
   ]
  },
  {
   "cell_type": "code",
   "execution_count": 22,
   "metadata": {},
   "outputs": [],
   "source": [
    "# loadedmodel.save(\"/home/m3-learning/Documents/Research Data/Derrick's Object Detection/Models/midpoint3.keras\")"
   ]
  },
  {
   "cell_type": "code",
   "execution_count": 6,
   "metadata": {},
   "outputs": [
    {
     "name": "stderr",
     "output_type": "stream",
     "text": [
      "2024-05-17 11:56:53.369919: I external/local_xla/xla/stream_executor/cuda/cuda_dnn.cc:454] Loaded cuDNN version 8904\n",
      "2024-05-17 11:56:53.459031: I external/local_tsl/tsl/platform/default/subprocess.cc:304] Start cannot spawn child process: No such file or directory\n"
     ]
    },
    {
     "name": "stdout",
     "output_type": "stream",
     "text": [
      " 22/188 [==>...........................] - ETA: 1s"
     ]
    },
    {
     "name": "stderr",
     "output_type": "stream",
     "text": [
      "2024-05-17 11:56:53.819899: I external/local_tsl/tsl/platform/default/subprocess.cc:304] Start cannot spawn child process: No such file or directory\n"
     ]
    },
    {
     "name": "stdout",
     "output_type": "stream",
     "text": [
      "188/188 [==============================] - 2s 9ms/step\n"
     ]
    }
   ],
   "source": [
    "\n",
    "# dataset = tf.data.Dataset.from_tensor_slices((images_np, {'x_prob_reshape': probabilities, 'x_midpoints_reshape': center_coordinates_np}))\n",
    "# # dataset = dataset.batch(1000)\n",
    "# # test_dataset = dataset.take(test_size)\n",
    "# # # test_dataset = test_dataset.shuffle(buffer_size=10000,reshuffle_each_iteration=True)\n",
    "# # test_dataset = test_dataset.batch(test_size)\n",
    "# train_dataset = dataset.take(train_size)\n",
    "# # train_dataset = train_dataset.shuffle(buffer_size=10000,reshuffle_each_iteration=True)\n",
    "# train_dataset = train_dataset.batch(train_size)\n",
    "# inputs,targets = next(iter(train_dataset))\n",
    "# output =loadedmodel.predict(inputs)"
   ]
  },
  {
   "cell_type": "code",
   "execution_count": 116,
   "metadata": {},
   "outputs": [],
   "source": []
  },
  {
   "cell_type": "code",
   "execution_count": 117,
   "metadata": {},
   "outputs": [
    {
     "data": {
      "text/plain": [
       "((10000, 64, 64), (10000, 280, 3))"
      ]
     },
     "execution_count": 117,
     "metadata": {},
     "output_type": "execute_result"
    }
   ],
   "source": [
    "images.shape,center_coordinates.shape"
   ]
  },
  {
   "cell_type": "code",
   "execution_count": 118,
   "metadata": {},
   "outputs": [
    {
     "data": {
      "text/plain": [
       "(TensorShape([1, 256, 256]), TensorShape([1, 145, 2]))"
      ]
     },
     "execution_count": 118,
     "metadata": {},
     "output_type": "execute_result"
    }
   ],
   "source": [
    "gt.shape, newcoords.shape"
   ]
  },
  {
   "cell_type": "code",
   "execution_count": 107,
   "metadata": {},
   "outputs": [
    {
     "data": {
      "text/plain": [
       "<matplotlib.colorbar.Colorbar at 0x7432fbcc2b00>"
      ]
     },
     "execution_count": 107,
     "metadata": {},
     "output_type": "execute_result"
    },
    {
     "data": {
      "image/png": "[encoded data removed]",
      "text/plain": [
       "<Figure size 640x480 with 2 Axes>"
      ]
     },
     "metadata": {},
     "output_type": "display_data"
    }
   ],
   "source": [
    "oo= plt.imshow(gt)\n",
    "plt.colorbar()"
   ]
  },
  {
   "cell_type": "code",
   "execution_count": 119,
   "metadata": {},
   "outputs": [],
   "source": []
  },
  {
   "cell_type": "code",
   "execution_count": 58,
   "metadata": {},
   "outputs": [
    {
     "data": {
      "text/plain": [
       "<_BatchDataset element_spec=TensorSpec(shape=(None, 256), dtype=tf.float64, name=None)>"
      ]
     },
     "execution_count": 58,
     "metadata": {},
     "output_type": "execute_result"
    }
   ],
   "source": [
    "dataset"
   ]
  },
  {
   "cell_type": "code",
   "execution_count": 120,
   "metadata": {},
   "outputs": [
    {
     "name": "stdout",
     "output_type": "stream",
     "text": [
      "Epoch 1/2\n"
     ]
    },
    {
     "ename": "ValueError",
     "evalue": "in user code:\n\n    File \"/home/m3-learning/anaconda3/envs/tiny_yolo/lib/python3.10/site-packages/keras/src/engine/training.py\", line 1401, in train_function  *\n        return step_function(self, iterator)\n    File \"/home/m3-learning/anaconda3/envs/tiny_yolo/lib/python3.10/site-packages/keras/src/engine/training.py\", line 1384, in step_function  **\n        outputs = model.distribute_strategy.run(run_step, args=(data,))\n    File \"/home/m3-learning/anaconda3/envs/tiny_yolo/lib/python3.10/site-packages/keras/src/engine/training.py\", line 1373, in run_step  **\n        outputs = model.train_step(data)\n    File \"/home/m3-learning/anaconda3/envs/tiny_yolo/lib/python3.10/site-packages/keras/src/engine/training.py\", line 1151, in train_step\n        loss = self.compute_loss(x, y, y_pred, sample_weight)\n    File \"/home/m3-learning/anaconda3/envs/tiny_yolo/lib/python3.10/site-packages/keras/src/engine/training.py\", line 1209, in compute_loss\n        return self.compiled_loss(\n    File \"/home/m3-learning/anaconda3/envs/tiny_yolo/lib/python3.10/site-packages/keras/src/engine/compile_utils.py\", line 277, in __call__\n        loss_value = loss_obj(y_t, y_p, sample_weight=sw)\n    File \"/home/m3-learning/anaconda3/envs/tiny_yolo/lib/python3.10/site-packages/keras/src/losses.py\", line 143, in __call__\n        losses = call_fn(y_true, y_pred)\n    File \"/home/m3-learning/anaconda3/envs/tiny_yolo/lib/python3.10/site-packages/keras/src/losses.py\", line 270, in call  **\n        return ag_fn(y_true, y_pred, **self._fn_kwargs)\n    File \"/home/m3-learning/anaconda3/envs/tiny_yolo/lib/python3.10/site-packages/keras/src/losses.py\", line 1706, in mean_squared_error\n        return backend.mean(tf.math.squared_difference(y_pred, y_true), axis=-1)\n\n    ValueError: Dimensions must be equal, but are 256 and 145 for '{{node mean_squared_error/SquaredDifference}} = SquaredDifference[T=DT_FLOAT](model_6/x_midpoints_reshape/Reshape, Cast)' with input shapes: [?,1,256,256], [?,145,2].\n",
     "output_type": "error",
     "traceback": [
      "\u001b[0;31m---------------------------------------------------------------------------\u001b[0m",
      "\u001b[0;31mValueError\u001b[0m                                Traceback (most recent call last)",
      "Cell \u001b[0;32mIn[120], line 4\u001b[0m\n\u001b[1;32m      2\u001b[0m optimizer \u001b[38;5;241m=\u001b[39m tf\u001b[38;5;241m.\u001b[39mkeras\u001b[38;5;241m.\u001b[39moptimizers\u001b[38;5;241m.\u001b[39mAdam(learning_rate\u001b[38;5;241m=\u001b[39m\u001b[38;5;241m3e-5\u001b[39m) \n\u001b[1;32m      3\u001b[0m model\u001b[38;5;241m.\u001b[39mcompile(optimizer\u001b[38;5;241m=\u001b[39m optimizer, loss\u001b[38;5;241m=\u001b[39m tf\u001b[38;5;241m.\u001b[39mkeras\u001b[38;5;241m.\u001b[39mlosses\u001b[38;5;241m.\u001b[39mMeanSquaredError()) \n\u001b[0;32m----> 4\u001b[0m \u001b[43mmodel\u001b[49m\u001b[38;5;241;43m.\u001b[39;49m\u001b[43mfit\u001b[49m\u001b[43m(\u001b[49m\u001b[43mdataset\u001b[49m\u001b[43m,\u001b[49m\u001b[43m \u001b[49m\u001b[43mepochs\u001b[49m\u001b[38;5;241;43m=\u001b[39;49m\u001b[38;5;241;43m2\u001b[39;49m\u001b[43m)\u001b[49m\n",
      "File \u001b[0;32m~/anaconda3/envs/tiny_yolo/lib/python3.10/site-packages/keras/src/utils/traceback_utils.py:70\u001b[0m, in \u001b[0;36mfilter_traceback.<locals>.error_handler\u001b[0;34m(*args, **kwargs)\u001b[0m\n\u001b[1;32m     67\u001b[0m     filtered_tb \u001b[38;5;241m=\u001b[39m _process_traceback_frames(e\u001b[38;5;241m.\u001b[39m__traceback__)\n\u001b[1;32m     68\u001b[0m     \u001b[38;5;66;03m# To get the full stack trace, call:\u001b[39;00m\n\u001b[1;32m     69\u001b[0m     \u001b[38;5;66;03m# `tf.debugging.disable_traceback_filtering()`\u001b[39;00m\n\u001b[0;32m---> 70\u001b[0m     \u001b[38;5;28;01mraise\u001b[39;00m e\u001b[38;5;241m.\u001b[39mwith_traceback(filtered_tb) \u001b[38;5;28;01mfrom\u001b[39;00m \u001b[38;5;28;01mNone\u001b[39;00m\n\u001b[1;32m     71\u001b[0m \u001b[38;5;28;01mfinally\u001b[39;00m:\n\u001b[1;32m     72\u001b[0m     \u001b[38;5;28;01mdel\u001b[39;00m filtered_tb\n",
      "File \u001b[0;32m/tmp/__autograph_generated_file51_9l4bi.py:15\u001b[0m, in \u001b[0;36mouter_factory.<locals>.inner_factory.<locals>.tf__train_function\u001b[0;34m(iterator)\u001b[0m\n\u001b[1;32m     13\u001b[0m \u001b[38;5;28;01mtry\u001b[39;00m:\n\u001b[1;32m     14\u001b[0m     do_return \u001b[38;5;241m=\u001b[39m \u001b[38;5;28;01mTrue\u001b[39;00m\n\u001b[0;32m---> 15\u001b[0m     retval_ \u001b[38;5;241m=\u001b[39m ag__\u001b[38;5;241m.\u001b[39mconverted_call(ag__\u001b[38;5;241m.\u001b[39mld(step_function), (ag__\u001b[38;5;241m.\u001b[39mld(\u001b[38;5;28mself\u001b[39m), ag__\u001b[38;5;241m.\u001b[39mld(iterator)), \u001b[38;5;28;01mNone\u001b[39;00m, fscope)\n\u001b[1;32m     16\u001b[0m \u001b[38;5;28;01mexcept\u001b[39;00m:\n\u001b[1;32m     17\u001b[0m     do_return \u001b[38;5;241m=\u001b[39m \u001b[38;5;28;01mFalse\u001b[39;00m\n",
      "\u001b[0;31mValueError\u001b[0m: in user code:\n\n    File \"/home/m3-learning/anaconda3/envs/tiny_yolo/lib/python3.10/site-packages/keras/src/engine/training.py\", line 1401, in train_function  *\n        return step_function(self, iterator)\n    File \"/home/m3-learning/anaconda3/envs/tiny_yolo/lib/python3.10/site-packages/keras/src/engine/training.py\", line 1384, in step_function  **\n        outputs = model.distribute_strategy.run(run_step, args=(data,))\n    File \"/home/m3-learning/anaconda3/envs/tiny_yolo/lib/python3.10/site-packages/keras/src/engine/training.py\", line 1373, in run_step  **\n        outputs = model.train_step(data)\n    File \"/home/m3-learning/anaconda3/envs/tiny_yolo/lib/python3.10/site-packages/keras/src/engine/training.py\", line 1151, in train_step\n        loss = self.compute_loss(x, y, y_pred, sample_weight)\n    File \"/home/m3-learning/anaconda3/envs/tiny_yolo/lib/python3.10/site-packages/keras/src/engine/training.py\", line 1209, in compute_loss\n        return self.compiled_loss(\n    File \"/home/m3-learning/anaconda3/envs/tiny_yolo/lib/python3.10/site-packages/keras/src/engine/compile_utils.py\", line 277, in __call__\n        loss_value = loss_obj(y_t, y_p, sample_weight=sw)\n    File \"/home/m3-learning/anaconda3/envs/tiny_yolo/lib/python3.10/site-packages/keras/src/losses.py\", line 143, in __call__\n        losses = call_fn(y_true, y_pred)\n    File \"/home/m3-learning/anaconda3/envs/tiny_yolo/lib/python3.10/site-packages/keras/src/losses.py\", line 270, in call  **\n        return ag_fn(y_true, y_pred, **self._fn_kwargs)\n    File \"/home/m3-learning/anaconda3/envs/tiny_yolo/lib/python3.10/site-packages/keras/src/losses.py\", line 1706, in mean_squared_error\n        return backend.mean(tf.math.squared_difference(y_pred, y_true), axis=-1)\n\n    ValueError: Dimensions must be equal, but are 256 and 145 for '{{node mean_squared_error/SquaredDifference}} = SquaredDifference[T=DT_FLOAT](model_6/x_midpoints_reshape/Reshape, Cast)' with input shapes: [?,1,256,256], [?,145,2].\n"
     ]
    }
   ],
   "source": []
  },
  {
   "cell_type": "code",
   "execution_count": 31,
   "metadata": {},
   "outputs": [
    {
     "ename": "ValueError",
     "evalue": "in user code:\n\n    File \"/home/m3-learning/anaconda3/envs/tiny_yolo/lib/python3.10/site-packages/keras/src/engine/training.py\", line 2440, in predict_function  *\n        return step_function(self, iterator)\n    File \"/home/m3-learning/anaconda3/envs/tiny_yolo/lib/python3.10/site-packages/keras/src/engine/training.py\", line 2425, in step_function  **\n        outputs = model.distribute_strategy.run(run_step, args=(data,))\n    File \"/home/m3-learning/anaconda3/envs/tiny_yolo/lib/python3.10/site-packages/keras/src/engine/training.py\", line 2413, in run_step  **\n        outputs = model.predict_step(data)\n    File \"/home/m3-learning/anaconda3/envs/tiny_yolo/lib/python3.10/site-packages/keras/src/engine/training.py\", line 2381, in predict_step\n        return self(x, training=False)\n    File \"/home/m3-learning/anaconda3/envs/tiny_yolo/lib/python3.10/site-packages/keras/src/utils/traceback_utils.py\", line 70, in error_handler\n        raise e.with_traceback(filtered_tb) from None\n    File \"/home/m3-learning/anaconda3/envs/tiny_yolo/lib/python3.10/site-packages/keras/src/engine/input_spec.py\", line 298, in assert_input_compatibility\n        raise ValueError(\n\n    ValueError: Input 0 of layer \"model_4\" is incompatible with the layer: expected shape=(None, 64, 64, 1), found shape=(None, 256, 256)\n",
     "output_type": "error",
     "traceback": [
      "\u001b[0;31m---------------------------------------------------------------------------\u001b[0m",
      "\u001b[0;31mValueError\u001b[0m                                Traceback (most recent call last)",
      "Cell \u001b[0;32mIn[31], line 1\u001b[0m\n\u001b[0;32m----> 1\u001b[0m output \u001b[38;5;241m=\u001b[39m \u001b[43mloadedmodel\u001b[49m\u001b[38;5;241;43m.\u001b[39;49m\u001b[43mpredict\u001b[49m\u001b[43m(\u001b[49m\u001b[43mnp\u001b[49m\u001b[38;5;241;43m.\u001b[39;49m\u001b[43mexpand_dims\u001b[49m\u001b[43m(\u001b[49m\u001b[43mexample\u001b[49m\u001b[43m,\u001b[49m\u001b[43m \u001b[49m\u001b[43maxis\u001b[49m\u001b[38;5;241;43m=\u001b[39;49m\u001b[38;5;241;43m0\u001b[39;49m\u001b[43m)\u001b[49m\u001b[43m)\u001b[49m\n",
      "File \u001b[0;32m~/anaconda3/envs/tiny_yolo/lib/python3.10/site-packages/keras/src/utils/traceback_utils.py:70\u001b[0m, in \u001b[0;36mfilter_traceback.<locals>.error_handler\u001b[0;34m(*args, **kwargs)\u001b[0m\n\u001b[1;32m     67\u001b[0m     filtered_tb \u001b[38;5;241m=\u001b[39m _process_traceback_frames(e\u001b[38;5;241m.\u001b[39m__traceback__)\n\u001b[1;32m     68\u001b[0m     \u001b[38;5;66;03m# To get the full stack trace, call:\u001b[39;00m\n\u001b[1;32m     69\u001b[0m     \u001b[38;5;66;03m# `tf.debugging.disable_traceback_filtering()`\u001b[39;00m\n\u001b[0;32m---> 70\u001b[0m     \u001b[38;5;28;01mraise\u001b[39;00m e\u001b[38;5;241m.\u001b[39mwith_traceback(filtered_tb) \u001b[38;5;28;01mfrom\u001b[39;00m \u001b[38;5;28;01mNone\u001b[39;00m\n\u001b[1;32m     71\u001b[0m \u001b[38;5;28;01mfinally\u001b[39;00m:\n\u001b[1;32m     72\u001b[0m     \u001b[38;5;28;01mdel\u001b[39;00m filtered_tb\n",
      "File \u001b[0;32m/tmp/__autograph_generated_file2w7pg0lx.py:15\u001b[0m, in \u001b[0;36mouter_factory.<locals>.inner_factory.<locals>.tf__predict_function\u001b[0;34m(iterator)\u001b[0m\n\u001b[1;32m     13\u001b[0m \u001b[38;5;28;01mtry\u001b[39;00m:\n\u001b[1;32m     14\u001b[0m     do_return \u001b[38;5;241m=\u001b[39m \u001b[38;5;28;01mTrue\u001b[39;00m\n\u001b[0;32m---> 15\u001b[0m     retval_ \u001b[38;5;241m=\u001b[39m ag__\u001b[38;5;241m.\u001b[39mconverted_call(ag__\u001b[38;5;241m.\u001b[39mld(step_function), (ag__\u001b[38;5;241m.\u001b[39mld(\u001b[38;5;28mself\u001b[39m), ag__\u001b[38;5;241m.\u001b[39mld(iterator)), \u001b[38;5;28;01mNone\u001b[39;00m, fscope)\n\u001b[1;32m     16\u001b[0m \u001b[38;5;28;01mexcept\u001b[39;00m:\n\u001b[1;32m     17\u001b[0m     do_return \u001b[38;5;241m=\u001b[39m \u001b[38;5;28;01mFalse\u001b[39;00m\n",
      "\u001b[0;31mValueError\u001b[0m: in user code:\n\n    File \"/home/m3-learning/anaconda3/envs/tiny_yolo/lib/python3.10/site-packages/keras/src/engine/training.py\", line 2440, in predict_function  *\n        return step_function(self, iterator)\n    File \"/home/m3-learning/anaconda3/envs/tiny_yolo/lib/python3.10/site-packages/keras/src/engine/training.py\", line 2425, in step_function  **\n        outputs = model.distribute_strategy.run(run_step, args=(data,))\n    File \"/home/m3-learning/anaconda3/envs/tiny_yolo/lib/python3.10/site-packages/keras/src/engine/training.py\", line 2413, in run_step  **\n        outputs = model.predict_step(data)\n    File \"/home/m3-learning/anaconda3/envs/tiny_yolo/lib/python3.10/site-packages/keras/src/engine/training.py\", line 2381, in predict_step\n        return self(x, training=False)\n    File \"/home/m3-learning/anaconda3/envs/tiny_yolo/lib/python3.10/site-packages/keras/src/utils/traceback_utils.py\", line 70, in error_handler\n        raise e.with_traceback(filtered_tb) from None\n    File \"/home/m3-learning/anaconda3/envs/tiny_yolo/lib/python3.10/site-packages/keras/src/engine/input_spec.py\", line 298, in assert_input_compatibility\n        raise ValueError(\n\n    ValueError: Input 0 of layer \"model_4\" is incompatible with the layer: expected shape=(None, 64, 64, 1), found shape=(None, 256, 256)\n"
     ]
    }
   ],
   "source": [
    "output = loadedmodel.predict(np.expand_dims(example, axis=0))"
   ]
  },
  {
   "cell_type": "code",
   "execution_count": 7,
   "metadata": {},
   "outputs": [
    {
     "name": "stdout",
     "output_type": "stream",
     "text": [
      "MSE Loss: 4.4137341699052565e-05\n"
     ]
    }
   ],
   "source": [
    "# import tensorflow as tf\n",
    "\n",
    "# r = np.random.randint(0,100)\n",
    "# tensor1 = tf.constant(targets['x_midpoints_reshape'], dtype=tf.float64)\n",
    "\n",
    "# tensor2 = tf.constant(output[1], dtype=tf.float32)\n",
    "\n",
    "\n",
    "# tensor2 = tf.cast(tensor2, tf.float64)\n",
    "\n",
    "\n",
    "# mse_loss_fn = tf.keras.losses.MeanSquaredError()\n",
    "# mse_loss = mse_loss_fn(tensor1, tensor2)\n",
    "\n",
    "# print(\"MSE Loss:\", mse_loss.numpy())"
   ]
  },
  {
   "cell_type": "code",
   "execution_count": 24,
   "metadata": {},
   "outputs": [
    {
     "name": "stdout",
     "output_type": "stream",
     "text": [
      "Recall 0.0 Precision 0 F1 0 DCE 0.0 MAE of positions 0\n"
     ]
    },
    {
     "data": {
      "text/plain": [
       "(0.0, 0, 0, 0.0, 0)"
      ]
     },
     "execution_count": 24,
     "metadata": {},
     "output_type": "execute_result"
    }
   ],
   "source": [
    "# import numpy as np\n",
    "# import tensorflow as tf\n",
    "# from sklearn.metrics import pairwise_distances_argmin_min\n",
    "\n",
    "# def pos_deviation(coords, truth, threshold):\n",
    "#     distances = []\n",
    "#     if len(coords):\n",
    "#         assignment, distances = pairwise_distances_argmin_min(coords, truth)\n",
    "#     return distances\n",
    "\n",
    "# def end2end_evaluation(groundtruth, predicted_coords, tolerance):\n",
    "#     # Ensure inputs are TensorFlow tensors\n",
    "#     groundtruth = tf.convert_to_tensor(groundtruth)\n",
    "#     predicted_coords = tf.convert_to_tensor(predicted_coords)\n",
    "    \n",
    "#     # Convert tensors to numpy arrays\n",
    "#     groundtruth = groundtruth.numpy()\n",
    "#     predicted_coords = predicted_coords.numpy()\n",
    "    \n",
    "#     truth = []\n",
    "#     for value in range(1, 1 + int(groundtruth.max())):\n",
    "#         truth_ = np.array(np.where(groundtruth == value))\n",
    "#         for i in range(value):\n",
    "#             truth.append(truth_)\n",
    "    \n",
    "#     if truth:\n",
    "#         truth = np.hstack(truth).T\n",
    "#     else:\n",
    "#         truth = np.array([]).reshape(0, 2)  # No truth coordinates\n",
    "\n",
    "#     predicted_coords_list = []\n",
    "#     for value in range(1, 1 + int(predicted_coords.max())):\n",
    "#         coords = np.array(np.where(predicted_coords == value))\n",
    "#         for i in range(value):\n",
    "#             predicted_coords_list.append(coords)\n",
    "    \n",
    "#     if predicted_coords_list:\n",
    "#         predicted_coords_list = np.hstack(predicted_coords_list).T\n",
    "#     else:\n",
    "#         predicted_coords_list = np.array([]).reshape(0, 2)  # No predicted coordinates\n",
    "\n",
    "#     nume = np.sum(groundtruth)\n",
    "\n",
    "#     deviations = pos_deviation(predicted_coords_list, truth, 6)\n",
    "#     deviations = np.array(deviations)  # Convert deviations to a NumPy array\n",
    "\n",
    "#     tp = np.where(deviations <= tolerance)[0].shape[0] if deviations.size else 0\n",
    "#     precision = tp / deviations.shape[0] if deviations.size else 0\n",
    "#     recall = tp / nume if nume != 0 else 0\n",
    "#     f1 = 2 * ((precision * recall) / (precision + recall)) if (precision + recall) != 0 else 0\n",
    "#     dce = len(deviations) / np.sum(groundtruth) if np.sum(groundtruth) != 0 else 0\n",
    "#     mae_position = deviations.mean() if deviations.size else 0\n",
    "\n",
    "#     print('Recall', recall, 'Precision', precision, 'F1', f1, 'DCE', dce, 'MAE of positions', mae_position)\n",
    "#     return recall, precision, f1, dce, mae_position\n",
    "\n",
    "# end2end_evaluation(targets['x_midpoints_reshape'], output[1], 6)\n"
   ]
  },
  {
   "cell_type": "code",
   "execution_count": 29,
   "metadata": {},
   "outputs": [
    {
     "name": "stdout",
     "output_type": "stream",
     "text": [
      "Recall 0.0 Precision 0 F1 nan DCE 0.0 MAE of positions nan\n"
     ]
    },
    {
     "name": "stderr",
     "output_type": "stream",
     "text": [
      "/tmp/ipykernel_765421/2313656729.py:63: RuntimeWarning: invalid value encountered in scalar divide\n",
      "  f1 = 2 * ((precision * recall) / (precision + recall))\n",
      "/tmp/ipykernel_765421/2313656729.py:67: RuntimeWarning: Mean of empty slice.\n",
      "  mae_position = deviations.mean()\n"
     ]
    },
    {
     "data": {
      "text/plain": [
       "(0.0, 0, nan, 0.0, nan)"
      ]
     },
     "execution_count": 29,
     "metadata": {},
     "output_type": "execute_result"
    }
   ],
   "source": [
    "# import numpy as np\n",
    "# import tensorflow as tf\n",
    "# from sklearn.metrics import pairwise_distances_argmin_min\n",
    "\n",
    "# # Function to calculate the deviations (distances) between predicted coordinates and ground truth coordinates\n",
    "# def pos_deviation(coords, truth, threshold):\n",
    "#     distances = []\n",
    "#     if len(coords):\n",
    "#         # Find the closest points in 'truth' to each point in 'coords'\n",
    "#         assignment, distances = pairwise_distances_argmin_min(coords, truth)\n",
    "#     return distances\n",
    "\n",
    "# # Function to evaluate the model performance\n",
    "# def end2end_evaluation(groundtruth, predicted_coords, tolerance):\n",
    "#     # Ensure inputs are TensorFlow tensors\n",
    "#     groundtruth = tf.convert_to_tensor(groundtruth)\n",
    "#     predicted_coords = tf.convert_to_tensor(predicted_coords)\n",
    "    \n",
    "#     # Convert tensors to NumPy arrays for further processing\n",
    "#     groundtruth = groundtruth.numpy()\n",
    "#     predicted_coords = predicted_coords.numpy()\n",
    "    \n",
    "#     # Extract ground truth coordinates\n",
    "#     truth = []\n",
    "#     for value in range(1, 1 + int(groundtruth.max())):\n",
    "#         truth_ = np.array(np.where(groundtruth == value))\n",
    "#         for i in range(value):\n",
    "#             truth.append(truth_)\n",
    "    \n",
    "#     # Stack the truth coordinates if there are any, otherwise create an empty array\n",
    "#     if truth:\n",
    "#         truth = np.hstack(truth).T\n",
    "#     else:\n",
    "#         truth = np.array([]).reshape(0, 2)  # No truth coordinates\n",
    "\n",
    "#     # Extract predicted coordinates\n",
    "#     predicted_coords_list = []\n",
    "#     for value in range(1, 1 + int(predicted_coords.max())):\n",
    "#         coords = np.array(np.where(predicted_coords == value))\n",
    "#         for i in range(value):\n",
    "#             predicted_coords_list.append(coords)\n",
    "    \n",
    "#     # Stack the predicted coordinates if there are any, otherwise create an empty array\n",
    "#     if predicted_coords_list:\n",
    "#         predicted_coords_list = np.hstack(predicted_coords_list).T\n",
    "#     else:\n",
    "#         predicted_coords_list = np.array([]).reshape(0, 2)  # No predicted coordinates\n",
    "\n",
    "#     # Calculate the total number of ground truth electrons\n",
    "#     nume = np.sum(groundtruth)\n",
    "\n",
    "#     # Calculate deviations between predicted and ground truth positions\n",
    "#     deviations = pos_deviation(predicted_coords_list, truth, 3)\n",
    "#     deviations = np.array(deviations)  # Convert deviations to a NumPy array\n",
    "\n",
    "#     # Calculate true positives: predictions within the tolerance\n",
    "#     tp = np.where(deviations <= tolerance)[0].shape[0]\n",
    "#     # Calculate precision: true positives / all detected positives\n",
    "#     precision = tp / deviations.shape[0] if deviations.size else 0\n",
    "#     # Calculate recall: true positives / all ground truth positives\n",
    "#     recall = tp / nume \n",
    "#     # Calculate F1 score: harmonic mean of precision and recall\n",
    "#     f1 = 2 * ((precision * recall) / (precision + recall)) \n",
    "#     # Calculate detector conversion efficiency: detected electrons / ground truth electrons\n",
    "#     dce = len(deviations) / np.sum(groundtruth) \n",
    "#     # Calculate mean absolute error of positions\n",
    "#     mae_position = deviations.mean() \n",
    "\n",
    "#     # Print the results\n",
    "#     print('Recall', recall, 'Precision', precision, 'F1', f1, 'DCE', dce, 'MAE of positions', mae_position)\n",
    "#     return recall, precision, f1, dce, mae_position\n",
    "#     # return nume\n",
    "\n",
    "\n",
    "# end2end_evaluation(targets['x_midpoints_reshape'], output[1], 1)\n"
   ]
  },
  {
   "cell_type": "code",
   "execution_count": 23,
   "metadata": {},
   "outputs": [
    {
     "name": "stdout",
     "output_type": "stream",
     "text": [
      "Recall 0.0 Precision 0 F1 0 DCE 0.0 MAE of positions 0\n"
     ]
    },
    {
     "data": {
      "text/plain": [
       "(0.0, 0, 0, 0.0, 0)"
      ]
     },
     "execution_count": 23,
     "metadata": {},
     "output_type": "execute_result"
    }
   ],
   "source": [
    "\n",
    "# Assuming you have groundtruth and predicted data available\n",
    "groundtruth = center_coordinates_np\n",
    "predicted_prob = output[0]\n",
    "predicted_coords = output[1]\n",
    "\n",
    "# Example usage\n",
    "tolerance = 1\n",
    "end2end_evaluation(groundtruth, predicted_coords, tolerance)\n"
   ]
  },
  {
   "cell_type": "code",
   "execution_count": 19,
   "metadata": {},
   "outputs": [
    {
     "data": {
      "text/plain": [
       "<tf.Tensor: shape=(1, 280, 1), dtype=float64, numpy=\n",
       "array([[[1.],\n",
       "        [1.],\n",
       "        [0.],\n",
       "        [0.],\n",
       "        [0.],\n",
       "        [0.],\n",
       "        [0.],\n",
       "        [0.],\n",
       "        [0.],\n",
       "        [0.],\n",
       "        [0.],\n",
       "        [0.],\n",
       "        [0.],\n",
       "        [0.],\n",
       "        [0.],\n",
       "        [0.],\n",
       "        [0.],\n",
       "        [0.],\n",
       "        [0.],\n",
       "        [0.],\n",
       "        [0.],\n",
       "        [0.],\n",
       "        [0.],\n",
       "        [0.],\n",
       "        [0.],\n",
       "        [0.],\n",
       "        [0.],\n",
       "        [0.],\n",
       "        [0.],\n",
       "        [0.],\n",
       "        [0.],\n",
       "        [0.],\n",
       "        [0.],\n",
       "        [0.],\n",
       "        [0.],\n",
       "        [0.],\n",
       "        [0.],\n",
       "        [0.],\n",
       "        [0.],\n",
       "        [0.],\n",
       "        [0.],\n",
       "        [0.],\n",
       "        [0.],\n",
       "        [0.],\n",
       "        [0.],\n",
       "        [0.],\n",
       "        [0.],\n",
       "        [0.],\n",
       "        [0.],\n",
       "        [0.],\n",
       "        [0.],\n",
       "        [0.],\n",
       "        [0.],\n",
       "        [0.],\n",
       "        [0.],\n",
       "        [0.],\n",
       "        [0.],\n",
       "        [0.],\n",
       "        [0.],\n",
       "        [0.],\n",
       "        [0.],\n",
       "        [0.],\n",
       "        [0.],\n",
       "        [0.],\n",
       "        [0.],\n",
       "        [0.],\n",
       "        [0.],\n",
       "        [0.],\n",
       "        [0.],\n",
       "        [0.],\n",
       "        [0.],\n",
       "        [0.],\n",
       "        [0.],\n",
       "        [0.],\n",
       "        [0.],\n",
       "        [0.],\n",
       "        [0.],\n",
       "        [0.],\n",
       "        [0.],\n",
       "        [0.],\n",
       "        [0.],\n",
       "        [0.],\n",
       "        [0.],\n",
       "        [0.],\n",
       "        [0.],\n",
       "        [0.],\n",
       "        [0.],\n",
       "        [0.],\n",
       "        [0.],\n",
       "        [0.],\n",
       "        [0.],\n",
       "        [0.],\n",
       "        [0.],\n",
       "        [0.],\n",
       "        [0.],\n",
       "        [0.],\n",
       "        [0.],\n",
       "        [0.],\n",
       "        [0.],\n",
       "        [0.],\n",
       "        [0.],\n",
       "        [0.],\n",
       "        [0.],\n",
       "        [0.],\n",
       "        [0.],\n",
       "        [0.],\n",
       "        [0.],\n",
       "        [0.],\n",
       "        [0.],\n",
       "        [0.],\n",
       "        [0.],\n",
       "        [0.],\n",
       "        [0.],\n",
       "        [0.],\n",
       "        [0.],\n",
       "        [0.],\n",
       "        [0.],\n",
       "        [0.],\n",
       "        [0.],\n",
       "        [0.],\n",
       "        [0.],\n",
       "        [0.],\n",
       "        [0.],\n",
       "        [0.],\n",
       "        [0.],\n",
       "        [0.],\n",
       "        [0.],\n",
       "        [0.],\n",
       "        [0.],\n",
       "        [0.],\n",
       "        [0.],\n",
       "        [0.],\n",
       "        [0.],\n",
       "        [0.],\n",
       "        [0.],\n",
       "        [0.],\n",
       "        [0.],\n",
       "        [0.],\n",
       "        [0.],\n",
       "        [0.],\n",
       "        [0.],\n",
       "        [0.],\n",
       "        [0.],\n",
       "        [0.],\n",
       "        [0.],\n",
       "        [0.],\n",
       "        [0.],\n",
       "        [0.],\n",
       "        [0.],\n",
       "        [0.],\n",
       "        [0.],\n",
       "        [0.],\n",
       "        [0.],\n",
       "        [0.],\n",
       "        [0.],\n",
       "        [0.],\n",
       "        [0.],\n",
       "        [0.],\n",
       "        [0.],\n",
       "        [0.],\n",
       "        [0.],\n",
       "        [0.],\n",
       "        [0.],\n",
       "        [0.],\n",
       "        [0.],\n",
       "        [0.],\n",
       "        [0.],\n",
       "        [0.],\n",
       "        [0.],\n",
       "        [0.],\n",
       "        [0.],\n",
       "        [0.],\n",
       "        [0.],\n",
       "        [0.],\n",
       "        [0.],\n",
       "        [0.],\n",
       "        [0.],\n",
       "        [0.],\n",
       "        [0.],\n",
       "        [0.],\n",
       "        [0.],\n",
       "        [0.],\n",
       "        [0.],\n",
       "        [0.],\n",
       "        [0.],\n",
       "        [0.],\n",
       "        [0.],\n",
       "        [0.],\n",
       "        [0.],\n",
       "        [0.],\n",
       "        [0.],\n",
       "        [0.],\n",
       "        [0.],\n",
       "        [0.],\n",
       "        [0.],\n",
       "        [0.],\n",
       "        [0.],\n",
       "        [0.],\n",
       "        [0.],\n",
       "        [0.],\n",
       "        [0.],\n",
       "        [0.],\n",
       "        [0.],\n",
       "        [0.],\n",
       "        [0.],\n",
       "        [0.],\n",
       "        [0.],\n",
       "        [0.],\n",
       "        [0.],\n",
       "        [0.],\n",
       "        [0.],\n",
       "        [0.],\n",
       "        [0.],\n",
       "        [0.],\n",
       "        [0.],\n",
       "        [0.],\n",
       "        [0.],\n",
       "        [0.],\n",
       "        [0.],\n",
       "        [0.],\n",
       "        [0.],\n",
       "        [0.],\n",
       "        [0.],\n",
       "        [0.],\n",
       "        [0.],\n",
       "        [0.],\n",
       "        [0.],\n",
       "        [0.],\n",
       "        [0.],\n",
       "        [0.],\n",
       "        [0.],\n",
       "        [0.],\n",
       "        [0.],\n",
       "        [0.],\n",
       "        [0.],\n",
       "        [0.],\n",
       "        [0.],\n",
       "        [0.],\n",
       "        [0.],\n",
       "        [0.],\n",
       "        [0.],\n",
       "        [0.],\n",
       "        [0.],\n",
       "        [0.],\n",
       "        [0.],\n",
       "        [0.],\n",
       "        [0.],\n",
       "        [0.],\n",
       "        [0.],\n",
       "        [0.],\n",
       "        [0.],\n",
       "        [0.],\n",
       "        [0.],\n",
       "        [0.],\n",
       "        [0.],\n",
       "        [0.],\n",
       "        [0.],\n",
       "        [0.],\n",
       "        [0.],\n",
       "        [0.],\n",
       "        [0.],\n",
       "        [0.],\n",
       "        [0.],\n",
       "        [0.],\n",
       "        [0.],\n",
       "        [0.],\n",
       "        [0.],\n",
       "        [0.],\n",
       "        [0.],\n",
       "        [0.],\n",
       "        [0.],\n",
       "        [0.],\n",
       "        [0.],\n",
       "        [0.],\n",
       "        [0.],\n",
       "        [0.],\n",
       "        [0.],\n",
       "        [0.],\n",
       "        [0.],\n",
       "        [0.]]])>"
      ]
     },
     "execution_count": 19,
     "metadata": {},
     "output_type": "execute_result"
    }
   ],
   "source": [
    " \n",
    "targets['x_prob_reshape'][90]"
   ]
  },
  {
   "cell_type": "markdown",
   "metadata": {},
   "source": [
    "Conversion From Regression to Classification"
   ]
  },
  {
   "cell_type": "code",
   "execution_count": 9,
   "metadata": {},
   "outputs": [
    {
     "name": "stdout",
     "output_type": "stream",
     "text": [
      "10/10 [==============================] - 0s 8ms/step\n",
      "Precision: 0.8820072711959346, Recall: 0.5789277967271784, F1 Score: 0.6990297343422884\n"
     ]
    }
   ],
   "source": [
    "# import numpy as np\n",
    "# import tensorflow as tf\n",
    "\n",
    "# # Assuming you have loaded the model and the dataset\n",
    "# dataset = tf.data.Dataset.from_tensor_slices((images_np, {'x_prob_reshape': probabilities, 'x_boxes_reshape': boxes_np}))\n",
    "# dataset = dataset.batch(301)  # Adjust the batch size according to your needs\n",
    "# inputs, targets = next(iter(dataset))\n",
    "\n",
    "# # Predict using the loaded model\n",
    "# output = loadmodel.predict(inputs)\n",
    "\n",
    "# # Define thresholds\n",
    "# # prediction_thresholds = np.array([0.4] * output[1].shape[1])  # Adjust this according to your output dimensions and scale\n",
    "# # difference_thresholds = np.array([0.1] * output[1].shape[1])  # Adjust this according to what you consider a close enough prediction\n",
    "# prediction_thresholds = np.array([0.5, 0.5, 0.5, 0.5])\n",
    "# difference_thresholds = np.array([0.1, 0.1, 0.1, 0.1])\n",
    "\n",
    "# # # Evaluate predictions function (as previously defined)\n",
    "# # def evaluate_predictions(y_true, y_pred, pred_thresh, diff_thresh):\n",
    "# #     predicted_classes = (y_pred > pred_thresh).astype(int)\n",
    "# #     abs_diff = np.abs(y_pred - y_true)\n",
    "# #     is_close_enough = abs_diff <= diff_thresh\n",
    "\n",
    "# #     TP = np.logical_and(predicted_classes == 1, is_close_enough)\n",
    "# #     FP = np.logical_and(predicted_classes == 1, np.logical_not(is_close_enough))\n",
    "# #     TN = np.logical_and(predicted_classes == 0, is_close_enough)\n",
    "# #     FN = np.logical_and(predicted_classes == 0, np.logical_not(is_close_enough))\n",
    "\n",
    "# #     return np.sum(TP), np.sum(FP), np.sum(TN), np.sum(FN)\n",
    "\n",
    "\n",
    "# import numpy as np\n",
    "\n",
    "# def evaluate_predictions(y_true, y_pred, pred_thresh, diff_thresh):\n",
    "#     predicted_classes = (y_pred > pred_thresh).astype(int)\n",
    "#     abs_diff = np.abs(y_pred - y_true)\n",
    "#     is_close_enough = abs_diff <= diff_thresh\n",
    "    \n",
    "#     # True Positive: All coordinates must be close enough in a positively predicted sample\n",
    "#     TP = (predicted_classes == 1) & np.all(is_close_enough, axis=1)\n",
    "    \n",
    "#     # False Positive: Any coordinate not close enough in a positively predicted sample\n",
    "#     FP = (predicted_classes == 1) & ~np.all(is_close_enough, axis=1)\n",
    "    \n",
    "#     # True Negative: Predicted as negative (no need to check closeness)\n",
    "#     TN = (predicted_classes == 0)\n",
    "    \n",
    "#     # False Negative: Predicted as negative but should have been positive (based on prediction threshold alone)\n",
    "#     FN = (predicted_classes == 0) & (y_true > pred_thresh).any(axis=1)\n",
    "    \n",
    "#     return np.sum(TP), np.sum(FP), np.sum(TN), np.sum(FN)\n",
    "\n",
    "\n",
    "# # Assuming 'targets' dictionary contains arrays that match keys with 'output' dictionary keys\n",
    "# total_TP = total_FP = total_TN = total_FN = 0\n",
    "\n",
    "# TP, FP, TN, FN = evaluate_predictions(targets['x_boxes_reshape'].numpy(), output[1], prediction_thresholds, difference_thresholds)\n",
    "# total_TP += TP\n",
    "# total_FP += FP\n",
    "# total_TN += TN\n",
    "# total_FN += FN\n",
    "\n",
    "# # Calculate precision and recall\n",
    "# precision = total_TP / (total_TP + total_FP) if (total_TP + total_FP) > 0 else 0\n",
    "# recall = total_TP / (total_TP + total_FN) if (total_TP + total_FN) > 0 else 0\n",
    "\n",
    "# # Calculate F1 score\n",
    "# if (precision + recall) > 0:\n",
    "#     f1_score = 2 * (precision * recall) / (precision + recall)\n",
    "# else:\n",
    "#     f1_score = 0\n",
    "\n",
    "# print(f'Precision: {precision}, Recall: {recall}, F1 Score: {f1_score}')\n"
   ]
  },
  {
   "cell_type": "code",
   "execution_count": null,
   "metadata": {},
   "outputs": [],
   "source": [
    "# def visualize_bounding_boxes(image, probability_vector, bounding_box_coordinates, threshold=0.9):\n",
    "#     \"\"\"\n",
    "#     Visualizes bounding boxes on an image based on a probability vector.\n",
    "\n",
    "#     Parameters:\n",
    "#     - image: A 3D tensor representing the image.\n",
    "#     - probability_vector: A 1D tensor representing the probabilities associated with bounding boxes.\n",
    "#     - bounding_box_coordinates: A 2D tensor representing bounding box coordinates.\n",
    "#     - threshold: Probability threshold for visualization.\n",
    "\n",
    "#     Returns:\n",
    "#     None (displays the image with bounding boxes).\n",
    "#     \"\"\"\n",
    "#     # Convert to NumPy arrays for easier handling\n",
    "#     image_np = image\n",
    "#     prob_vector_np = probability_vector\n",
    "#     bbox_coordinates_np = bounding_box_coordinates\n",
    "#    # Denormalize image if necessary (adjust based on your normalization method)\n",
    "#     denormalized_image = image_np  # Modify if normalization was applied during training\n",
    "\n",
    "#     # Visualize the image\n",
    "#     plt.figure(figsize=(4, 4))\n",
    "#     plt.imshow(denormalized_image, cmap='gray')\n",
    "#     plt.title(\"Bounding Box Visualization\")\n",
    "\n",
    "#     # Plot bounding boxes based on probability threshold\n",
    "#     for i in range(len(prob_vector_np)):\n",
    "#         prob = prob_vector_np[i]\n",
    "#         bbox = bbox_coordinates_np[i]\n",
    "#         if prob > threshold:\n",
    "#             # Denormalize bounding box coordinates if necessary\n",
    "#             denormalized_bbox = bbox  # Modify if normalization was applied during training\n",
    "#             y1, x1, y2, x2 = denormalized_bbox\n",
    "#             plt.plot([x1, x2, x2, x1, x1],[y1, y1, y2, y2, y1],\n",
    "                     \n",
    "#                      color='r', linewidth=2, label='Bounding Box')\n",
    "\n",
    "   \n",
    "\n",
    "\n",
    "\n",
    "\n",
    "\n",
    "\n",
    "   \n",
    "#     plt.show()\n",
    "\n",
    "# t = np.random.randint(0,200)\n",
    "# # probabilities = tf.convert_to_tensor(output[0][t,:])\n",
    "\n",
    "# visualize_bounding_boxes(tf.convert_to_tensor(inputs[t]), probabilities.numpy()[t].squeeze(), tf.convert_to_tensor(output[1][t,0,:,:])*[64,64,64,64]) ##myprediction\n",
    "# visualize_bounding_boxes(tf.convert_to_tensor(image_normalized[t]), probabilities.numpy()[t].squeeze(), tf.convert_to_tensor(boxes_np[t,0,:,:])*[64,64,64,64]) ##myprediction\n"
   ]
  },
  {
   "cell_type": "code",
   "execution_count": 46,
   "metadata": {},
   "outputs": [
    {
     "data": {
      "text/plain": [
       "(1, 280, 2)"
      ]
     },
     "execution_count": 46,
     "metadata": {},
     "output_type": "execute_result"
    }
   ],
   "source": [
    "output[1][2].shape"
   ]
  },
  {
   "cell_type": "markdown",
   "metadata": {},
   "source": [
    "Visualisation"
   ]
  },
  {
   "cell_type": "code",
   "execution_count": 7,
   "metadata": {},
   "outputs": [
    {
     "name": "stderr",
     "output_type": "stream",
     "text": [
      "No artists with labels found to put in legend.  Note that artists whose label start with an underscore are ignored when legend() is called with no argument.\n"
     ]
    },
    {
     "data": {
      "image/png": "[encoded data removed]",
      "text/plain": [
       "<Figure size 400x400 with 1 Axes>"
      ]
     },
     "metadata": {},
     "output_type": "display_data"
    },
    {
     "name": "stderr",
     "output_type": "stream",
     "text": [
      "No artists with labels found to put in legend.  Note that artists whose label start with an underscore are ignored when legend() is called with no argument.\n"
     ]
    },
    {
     "data": {
      "image/png": "[encoded data removed]",
      "text/plain": [
       "<Figure size 400x400 with 1 Axes>"
      ]
     },
     "metadata": {},
     "output_type": "display_data"
    }
   ],
   "source": [
    "import numpy as np\n",
    "import matplotlib.pyplot as plt\n",
    "\n",
    "def visualize_midpoints(image, probability_vector, midpoints, threshold=0.8):\n",
    "    \"\"\"\n",
    "    Visualizes midpoints on an image based on a probability vector.\n",
    "\n",
    "    Parameters:\n",
    "    - image: A 3D tensor representing the image.\n",
    "    - probability_vector: A 1D tensor representing the probabilities associated with midpoints.\n",
    "    - midpoints: A 2D tensor representing the midpoint coordinates (x, y).\n",
    "    - threshold: Probability threshold for visualization.\n",
    "\n",
    "    Returns:\n",
    "    None (displays the image with midpoints).\n",
    "    \"\"\"\n",
    "    # Convert to NumPy arrays for easier handling\n",
    "    image_np = image\n",
    "    prob_vector_np = probability_vector\n",
    "    midpoints_np = midpoints#.numpy() if hasattr(midpoints, 'numpy') else midpoints\n",
    "\n",
    "    # Denormalize image if necessary (adjust based on your normalization method)\n",
    "    denormalized_image = image_np  # Modify if normalization was applied during training\n",
    "\n",
    "    # Visualize the image\n",
    "    plt.figure(figsize=(4, 4))\n",
    "    plt.imshow(denormalized_image, cmap='gray')\n",
    "    plt.title(\"Midpoint Visualization\")\n",
    "\n",
    "    # Plot midpoints based on probability threshold\n",
    "    for i, (y,x) in enumerate(midpoints_np):\n",
    "        prob = prob_vector_np[i]\n",
    "        if prob > threshold:\n",
    "            plt.scatter(x, y, color='red', s=5)\n",
    "            if i == 0:  # Add label only once to avoid repetition in the legend\n",
    "                plt.legend()\n",
    "\n",
    "    plt.show()\n",
    "\n",
    "t = np.random.randint(0,2000)\n",
    "\n",
    "visualize_midpoints(tf.convert_to_tensor(inputs[t]), probabilities[t].numpy().squeeze(), tf.convert_to_tensor(output[1][t,0,:,:])*[64,64]) ##myprediction      \n",
    "visualize_midpoints(tf.convert_to_tensor(images_np[t]), probabilities[t].numpy().squeeze(), tf.convert_to_tensor(center_coordinates_np[t,0,:,:])*[64,64]) ##myprediction           \n",
    "\n",
    "\n"
   ]
  },
  {
   "cell_type": "markdown",
   "metadata": {},
   "source": [
    "Evaluation Metrics"
   ]
  },
  {
   "cell_type": "code",
   "execution_count": 20,
   "metadata": {},
   "outputs": [],
   "source": [
    "# import numpy as np\n",
    "\n",
    "# def evaluate_model(predictions, ground_truths, probability_threshold=0.9, midpoint_diff_threshold=0.1):\n",
    "#     pred_probabilities = predictions[0]\n",
    "#     pred_midpoints = predictions[1]\n",
    "#     gt_probabilities = ground_truths[0]  # Access the first element of the list, assuming it's probabilities\n",
    "#     gt_midpoints = ground_truths[1]  # Access the second element of the list, assuming it's midpoints\n",
    "    \n",
    "#     # Determine valid predicted boxes based on probability threshold\n",
    "#     valid_predictions = pred_probabilities > probability_threshold\n",
    "    \n",
    "#     # Calculate the absolute difference between predicted and ground truth midpoints\n",
    "#     midpoint_diff = np.abs(pred_midpoints - gt_midpoints)\n",
    "    \n",
    "#     # Check if the midpoint differences are within the allowed threshold\n",
    "#     is_accurate_prediction = np.all(midpoint_diff <= midpoint_diff_threshold, axis=1)\n",
    "    \n",
    "#     # True Positives: Predictions that are valid and close enough to the ground truth\n",
    "#     TP = np.sum(np.logical_and(valid_predictions, is_accurate_prediction))\n",
    "    \n",
    "#     # False Positives: Predictions that are valid but not close enough to the ground truth\n",
    "#     FP = np.sum(np.logical_and(valid_predictions, ~is_accurate_prediction))\n",
    "    \n",
    "#     # False Negatives: Ground truth boxes that were not predicted accurately\n",
    "#     FN = np.sum(np.logical_and(~valid_predictions, gt_probabilities > probability_threshold))\n",
    "    \n",
    "#     # Calculate precision and recall\n",
    "#     precision = TP / (TP + FP) if (TP + FP) > 0 else 0\n",
    "#     recall = TP / (TP + FN) if (TP + FN) > 0 else 0\n",
    "    \n",
    "#     # Calculate F1 score\n",
    "#     F1_score = 2 * (precision * recall) / (precision + recall) if (precision + recall) > 0 else 0\n",
    "    \n",
    "#     # Calculate Mean Absolute Error (MAE) for midpoints\n",
    "#     MAE = np.mean(midpoint_diff)\n",
    "    \n",
    "#     return precision, recall, F1_score, MAE\n",
    "\n",
    "# # Usage example\n",
    "# predictions = [output[0], output[1]]  # output[0] are the probabilities, output[1] are the midpoints\n",
    "# ground_truths = [targets['x_prob_reshape'], targets['x_midpoints_reshape']]\n",
    "# precision, recall, F1_score, MAE = evaluate_model(predictions, ground_truths)\n",
    "\n",
    "# print(f\"Precision: {precision}, Recall: {recall}, F1 Score: {F1_score}, MAE: {MAE}\")\n"
   ]
  },
  {
   "cell_type": "code",
   "execution_count": 8,
   "metadata": {},
   "outputs": [
    {
     "name": "stdout",
     "output_type": "stream",
     "text": [
      "Precision: 0.9999990876750643, Recall: 1.0, F1 Score: 0.999999543837324, MAE: 0.0020188948805420185\n"
     ]
    }
   ],
   "source": [
    "import numpy as np\n",
    "\n",
    "def evaluate_model(predictions, ground_truths, probability_threshold=0.9, midpoint_diff_threshold=0.1):\n",
    "    pred_probabilities = predictions[0]\n",
    "    pred_midpoints = predictions[1]\n",
    "    gt_probabilities = ground_truths[0]\n",
    "    gt_midpoints = ground_truths[1]\n",
    "    \n",
    "    # Valid predictions are those above the probability threshold\n",
    "    valid_predictions = pred_probabilities > probability_threshold\n",
    "    no_predictions = pred_probabilities <= probability_threshold\n",
    "\n",
    "    # Calculate differences for midpoint evaluations\n",
    "    midpoint_diff = np.abs(pred_midpoints - gt_midpoints)\n",
    "    is_accurate_prediction = np.all(midpoint_diff <= midpoint_diff_threshold, axis=1)\n",
    "    \n",
    "    # True Positives: Valid predictions close enough to the ground truth\n",
    "    TP = np.sum(np.logical_and(valid_predictions, is_accurate_prediction))\n",
    "    \n",
    "    # False Positives: Valid predictions not close enough to the ground truth\n",
    "    FP = np.sum(np.logical_and(valid_predictions, ~is_accurate_prediction))\n",
    "    \n",
    "    # True Negatives: No predictions where no objects are actually present\n",
    "    TN = np.sum(np.logical_and(no_predictions, gt_probabilities <= probability_threshold))\n",
    "    \n",
    "    # False Negatives: No predictions where objects are actually present\n",
    "    FN = np.sum(np.logical_and(no_predictions, gt_probabilities > probability_threshold))\n",
    "    \n",
    "    # Metrics calculation\n",
    "    precision = TP / (TP + FP) if (TP + FP) > 0 else 0\n",
    "    recall = TP / (TP + FN) if (TP + FN) > 0 else 0\n",
    "    F1_score = 2 * (precision * recall) / (precision + recall) if (precision + recall) > 0 else 0\n",
    "    MAE = np.mean(midpoint_diff)\n",
    "    \n",
    "    return precision, recall, F1_score, MAE\n",
    "\n",
    "# Usage example\n",
    "predictions = [output[0], output[1]]\n",
    "ground_truths = [targets['x_prob_reshape'], targets['x_midpoints_reshape']]\n",
    "precision, recall, F1_score, MAE = evaluate_model(predictions, ground_truths)\n",
    "\n",
    "print(f\"Precision: {precision}, Recall: {recall}, F1 Score: {F1_score}, MAE: {MAE}\")\n"
   ]
  },
  {
   "cell_type": "code",
   "execution_count": 11,
   "metadata": {},
   "outputs": [],
   "source": [
    "# import numpy as np\n",
    "\n",
    "# # Random seed for reproducibility\n",
    "# np.random.seed(42)\n",
    "\n",
    "# # Number of samples\n",
    "# n_samples = 10\n",
    "\n",
    "# # Generate dummy predictions\n",
    "# predicted_probabilities = np.random.rand(n_samples)\n",
    "# predicted_midpoints = np.random.rand(n_samples, 2)  # 2D coordinates (x, y)\n",
    "\n",
    "# # Generate dummy ground truths\n",
    "# ground_truth_probabilities = np.random.rand(n_samples)\n",
    "# # Midpoints close to the predicted ones with small random noise added\n",
    "# ground_truth_midpoints = predicted_midpoints + np.random.normal(0, 0.05, (n_samples, 2))\n",
    "\n",
    "# # Package predictions and ground truths\n",
    "# predictions = [predicted_probabilities, predicted_midpoints]\n",
    "# ground_truths = [ground_truth_probabilities, ground_truth_midpoints]\n",
    "\n",
    "# # Print out the arrays\n",
    "# print(\"Predicted Probabilities:\", predicted_probabilities)\n",
    "# print(\"Predicted Midpoints:\", predicted_midpoints)\n",
    "# print(\"Ground Truth Probabilities:\", ground_truth_probabilities)\n",
    "# print(\"Ground Truth Midpoints:\", ground_truth_midpoints)\n",
    "\n",
    "# # Function call\n",
    "# precision, recall, F1_score, MAE, TP,FP,FN,TN = evaluate_model(predictions, ground_truths)\n",
    "\n",
    "# # Print results\n",
    "# print(f\"Precision: {precision}, Recall: {recall}, F1 Score: {F1_score}, MAE: {MAE}, True Negatives: {TN}\", f\"True Positives: {TP}, False Positives: {FP}, False Negatives: {FN}\")\n"
   ]
  },
  {
   "cell_type": "code",
   "execution_count": 31,
   "metadata": {},
   "outputs": [
    {
     "name": "stdout",
     "output_type": "stream",
     "text": [
      "Precision: 1.0, Recall: 1.0, F1 Score: 1.0, MAE: 0.14750000000000002\n",
      "True Negatives: 2, True Positives: 2, False Positives: 0, False Negatives: 0\n"
     ]
    }
   ],
   "source": [
    "# import numpy as np\n",
    "\n",
    "# # Sample predictions and ground truth data\n",
    "# pred_probabilities = np.array([0.6, 0.4, 0.8, 0.1])\n",
    "# pred_midpoints = np.array([[0.5, 0.5], [0.2, 0.1], [0.6, 0.7], [0.4, 0.4]])\n",
    "\n",
    "# gt_probabilities = np.array([0.7, 0.0, 0.9, 0.0])\n",
    "# gt_midpoints = np.array([[0.52, 0.48], [0.0, 0.0], [0.58, 0.72], [0.0, 0.0]])\n",
    "\n",
    "# # Using the function\n",
    "# predictions = [pred_probabilities, pred_midpoints]\n",
    "# ground_truths = [gt_probabilities, gt_midpoints]\n",
    "\n",
    "# precision, recall, F1_score, MAE, TN, TP, FP, FN = evaluate_model(predictions, ground_truths)\n",
    "\n",
    "# print(f\"Precision: {precision}, Recall: {recall}, F1 Score: {F1_score}, MAE: {MAE}\")\n",
    "# print(f\"True Negatives: {TN}, True Positives: {TP}, False Positives: {FP}, False Negatives: {FN}\")\n"
   ]
  },
  {
   "cell_type": "code",
   "execution_count": 12,
   "metadata": {},
   "outputs": [
    {
     "ename": "NameError",
     "evalue": "name 'faster_rcnn_fcn' is not defined",
     "output_type": "error",
     "traceback": [
      "\u001b[0;31m---------------------------------------------------------------------------\u001b[0m",
      "\u001b[0;31mNameError\u001b[0m                                 Traceback (most recent call last)",
      "Cell \u001b[0;32mIn[12], line 1\u001b[0m\n\u001b[0;32m----> 1\u001b[0m model \u001b[38;5;241m=\u001b[39m \u001b[43mfaster_rcnn_fcn\u001b[49m(kernel \u001b[38;5;241m=\u001b[39m \u001b[38;5;241m3\u001b[39m, pretrained \u001b[38;5;241m=\u001b[39m \u001b[38;5;28;01mTrue\u001b[39;00m, num_classes\u001b[38;5;241m=\u001b[39m\u001b[38;5;241m2\u001b[39m, weights_path\u001b[38;5;241m=\u001b[39m\u001b[38;5;124m'\u001b[39m\u001b[38;5;124m/home/m3-learning/Documents/TinySegResNet_statedict_k3nearest.tar\u001b[39m\u001b[38;5;124m'\u001b[39m,\n\u001b[1;32m      2\u001b[0m                         setting_dict\u001b[38;5;241m=\u001b[39mmask_hp)\u001b[38;5;241m.\u001b[39mto(\u001b[38;5;124m'\u001b[39m\u001b[38;5;124mcuda\u001b[39m\u001b[38;5;124m'\u001b[39m)\n",
      "\u001b[0;31mNameError\u001b[0m: name 'faster_rcnn_fcn' is not defined"
     ]
    }
   ],
   "source": [
    "\n",
    "model = faster_rcnn_fcn(kernel = 3, pretrained = True, num_classes=2, weights_path='/home/m3-learning/Documents/TinySegResNet_statedict_k3nearest.tar',\n",
    "                        setting_dict=mask_hp).to('cuda')"
   ]
  }
 ],
 "metadata": {
  "kernelspec": {
   "display_name": "electron",
   "language": "python",
   "name": "python3"
  },
  "language_info": {
   "codemirror_mode": {
    "name": "ipython",
    "version": 3
   },
   "file_extension": ".py",
   "mimetype": "text/x-python",
   "name": "python",
   "nbconvert_exporter": "python",
   "pygments_lexer": "ipython3",
   "version": "3.10.13"
  }
 },
 "nbformat": 4,
 "nbformat_minor": 2
}
