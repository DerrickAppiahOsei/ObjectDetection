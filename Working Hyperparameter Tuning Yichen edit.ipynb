{
 "cells": [
  {
   "cell_type": "code",
   "execution_count": 1,
   "metadata": {},
   "outputs": [
    {
     "name": "stderr",
     "output_type": "stream",
     "text": [
      "2024-04-01 13:06:21.196551: I tensorflow/core/util/port.cc:113] oneDNN custom operations are on. You may see slightly different numerical results due to floating-point round-off errors from different computation orders. To turn them off, set the environment variable `TF_ENABLE_ONEDNN_OPTS=0`.\n",
      "2024-04-01 13:06:21.230554: E external/local_xla/xla/stream_executor/cuda/cuda_dnn.cc:9261] Unable to register cuDNN factory: Attempting to register factory for plugin cuDNN when one has already been registered\n",
      "2024-04-01 13:06:21.230582: E external/local_xla/xla/stream_executor/cuda/cuda_fft.cc:607] Unable to register cuFFT factory: Attempting to register factory for plugin cuFFT when one has already been registered\n",
      "2024-04-01 13:06:21.231548: E external/local_xla/xla/stream_executor/cuda/cuda_blas.cc:1515] Unable to register cuBLAS factory: Attempting to register factory for plugin cuBLAS when one has already been registered\n",
      "2024-04-01 13:06:21.237114: I tensorflow/core/platform/cpu_feature_guard.cc:182] This TensorFlow binary is optimized to use available CPU instructions in performance-critical operations.\n",
      "To enable the following instructions: AVX2 AVX512F AVX512_VNNI FMA, in other operations, rebuild TensorFlow with the appropriate compiler flags.\n",
      "2024-04-01 13:06:21.929473: W tensorflow/compiler/tf2tensorrt/utils/py_utils.cc:38] TF-TRT Warning: Could not find TensorRT\n",
      "2024-04-01 13:06:23.324495: I tensorflow/core/common_runtime/gpu/gpu_device.cc:1929] Created device /job:localhost/replica:0/task:0/device:GPU:0 with 21607 MB memory:  -> device: 0, name: NVIDIA GeForce RTX 3090, pci bus id: 0000:68:00.0, compute capability: 8.6\n"
     ]
    }
   ],
   "source": [
    "import numpy as np\n",
    "import tensorflow as tf\n",
    "from tensorflow.keras import layers, models\n",
    "import cv2\n",
    "import matplotlib.pyplot as plt\n",
    "import h5py\n",
    "import wandb\n",
    "import random\n",
    "\n",
    "\n",
    "# Configure Keras to use GPU\n",
    "config = tf.compat.v1.ConfigProto()\n",
    "config.gpu_options.allow_growth = True\n",
    "sess = tf.compat.v1.Session(config=config)\n",
    "tf.compat.v1.keras.backend.set_session(sess)\n",
    "\n"
   ]
  },
  {
   "cell_type": "code",
   "execution_count": 23,
   "metadata": {},
   "outputs": [],
   "source": [
    "import wandb\n",
    "import tensorflow as tf\n",
    "import numpy as np\n",
    "import h5py\n",
    "from tensorflow.keras import layers, models, optimizers\n",
    "\n",
    "# Ensure wandb is installed: pip install wandb\n",
    "# Initialize your W&B project before running the script\n",
    "\n",
    "# Dataset loading and preparation\n",
    "def load_and_prepare_dataset(batch_size):\n",
    "    with h5py.File('TrainingData5zeroes.h5', 'r') as hdf:\n",
    "        images = np.array(hdf.get('images'))\n",
    "        boxes = np.array(hdf.get('boxes'))\n",
    "\n",
    "    image_normalized = (images + 1e-9) / 9.26\n",
    "    normalized_boxes = boxes / [1, 64, 64, 64, 64]\n",
    "\n",
    "    images_np = image_normalized\n",
    "    probabilities = np.array(normalized_boxes[:, :, :-4])\n",
    "    probabilities = tf.expand_dims(probabilities, axis=1)\n",
    "    boxes_np = np.array(normalized_boxes[:, :, 1:])\n",
    "    boxes_np = tf.expand_dims(boxes_np, axis=1)\n",
    "\n",
    "    dataset = tf.data.Dataset.from_tensor_slices((images_np, {'x_prob_reshape': probabilities, 'x_boxes_reshape': boxes_np}))\n",
    "    dataset = dataset.shuffle(buffer_size=10000).batch(batch_size)\n",
    "    return dataset\n",
    "\n",
    "# Model building\n",
    "def build_model():\n",
    "    input_shape = (64, 64, 1)\n",
    "    num_classes = 280\n",
    "    num_coordinates = 4\n",
    "\n",
    "    x_input = layers.Input(shape=input_shape)\n",
    "    #Layer 1\n",
    "    x = layers.Conv2D(64, kernel_size=3, padding='same', activation='relu')(x_input)\n",
    "    x = layers.MaxPool2D()(x)\n",
    "    x = layers.BatchNormalization()(x) \n",
    "    \n",
    "    x = layers.Conv2D(64, kernel_size=3, padding='same', activation='relu')(x)\n",
    "    #Layer 2\n",
    "    x = layers.Conv2D(128, kernel_size=3, padding='same', activation='relu')(x)\n",
    "    x = layers.Conv2D(128, kernel_size=3, padding='same', activation='relu')(x)\n",
    "    #Layer 3\n",
    "    x = layers.Conv2D(256, kernel_size=3, padding='same', activation='relu')(x)\n",
    "    x = layers.Conv2D(256, kernel_size=3, padding='same', activation='relu')(x)\n",
    "    #Layer 4\n",
    "    x = layers.Conv2D(512, kernel_size=3, padding='same', activation='relu')(x)\n",
    "    x = layers.MaxPool2D()(x)\n",
    "    x = layers.Conv2D(512, kernel_size=3, padding='same', activation='relu')(x)\n",
    "    x = layers.MaxPool2D()(x)\n",
    "    x = layers.Conv2D(512, kernel_size=3, padding='same', activation='relu')(x)\n",
    "    x = layers.MaxPool2D()(x)\n",
    "    #Layer 5\n",
    "    x = layers.Conv2D(256, kernel_size=5, padding='same', activation='relu')(x)\n",
    "    x = layers.MaxPool2D()(x)\n",
    "    x = layers.BatchNormalization()(x) \n",
    "    \n",
    "    \n",
    "    x = layers.Flatten()(x)\n",
    "    x_prob = layers.Dense(num_classes, activation='sigmoid', name='x_prob')(x)\n",
    "    x_boxes = layers.Dense(num_classes * num_coordinates, activation='sigmoid', name='x_boxes')(x)\n",
    "    x_prob_reshape = layers.Reshape((-1, num_classes, 1), name='x_prob_reshape')(x_prob)\n",
    "    x_boxes_reshape = layers.Reshape((-1, num_classes, num_coordinates), name='x_boxes_reshape')(x_boxes)\n",
    "\n",
    "    model = models.Model(x_input, [x_prob_reshape, x_boxes_reshape])\n",
    "    return model\n",
    "\n",
    "# Optimizer selection\n",
    "def select_optimizer(optimizer_name, learning_rate):\n",
    "    if optimizer_name == 'adam':\n",
    "        return optimizers.Adam(learning_rate=learning_rate)\n",
    "    elif optimizer_name == 'sgd':\n",
    "        return optimizers.SGD(learning_rate=learning_rate, momentum=0.9)\n",
    "    else:\n",
    "        raise ValueError(\"Unsupported optimizer specified.\")\n",
    "\n",
    "# Training function with sweep\n",
    "def train_with_sweep():\n",
    "    # config_defaults = {\n",
    "    #     'batch_size': 32,\n",
    "    #     'epochs': 10,\n",
    "    #     'optimizer': 'adam',\n",
    "    #     'learning_rate': 0.001\n",
    "    # }\n",
    "    with wandb.init():\n",
    "        config = wandb.config\n",
    "\n",
    "        dataset = load_and_prepare_dataset(config.batch_size)\n",
    "        model = build_model()\n",
    "        # model = tf.keras.models.load_model('M11overfittedmodel3variant.h5')\n",
    "        optimizer = select_optimizer(config.optimizer, config.learning_rate)\n",
    "        model.compile(optimizer=optimizer, \n",
    "                      loss={'x_prob_reshape': 'binary_crossentropy', 'x_boxes_reshape': 'mean_squared_error'}, \n",
    "                      metrics={'x_prob_reshape': 'accuracy'})\n",
    "\n",
    "        # Fit the model\n",
    "        model.fit(dataset, epochs=config.epochs, callbacks=[wandb.keras.WandbCallback()])\n"
   ]
  },
  {
   "cell_type": "code",
   "execution_count": 25,
   "metadata": {},
   "outputs": [],
   "source": [
    "\n",
    "sweep_config = {\n",
    "    'method': 'random'\n",
    "    }\n",
    "metric = {\n",
    "    'name': 'loss',\n",
    "    'goal': 'minimize'   \n",
    "    }\n",
    "\n",
    "sweep_config['metric'] = metric\n",
    "parameters_dict = {\n",
    "    'optimizer': {\n",
    "        'values': ['adam', 'sgd']\n",
    "        }\n",
    "    # 'fc_layer_size': {\n",
    "    #     'values': [128, 256, 512]\n",
    "    #     },\n",
    "    # 'dropout': {\n",
    "    #       'values': [0.3, 0.4, 0.5]\n",
    "    #     },\n",
    "    }\n",
    "\n",
    "sweep_config['parameters'] = parameters_dict\n",
    "parameters_dict.update({\n",
    "    'epochs': {\n",
    "        'value': 10}\n",
    "    })\n",
    "parameters_dict.update({\n",
    "    'learning_rate': {\n",
    "        # a flat distribution between 0 and 0.1\n",
    "        'distribution': 'uniform',\n",
    "        'min': 0,\n",
    "        'max': 0.1\n",
    "      },\n",
    "    'batch_size': {\n",
    "        'values': [32, 64, 256]\n",
    "      }\n",
    "    })"
   ]
  },
  {
   "cell_type": "code",
   "execution_count": 21,
   "metadata": {},
   "outputs": [
    {
     "data": {
      "text/plain": [
       "{'method': 'random',\n",
       " 'metric': {'name': 'loss', 'goal': 'minimize'},\n",
       " 'parameters': {'optimizer': {'values': ['adam', 'sgd']},\n",
       "  'epochs': {'value': 11},\n",
       "  'learning_rate': {'distribution': 'uniform', 'min': 0, 'max': 0.1},\n",
       "  'batch_size': {'values': [32, 64, 128]}}}"
      ]
     },
     "execution_count": 21,
     "metadata": {},
     "output_type": "execute_result"
    }
   ],
   "source": [
    "sweep_config\n"
   ]
  },
  {
   "cell_type": "code",
   "execution_count": 26,
   "metadata": {},
   "outputs": [
    {
     "name": "stdout",
     "output_type": "stream",
     "text": [
      "Create sweep with ID: egosie6n\n",
      "Sweep URL: https://wandb.ai/alphanium/Working%20Hyperparameter%20Tuning/sweeps/egosie6n\n"
     ]
    },
    {
     "name": "stderr",
     "output_type": "stream",
     "text": [
      "\u001b[34m\u001b[1mwandb\u001b[0m: Agent Starting Run: qngp3s0s with config:\n",
      "\u001b[34m\u001b[1mwandb\u001b[0m: \tbatch_size: 32\n",
      "\u001b[34m\u001b[1mwandb\u001b[0m: \tepochs: 10\n",
      "\u001b[34m\u001b[1mwandb\u001b[0m: \tlearning_rate: 0.028461417967800853\n",
      "\u001b[34m\u001b[1mwandb\u001b[0m: \toptimizer: sgd\n",
      "Failed to detect the name of this notebook, you can set it manually with the WANDB_NOTEBOOK_NAME environment variable to enable code saving.\n"
     ]
    },
    {
     "data": {
      "text/html": [
       "Tracking run with wandb version 0.16.5"
      ],
      "text/plain": [
       "<IPython.core.display.HTML object>"
      ]
     },
     "metadata": {},
     "output_type": "display_data"
    },
    {
     "data": {
      "text/html": [
       "Run data is saved locally in <code>/home/m3-learning/wandb/run-20240401_135707-qngp3s0s</code>"
      ],
      "text/plain": [
       "<IPython.core.display.HTML object>"
      ]
     },
     "metadata": {},
     "output_type": "display_data"
    },
    {
     "data": {
      "text/html": [
       "Syncing run <strong><a href='https://wandb.ai/alphanium/Working%20Hyperparameter%20Tuning/runs/qngp3s0s/workspace' target=\"_blank\">expert-sweep-1</a></strong> to <a href='https://wandb.ai/alphanium/Working%20Hyperparameter%20Tuning' target=\"_blank\">Weights & Biases</a> (<a href='https://wandb.me/run' target=\"_blank\">docs</a>)<br/>Sweep page: <a href='https://wandb.ai/alphanium/Working%20Hyperparameter%20Tuning/sweeps/egosie6n' target=\"_blank\">https://wandb.ai/alphanium/Working%20Hyperparameter%20Tuning/sweeps/egosie6n</a>"
      ],
      "text/plain": [
       "<IPython.core.display.HTML object>"
      ]
     },
     "metadata": {},
     "output_type": "display_data"
    },
    {
     "data": {
      "text/html": [
       " View project at <a href='https://wandb.ai/alphanium/Working%20Hyperparameter%20Tuning' target=\"_blank\">https://wandb.ai/alphanium/Working%20Hyperparameter%20Tuning</a>"
      ],
      "text/plain": [
       "<IPython.core.display.HTML object>"
      ]
     },
     "metadata": {},
     "output_type": "display_data"
    },
    {
     "data": {
      "text/html": [
       " View sweep at <a href='https://wandb.ai/alphanium/Working%20Hyperparameter%20Tuning/sweeps/egosie6n' target=\"_blank\">https://wandb.ai/alphanium/Working%20Hyperparameter%20Tuning/sweeps/egosie6n</a>"
      ],
      "text/plain": [
       "<IPython.core.display.HTML object>"
      ]
     },
     "metadata": {},
     "output_type": "display_data"
    },
    {
     "data": {
      "text/html": [
       " View run at <a href='https://wandb.ai/alphanium/Working%20Hyperparameter%20Tuning/runs/qngp3s0s/workspace' target=\"_blank\">https://wandb.ai/alphanium/Working%20Hyperparameter%20Tuning/runs/qngp3s0s/workspace</a>"
      ],
      "text/plain": [
       "<IPython.core.display.HTML object>"
      ]
     },
     "metadata": {},
     "output_type": "display_data"
    },
    {
     "name": "stdout",
     "output_type": "stream",
     "text": [
      "Epoch 1/10\n",
      "313/313 [==============================] - 10s 24ms/step - loss: 0.2561 - x_prob_reshape_loss: 0.1769 - x_boxes_reshape_loss: 0.0792 - x_prob_reshape_accuracy: 0.9293\n",
      "Epoch 2/10\n",
      "313/313 [==============================] - 8s 24ms/step - loss: 0.1606 - x_prob_reshape_loss: 0.1084 - x_boxes_reshape_loss: 0.0522 - x_prob_reshape_accuracy: 0.9553\n",
      "Epoch 3/10\n",
      "313/313 [==============================] - 8s 24ms/step - loss: 0.1434 - x_prob_reshape_loss: 0.0938 - x_boxes_reshape_loss: 0.0496 - x_prob_reshape_accuracy: 0.9606\n",
      "Epoch 4/10\n",
      "313/313 [==============================] - 8s 25ms/step - loss: 0.1336 - x_prob_reshape_loss: 0.0856 - x_boxes_reshape_loss: 0.0481 - x_prob_reshape_accuracy: 0.9636\n",
      "Epoch 5/10\n",
      "313/313 [==============================] - 8s 25ms/step - loss: 0.1318 - x_prob_reshape_loss: 0.0841 - x_boxes_reshape_loss: 0.0477 - x_prob_reshape_accuracy: 0.9642\n",
      "Epoch 6/10\n",
      "313/313 [==============================] - 8s 24ms/step - loss: 0.1198 - x_prob_reshape_loss: 0.0733 - x_boxes_reshape_loss: 0.0464 - x_prob_reshape_accuracy: 0.9695\n",
      "Epoch 7/10\n",
      "313/313 [==============================] - 8s 25ms/step - loss: 0.1190 - x_prob_reshape_loss: 0.0727 - x_boxes_reshape_loss: 0.0463 - x_prob_reshape_accuracy: 0.9688\n",
      "Epoch 8/10\n",
      "313/313 [==============================] - 8s 24ms/step - loss: 0.1241 - x_prob_reshape_loss: 0.0779 - x_boxes_reshape_loss: 0.0462 - x_prob_reshape_accuracy: 0.9667\n",
      "Epoch 9/10\n",
      "313/313 [==============================] - 8s 24ms/step - loss: 0.1103 - x_prob_reshape_loss: 0.0652 - x_boxes_reshape_loss: 0.0451 - x_prob_reshape_accuracy: 0.9725\n",
      "Epoch 10/10\n",
      "313/313 [==============================] - 8s 25ms/step - loss: 0.1087 - x_prob_reshape_loss: 0.0638 - x_boxes_reshape_loss: 0.0449 - x_prob_reshape_accuracy: 0.9729\n"
     ]
    },
    {
     "data": {
      "text/html": [
       "<style>\n",
       "    table.wandb td:nth-child(1) { padding: 0 10px; text-align: left ; width: auto;} td:nth-child(2) {text-align: left ; width: 100%}\n",
       "    .wandb-row { display: flex; flex-direction: row; flex-wrap: wrap; justify-content: flex-start; width: 100% }\n",
       "    .wandb-col { display: flex; flex-direction: column; flex-basis: 100%; flex: 1; padding: 10px; }\n",
       "    </style>\n",
       "<div class=\"wandb-row\"><div class=\"wandb-col\"><h3>Run history:</h3><br/><table class=\"wandb\"><tr><td>epoch</td><td>▁▂▃▃▄▅▆▆▇█</td></tr><tr><td>loss</td><td>█▃▃▂▂▂▁▂▁▁</td></tr><tr><td>x_boxes_reshape_loss</td><td>█▂▂▂▂▁▁▁▁▁</td></tr><tr><td>x_prob_reshape_accuracy</td><td>▁▅▆▇▇▇▇▇██</td></tr><tr><td>x_prob_reshape_loss</td><td>█▄▃▂▂▂▂▂▁▁</td></tr></table><br/></div><div class=\"wandb-col\"><h3>Run summary:</h3><br/><table class=\"wandb\"><tr><td>epoch</td><td>9</td></tr><tr><td>loss</td><td>0.10873</td></tr><tr><td>x_boxes_reshape_loss</td><td>0.04489</td></tr><tr><td>x_prob_reshape_accuracy</td><td>0.97293</td></tr><tr><td>x_prob_reshape_loss</td><td>0.06384</td></tr></table><br/></div></div>"
      ],
      "text/plain": [
       "<IPython.core.display.HTML object>"
      ]
     },
     "metadata": {},
     "output_type": "display_data"
    },
    {
     "data": {
      "text/html": [
       " View run <strong style=\"color:#cdcd00\">expert-sweep-1</strong> at: <a href='https://wandb.ai/alphanium/Working%20Hyperparameter%20Tuning/runs/qngp3s0s/workspace' target=\"_blank\">https://wandb.ai/alphanium/Working%20Hyperparameter%20Tuning/runs/qngp3s0s/workspace</a><br/>Synced 6 W&B file(s), 1 media file(s), 0 artifact file(s) and 0 other file(s)"
      ],
      "text/plain": [
       "<IPython.core.display.HTML object>"
      ]
     },
     "metadata": {},
     "output_type": "display_data"
    },
    {
     "data": {
      "text/html": [
       "Find logs at: <code>./wandb/run-20240401_135707-qngp3s0s/logs</code>"
      ],
      "text/plain": [
       "<IPython.core.display.HTML object>"
      ]
     },
     "metadata": {},
     "output_type": "display_data"
    },
    {
     "name": "stderr",
     "output_type": "stream",
     "text": [
      "\u001b[34m\u001b[1mwandb\u001b[0m: Agent Starting Run: sb7lvyqc with config:\n",
      "\u001b[34m\u001b[1mwandb\u001b[0m: \tbatch_size: 64\n",
      "\u001b[34m\u001b[1mwandb\u001b[0m: \tepochs: 10\n",
      "\u001b[34m\u001b[1mwandb\u001b[0m: \tlearning_rate: 0.029841371945855368\n",
      "\u001b[34m\u001b[1mwandb\u001b[0m: \toptimizer: adam\n",
      "Failed to detect the name of this notebook, you can set it manually with the WANDB_NOTEBOOK_NAME environment variable to enable code saving.\n"
     ]
    },
    {
     "data": {
      "text/html": [
       "Tracking run with wandb version 0.16.5"
      ],
      "text/plain": [
       "<IPython.core.display.HTML object>"
      ]
     },
     "metadata": {},
     "output_type": "display_data"
    },
    {
     "data": {
      "text/html": [
       "Run data is saved locally in <code>/home/m3-learning/wandb/run-20240401_135838-sb7lvyqc</code>"
      ],
      "text/plain": [
       "<IPython.core.display.HTML object>"
      ]
     },
     "metadata": {},
     "output_type": "display_data"
    },
    {
     "data": {
      "text/html": [
       "Syncing run <strong><a href='https://wandb.ai/alphanium/Working%20Hyperparameter%20Tuning/runs/sb7lvyqc/workspace' target=\"_blank\">rose-sweep-2</a></strong> to <a href='https://wandb.ai/alphanium/Working%20Hyperparameter%20Tuning' target=\"_blank\">Weights & Biases</a> (<a href='https://wandb.me/run' target=\"_blank\">docs</a>)<br/>Sweep page: <a href='https://wandb.ai/alphanium/Working%20Hyperparameter%20Tuning/sweeps/egosie6n' target=\"_blank\">https://wandb.ai/alphanium/Working%20Hyperparameter%20Tuning/sweeps/egosie6n</a>"
      ],
      "text/plain": [
       "<IPython.core.display.HTML object>"
      ]
     },
     "metadata": {},
     "output_type": "display_data"
    },
    {
     "data": {
      "text/html": [
       " View project at <a href='https://wandb.ai/alphanium/Working%20Hyperparameter%20Tuning' target=\"_blank\">https://wandb.ai/alphanium/Working%20Hyperparameter%20Tuning</a>"
      ],
      "text/plain": [
       "<IPython.core.display.HTML object>"
      ]
     },
     "metadata": {},
     "output_type": "display_data"
    },
    {
     "data": {
      "text/html": [
       " View sweep at <a href='https://wandb.ai/alphanium/Working%20Hyperparameter%20Tuning/sweeps/egosie6n' target=\"_blank\">https://wandb.ai/alphanium/Working%20Hyperparameter%20Tuning/sweeps/egosie6n</a>"
      ],
      "text/plain": [
       "<IPython.core.display.HTML object>"
      ]
     },
     "metadata": {},
     "output_type": "display_data"
    },
    {
     "data": {
      "text/html": [
       " View run at <a href='https://wandb.ai/alphanium/Working%20Hyperparameter%20Tuning/runs/sb7lvyqc/workspace' target=\"_blank\">https://wandb.ai/alphanium/Working%20Hyperparameter%20Tuning/runs/sb7lvyqc/workspace</a>"
      ],
      "text/plain": [
       "<IPython.core.display.HTML object>"
      ]
     },
     "metadata": {},
     "output_type": "display_data"
    },
    {
     "name": "stdout",
     "output_type": "stream",
     "text": [
      "Epoch 1/10\n",
      "157/157 [==============================] - 9s 41ms/step - loss: 0.8451 - x_prob_reshape_loss: 0.7059 - x_boxes_reshape_loss: 0.1393 - x_prob_reshape_accuracy: 0.9192\n",
      "Epoch 2/10\n",
      "157/157 [==============================] - 7s 42ms/step - loss: 0.4817 - x_prob_reshape_loss: 0.3714 - x_boxes_reshape_loss: 0.1103 - x_prob_reshape_accuracy: 0.9462\n",
      "Epoch 3/10\n",
      "157/157 [==============================] - 6s 41ms/step - loss: 0.1418 - x_prob_reshape_loss: 0.0813 - x_boxes_reshape_loss: 0.0605 - x_prob_reshape_accuracy: 0.9652\n",
      "Epoch 4/10\n",
      "157/157 [==============================] - 6s 41ms/step - loss: 0.1362 - x_prob_reshape_loss: 0.0794 - x_boxes_reshape_loss: 0.0568 - x_prob_reshape_accuracy: 0.9654\n",
      "Epoch 5/10\n",
      "157/157 [==============================] - 6s 41ms/step - loss: 0.1344 - x_prob_reshape_loss: 0.0806 - x_boxes_reshape_loss: 0.0539 - x_prob_reshape_accuracy: 0.9647\n",
      "Epoch 6/10\n",
      "157/157 [==============================] - 6s 41ms/step - loss: 0.1242 - x_prob_reshape_loss: 0.0723 - x_boxes_reshape_loss: 0.0519 - x_prob_reshape_accuracy: 0.9683\n",
      "Epoch 7/10\n",
      "157/157 [==============================] - 7s 41ms/step - loss: 0.1169 - x_prob_reshape_loss: 0.0673 - x_boxes_reshape_loss: 0.0497 - x_prob_reshape_accuracy: 0.9705\n",
      "Epoch 8/10\n",
      "157/157 [==============================] - 7s 41ms/step - loss: 0.1197 - x_prob_reshape_loss: 0.0694 - x_boxes_reshape_loss: 0.0503 - x_prob_reshape_accuracy: 0.9699\n",
      "Epoch 9/10\n",
      "157/157 [==============================] - 7s 42ms/step - loss: 0.1271 - x_prob_reshape_loss: 0.0746 - x_boxes_reshape_loss: 0.0525 - x_prob_reshape_accuracy: 0.9678\n",
      "Epoch 10/10\n",
      "157/157 [==============================] - 6s 41ms/step - loss: 0.1251 - x_prob_reshape_loss: 0.0734 - x_boxes_reshape_loss: 0.0517 - x_prob_reshape_accuracy: 0.9685\n"
     ]
    },
    {
     "data": {
      "text/html": [
       "<style>\n",
       "    table.wandb td:nth-child(1) { padding: 0 10px; text-align: left ; width: auto;} td:nth-child(2) {text-align: left ; width: 100%}\n",
       "    .wandb-row { display: flex; flex-direction: row; flex-wrap: wrap; justify-content: flex-start; width: 100% }\n",
       "    .wandb-col { display: flex; flex-direction: column; flex-basis: 100%; flex: 1; padding: 10px; }\n",
       "    </style>\n",
       "<div class=\"wandb-row\"><div class=\"wandb-col\"><h3>Run history:</h3><br/><table class=\"wandb\"><tr><td>epoch</td><td>▁▂▃▃▄▅▆▆▇█</td></tr><tr><td>loss</td><td>█▅▁▁▁▁▁▁▁▁</td></tr><tr><td>x_boxes_reshape_loss</td><td>█▆▂▂▁▁▁▁▁▁</td></tr><tr><td>x_prob_reshape_accuracy</td><td>▁▅▇▇▇█████</td></tr><tr><td>x_prob_reshape_loss</td><td>█▄▁▁▁▁▁▁▁▁</td></tr></table><br/></div><div class=\"wandb-col\"><h3>Run summary:</h3><br/><table class=\"wandb\"><tr><td>epoch</td><td>9</td></tr><tr><td>loss</td><td>0.12506</td></tr><tr><td>x_boxes_reshape_loss</td><td>0.0517</td></tr><tr><td>x_prob_reshape_accuracy</td><td>0.96847</td></tr><tr><td>x_prob_reshape_loss</td><td>0.07337</td></tr></table><br/></div></div>"
      ],
      "text/plain": [
       "<IPython.core.display.HTML object>"
      ]
     },
     "metadata": {},
     "output_type": "display_data"
    },
    {
     "data": {
      "text/html": [
       " View run <strong style=\"color:#cdcd00\">rose-sweep-2</strong> at: <a href='https://wandb.ai/alphanium/Working%20Hyperparameter%20Tuning/runs/sb7lvyqc/workspace' target=\"_blank\">https://wandb.ai/alphanium/Working%20Hyperparameter%20Tuning/runs/sb7lvyqc/workspace</a><br/>Synced 6 W&B file(s), 1 media file(s), 0 artifact file(s) and 0 other file(s)"
      ],
      "text/plain": [
       "<IPython.core.display.HTML object>"
      ]
     },
     "metadata": {},
     "output_type": "display_data"
    },
    {
     "data": {
      "text/html": [
       "Find logs at: <code>./wandb/run-20240401_135838-sb7lvyqc/logs</code>"
      ],
      "text/plain": [
       "<IPython.core.display.HTML object>"
      ]
     },
     "metadata": {},
     "output_type": "display_data"
    },
    {
     "name": "stderr",
     "output_type": "stream",
     "text": [
      "\u001b[34m\u001b[1mwandb\u001b[0m: Agent Starting Run: wvekl9uj with config:\n",
      "\u001b[34m\u001b[1mwandb\u001b[0m: \tbatch_size: 64\n",
      "\u001b[34m\u001b[1mwandb\u001b[0m: \tepochs: 10\n",
      "\u001b[34m\u001b[1mwandb\u001b[0m: \tlearning_rate: 0.0784939075427362\n",
      "\u001b[34m\u001b[1mwandb\u001b[0m: \toptimizer: adam\n",
      "Failed to detect the name of this notebook, you can set it manually with the WANDB_NOTEBOOK_NAME environment variable to enable code saving.\n"
     ]
    },
    {
     "data": {
      "text/html": [
       "Tracking run with wandb version 0.16.5"
      ],
      "text/plain": [
       "<IPython.core.display.HTML object>"
      ]
     },
     "metadata": {},
     "output_type": "display_data"
    },
    {
     "data": {
      "text/html": [
       "Run data is saved locally in <code>/home/m3-learning/wandb/run-20240401_135959-wvekl9uj</code>"
      ],
      "text/plain": [
       "<IPython.core.display.HTML object>"
      ]
     },
     "metadata": {},
     "output_type": "display_data"
    },
    {
     "data": {
      "text/html": [
       "Syncing run <strong><a href='https://wandb.ai/alphanium/Working%20Hyperparameter%20Tuning/runs/wvekl9uj/workspace' target=\"_blank\">fresh-sweep-3</a></strong> to <a href='https://wandb.ai/alphanium/Working%20Hyperparameter%20Tuning' target=\"_blank\">Weights & Biases</a> (<a href='https://wandb.me/run' target=\"_blank\">docs</a>)<br/>Sweep page: <a href='https://wandb.ai/alphanium/Working%20Hyperparameter%20Tuning/sweeps/egosie6n' target=\"_blank\">https://wandb.ai/alphanium/Working%20Hyperparameter%20Tuning/sweeps/egosie6n</a>"
      ],
      "text/plain": [
       "<IPython.core.display.HTML object>"
      ]
     },
     "metadata": {},
     "output_type": "display_data"
    },
    {
     "data": {
      "text/html": [
       " View project at <a href='https://wandb.ai/alphanium/Working%20Hyperparameter%20Tuning' target=\"_blank\">https://wandb.ai/alphanium/Working%20Hyperparameter%20Tuning</a>"
      ],
      "text/plain": [
       "<IPython.core.display.HTML object>"
      ]
     },
     "metadata": {},
     "output_type": "display_data"
    },
    {
     "data": {
      "text/html": [
       " View sweep at <a href='https://wandb.ai/alphanium/Working%20Hyperparameter%20Tuning/sweeps/egosie6n' target=\"_blank\">https://wandb.ai/alphanium/Working%20Hyperparameter%20Tuning/sweeps/egosie6n</a>"
      ],
      "text/plain": [
       "<IPython.core.display.HTML object>"
      ]
     },
     "metadata": {},
     "output_type": "display_data"
    },
    {
     "data": {
      "text/html": [
       " View run at <a href='https://wandb.ai/alphanium/Working%20Hyperparameter%20Tuning/runs/wvekl9uj/workspace' target=\"_blank\">https://wandb.ai/alphanium/Working%20Hyperparameter%20Tuning/runs/wvekl9uj/workspace</a>"
      ],
      "text/plain": [
       "<IPython.core.display.HTML object>"
      ]
     },
     "metadata": {},
     "output_type": "display_data"
    },
    {
     "name": "stdout",
     "output_type": "stream",
     "text": [
      "Epoch 1/10\n",
      "157/157 [==============================] - 9s 41ms/step - loss: 0.6739 - x_prob_reshape_loss: 0.5720 - x_boxes_reshape_loss: 0.1019 - x_prob_reshape_accuracy: 0.7793\n",
      "Epoch 2/10\n",
      "157/157 [==============================] - 6s 41ms/step - loss: 0.5069 - x_prob_reshape_loss: 0.4332 - x_boxes_reshape_loss: 0.0736 - x_prob_reshape_accuracy: 0.7855\n",
      "Epoch 3/10\n",
      "157/157 [==============================] - 6s 41ms/step - loss: 0.5026 - x_prob_reshape_loss: 0.4312 - x_boxes_reshape_loss: 0.0714 - x_prob_reshape_accuracy: 0.7868\n",
      "Epoch 4/10\n",
      "157/157 [==============================] - 6s 41ms/step - loss: 0.5128 - x_prob_reshape_loss: 0.4387 - x_boxes_reshape_loss: 0.0741 - x_prob_reshape_accuracy: 0.7823\n",
      "Epoch 5/10\n",
      "157/157 [==============================] - 6s 41ms/step - loss: 0.5084 - x_prob_reshape_loss: 0.4370 - x_boxes_reshape_loss: 0.0715 - x_prob_reshape_accuracy: 0.7826\n",
      "Epoch 6/10\n",
      "157/157 [==============================] - 6s 41ms/step - loss: 0.5087 - x_prob_reshape_loss: 0.4367 - x_boxes_reshape_loss: 0.0720 - x_prob_reshape_accuracy: 0.7825\n",
      "Epoch 7/10\n",
      "157/157 [==============================] - 6s 41ms/step - loss: 0.5086 - x_prob_reshape_loss: 0.4369 - x_boxes_reshape_loss: 0.0716 - x_prob_reshape_accuracy: 0.7826\n",
      "Epoch 8/10\n",
      "157/157 [==============================] - 6s 41ms/step - loss: 0.5096 - x_prob_reshape_loss: 0.4373 - x_boxes_reshape_loss: 0.0723 - x_prob_reshape_accuracy: 0.7822\n",
      "Epoch 9/10\n",
      "157/157 [==============================] - 7s 41ms/step - loss: 0.5121 - x_prob_reshape_loss: 0.4380 - x_boxes_reshape_loss: 0.0741 - x_prob_reshape_accuracy: 0.7816\n",
      "Epoch 10/10\n",
      "157/157 [==============================] - 6s 41ms/step - loss: 0.5115 - x_prob_reshape_loss: 0.4377 - x_boxes_reshape_loss: 0.0738 - x_prob_reshape_accuracy: 0.7822\n"
     ]
    },
    {
     "data": {
      "text/html": [
       "<style>\n",
       "    table.wandb td:nth-child(1) { padding: 0 10px; text-align: left ; width: auto;} td:nth-child(2) {text-align: left ; width: 100%}\n",
       "    .wandb-row { display: flex; flex-direction: row; flex-wrap: wrap; justify-content: flex-start; width: 100% }\n",
       "    .wandb-col { display: flex; flex-direction: column; flex-basis: 100%; flex: 1; padding: 10px; }\n",
       "    </style>\n",
       "<div class=\"wandb-row\"><div class=\"wandb-col\"><h3>Run history:</h3><br/><table class=\"wandb\"><tr><td>epoch</td><td>▁▂▃▃▄▅▆▆▇█</td></tr><tr><td>loss</td><td>█▁▁▁▁▁▁▁▁▁</td></tr><tr><td>x_boxes_reshape_loss</td><td>█▂▁▂▁▁▁▁▂▂</td></tr><tr><td>x_prob_reshape_accuracy</td><td>▁▇█▄▄▄▄▄▃▄</td></tr><tr><td>x_prob_reshape_loss</td><td>█▁▁▁▁▁▁▁▁▁</td></tr></table><br/></div><div class=\"wandb-col\"><h3>Run summary:</h3><br/><table class=\"wandb\"><tr><td>epoch</td><td>9</td></tr><tr><td>loss</td><td>0.51149</td></tr><tr><td>x_boxes_reshape_loss</td><td>0.07379</td></tr><tr><td>x_prob_reshape_accuracy</td><td>0.78219</td></tr><tr><td>x_prob_reshape_loss</td><td>0.4377</td></tr></table><br/></div></div>"
      ],
      "text/plain": [
       "<IPython.core.display.HTML object>"
      ]
     },
     "metadata": {},
     "output_type": "display_data"
    },
    {
     "data": {
      "text/html": [
       " View run <strong style=\"color:#cdcd00\">fresh-sweep-3</strong> at: <a href='https://wandb.ai/alphanium/Working%20Hyperparameter%20Tuning/runs/wvekl9uj/workspace' target=\"_blank\">https://wandb.ai/alphanium/Working%20Hyperparameter%20Tuning/runs/wvekl9uj/workspace</a><br/>Synced 6 W&B file(s), 1 media file(s), 0 artifact file(s) and 0 other file(s)"
      ],
      "text/plain": [
       "<IPython.core.display.HTML object>"
      ]
     },
     "metadata": {},
     "output_type": "display_data"
    },
    {
     "data": {
      "text/html": [
       "Find logs at: <code>./wandb/run-20240401_135959-wvekl9uj/logs</code>"
      ],
      "text/plain": [
       "<IPython.core.display.HTML object>"
      ]
     },
     "metadata": {},
     "output_type": "display_data"
    },
    {
     "name": "stderr",
     "output_type": "stream",
     "text": [
      "\u001b[34m\u001b[1mwandb\u001b[0m: Agent Starting Run: dl96q0re with config:\n",
      "\u001b[34m\u001b[1mwandb\u001b[0m: \tbatch_size: 256\n",
      "\u001b[34m\u001b[1mwandb\u001b[0m: \tepochs: 10\n",
      "\u001b[34m\u001b[1mwandb\u001b[0m: \tlearning_rate: 0.09612093850197496\n",
      "\u001b[34m\u001b[1mwandb\u001b[0m: \toptimizer: adam\n",
      "Failed to detect the name of this notebook, you can set it manually with the WANDB_NOTEBOOK_NAME environment variable to enable code saving.\n"
     ]
    },
    {
     "data": {
      "text/html": [
       "Tracking run with wandb version 0.16.5"
      ],
      "text/plain": [
       "<IPython.core.display.HTML object>"
      ]
     },
     "metadata": {},
     "output_type": "display_data"
    },
    {
     "data": {
      "text/html": [
       "Run data is saved locally in <code>/home/m3-learning/wandb/run-20240401_140120-dl96q0re</code>"
      ],
      "text/plain": [
       "<IPython.core.display.HTML object>"
      ]
     },
     "metadata": {},
     "output_type": "display_data"
    },
    {
     "data": {
      "text/html": [
       "Syncing run <strong><a href='https://wandb.ai/alphanium/Working%20Hyperparameter%20Tuning/runs/dl96q0re/workspace' target=\"_blank\">easy-sweep-4</a></strong> to <a href='https://wandb.ai/alphanium/Working%20Hyperparameter%20Tuning' target=\"_blank\">Weights & Biases</a> (<a href='https://wandb.me/run' target=\"_blank\">docs</a>)<br/>Sweep page: <a href='https://wandb.ai/alphanium/Working%20Hyperparameter%20Tuning/sweeps/egosie6n' target=\"_blank\">https://wandb.ai/alphanium/Working%20Hyperparameter%20Tuning/sweeps/egosie6n</a>"
      ],
      "text/plain": [
       "<IPython.core.display.HTML object>"
      ]
     },
     "metadata": {},
     "output_type": "display_data"
    },
    {
     "data": {
      "text/html": [
       " View project at <a href='https://wandb.ai/alphanium/Working%20Hyperparameter%20Tuning' target=\"_blank\">https://wandb.ai/alphanium/Working%20Hyperparameter%20Tuning</a>"
      ],
      "text/plain": [
       "<IPython.core.display.HTML object>"
      ]
     },
     "metadata": {},
     "output_type": "display_data"
    },
    {
     "data": {
      "text/html": [
       " View sweep at <a href='https://wandb.ai/alphanium/Working%20Hyperparameter%20Tuning/sweeps/egosie6n' target=\"_blank\">https://wandb.ai/alphanium/Working%20Hyperparameter%20Tuning/sweeps/egosie6n</a>"
      ],
      "text/plain": [
       "<IPython.core.display.HTML object>"
      ]
     },
     "metadata": {},
     "output_type": "display_data"
    },
    {
     "data": {
      "text/html": [
       " View run at <a href='https://wandb.ai/alphanium/Working%20Hyperparameter%20Tuning/runs/dl96q0re/workspace' target=\"_blank\">https://wandb.ai/alphanium/Working%20Hyperparameter%20Tuning/runs/dl96q0re/workspace</a>"
      ],
      "text/plain": [
       "<IPython.core.display.HTML object>"
      ]
     },
     "metadata": {},
     "output_type": "display_data"
    },
    {
     "name": "stdout",
     "output_type": "stream",
     "text": [
      "Epoch 1/10\n",
      " 6/40 [===>..........................] - ETA: 4s - loss: 2.6523 - x_prob_reshape_loss: 2.4493 - x_boxes_reshape_loss: 0.2030 - x_prob_reshape_accuracy: 0.6901WARNING:tensorflow:Callback method `on_train_batch_end` is slow compared to the batch time (batch time: 0.0516s vs `on_train_batch_end` time: 0.0725s). Check your callbacks.\n",
      "40/40 [==============================] - 23s 131ms/step - loss: 1.0701 - x_prob_reshape_loss: 0.9319 - x_boxes_reshape_loss: 0.1383 - x_prob_reshape_accuracy: 0.7433\n",
      "Epoch 2/10\n",
      "40/40 [==============================] - 5s 131ms/step - loss: 0.5761 - x_prob_reshape_loss: 0.4833 - x_boxes_reshape_loss: 0.0928 - x_prob_reshape_accuracy: 0.7666\n",
      "Epoch 3/10\n",
      "40/40 [==============================] - 5s 132ms/step - loss: 0.5195 - x_prob_reshape_loss: 0.4428 - x_boxes_reshape_loss: 0.0767 - x_prob_reshape_accuracy: 0.7798\n",
      "Epoch 4/10\n",
      "40/40 [==============================] - 5s 132ms/step - loss: 0.5140 - x_prob_reshape_loss: 0.4398 - x_boxes_reshape_loss: 0.0742 - x_prob_reshape_accuracy: 0.7812\n",
      "Epoch 5/10\n",
      "40/40 [==============================] - 5s 131ms/step - loss: 0.5139 - x_prob_reshape_loss: 0.4401 - x_boxes_reshape_loss: 0.0738 - x_prob_reshape_accuracy: 0.7812\n",
      "Epoch 6/10\n",
      "40/40 [==============================] - 5s 129ms/step - loss: 0.5113 - x_prob_reshape_loss: 0.4389 - x_boxes_reshape_loss: 0.0724 - x_prob_reshape_accuracy: 0.7821\n",
      "Epoch 7/10\n",
      "40/40 [==============================] - 5s 129ms/step - loss: 0.5117 - x_prob_reshape_loss: 0.4394 - x_boxes_reshape_loss: 0.0722 - x_prob_reshape_accuracy: 0.7815\n",
      "Epoch 8/10\n",
      "40/40 [==============================] - 5s 129ms/step - loss: 0.5096 - x_prob_reshape_loss: 0.4382 - x_boxes_reshape_loss: 0.0714 - x_prob_reshape_accuracy: 0.7819\n",
      "Epoch 9/10\n",
      "40/40 [==============================] - 5s 129ms/step - loss: 0.5107 - x_prob_reshape_loss: 0.4392 - x_boxes_reshape_loss: 0.0715 - x_prob_reshape_accuracy: 0.7822\n",
      "Epoch 10/10\n",
      "40/40 [==============================] - 5s 129ms/step - loss: 0.5086 - x_prob_reshape_loss: 0.4376 - x_boxes_reshape_loss: 0.0710 - x_prob_reshape_accuracy: 0.7825\n"
     ]
    },
    {
     "data": {
      "text/html": [
       "<style>\n",
       "    table.wandb td:nth-child(1) { padding: 0 10px; text-align: left ; width: auto;} td:nth-child(2) {text-align: left ; width: 100%}\n",
       "    .wandb-row { display: flex; flex-direction: row; flex-wrap: wrap; justify-content: flex-start; width: 100% }\n",
       "    .wandb-col { display: flex; flex-direction: column; flex-basis: 100%; flex: 1; padding: 10px; }\n",
       "    </style>\n",
       "<div class=\"wandb-row\"><div class=\"wandb-col\"><h3>Run history:</h3><br/><table class=\"wandb\"><tr><td>epoch</td><td>▁▂▃▃▄▅▆▆▇█</td></tr><tr><td>loss</td><td>█▂▁▁▁▁▁▁▁▁</td></tr><tr><td>x_boxes_reshape_loss</td><td>█▃▂▁▁▁▁▁▁▁</td></tr><tr><td>x_prob_reshape_accuracy</td><td>▁▅████████</td></tr><tr><td>x_prob_reshape_loss</td><td>█▂▁▁▁▁▁▁▁▁</td></tr></table><br/></div><div class=\"wandb-col\"><h3>Run summary:</h3><br/><table class=\"wandb\"><tr><td>epoch</td><td>9</td></tr><tr><td>loss</td><td>0.50859</td></tr><tr><td>x_boxes_reshape_loss</td><td>0.07097</td></tr><tr><td>x_prob_reshape_accuracy</td><td>0.78253</td></tr><tr><td>x_prob_reshape_loss</td><td>0.43762</td></tr></table><br/></div></div>"
      ],
      "text/plain": [
       "<IPython.core.display.HTML object>"
      ]
     },
     "metadata": {},
     "output_type": "display_data"
    },
    {
     "data": {
      "text/html": [
       " View run <strong style=\"color:#cdcd00\">easy-sweep-4</strong> at: <a href='https://wandb.ai/alphanium/Working%20Hyperparameter%20Tuning/runs/dl96q0re/workspace' target=\"_blank\">https://wandb.ai/alphanium/Working%20Hyperparameter%20Tuning/runs/dl96q0re/workspace</a><br/>Synced 6 W&B file(s), 1 media file(s), 0 artifact file(s) and 0 other file(s)"
      ],
      "text/plain": [
       "<IPython.core.display.HTML object>"
      ]
     },
     "metadata": {},
     "output_type": "display_data"
    },
    {
     "data": {
      "text/html": [
       "Find logs at: <code>./wandb/run-20240401_140120-dl96q0re/logs</code>"
      ],
      "text/plain": [
       "<IPython.core.display.HTML object>"
      ]
     },
     "metadata": {},
     "output_type": "display_data"
    },
    {
     "name": "stderr",
     "output_type": "stream",
     "text": [
      "\u001b[34m\u001b[1mwandb\u001b[0m: Agent Starting Run: qh2267ds with config:\n",
      "\u001b[34m\u001b[1mwandb\u001b[0m: \tbatch_size: 64\n",
      "\u001b[34m\u001b[1mwandb\u001b[0m: \tepochs: 10\n",
      "\u001b[34m\u001b[1mwandb\u001b[0m: \tlearning_rate: 0.09087766902318978\n",
      "\u001b[34m\u001b[1mwandb\u001b[0m: \toptimizer: sgd\n",
      "Failed to detect the name of this notebook, you can set it manually with the WANDB_NOTEBOOK_NAME environment variable to enable code saving.\n"
     ]
    },
    {
     "data": {
      "text/html": [
       "Tracking run with wandb version 0.16.5"
      ],
      "text/plain": [
       "<IPython.core.display.HTML object>"
      ]
     },
     "metadata": {},
     "output_type": "display_data"
    },
    {
     "data": {
      "text/html": [
       "Run data is saved locally in <code>/home/m3-learning/wandb/run-20240401_140242-qh2267ds</code>"
      ],
      "text/plain": [
       "<IPython.core.display.HTML object>"
      ]
     },
     "metadata": {},
     "output_type": "display_data"
    },
    {
     "data": {
      "text/html": [
       "Syncing run <strong><a href='https://wandb.ai/alphanium/Working%20Hyperparameter%20Tuning/runs/qh2267ds/workspace' target=\"_blank\">quiet-sweep-5</a></strong> to <a href='https://wandb.ai/alphanium/Working%20Hyperparameter%20Tuning' target=\"_blank\">Weights & Biases</a> (<a href='https://wandb.me/run' target=\"_blank\">docs</a>)<br/>Sweep page: <a href='https://wandb.ai/alphanium/Working%20Hyperparameter%20Tuning/sweeps/egosie6n' target=\"_blank\">https://wandb.ai/alphanium/Working%20Hyperparameter%20Tuning/sweeps/egosie6n</a>"
      ],
      "text/plain": [
       "<IPython.core.display.HTML object>"
      ]
     },
     "metadata": {},
     "output_type": "display_data"
    },
    {
     "data": {
      "text/html": [
       " View project at <a href='https://wandb.ai/alphanium/Working%20Hyperparameter%20Tuning' target=\"_blank\">https://wandb.ai/alphanium/Working%20Hyperparameter%20Tuning</a>"
      ],
      "text/plain": [
       "<IPython.core.display.HTML object>"
      ]
     },
     "metadata": {},
     "output_type": "display_data"
    },
    {
     "data": {
      "text/html": [
       " View sweep at <a href='https://wandb.ai/alphanium/Working%20Hyperparameter%20Tuning/sweeps/egosie6n' target=\"_blank\">https://wandb.ai/alphanium/Working%20Hyperparameter%20Tuning/sweeps/egosie6n</a>"
      ],
      "text/plain": [
       "<IPython.core.display.HTML object>"
      ]
     },
     "metadata": {},
     "output_type": "display_data"
    },
    {
     "data": {
      "text/html": [
       " View run at <a href='https://wandb.ai/alphanium/Working%20Hyperparameter%20Tuning/runs/qh2267ds/workspace' target=\"_blank\">https://wandb.ai/alphanium/Working%20Hyperparameter%20Tuning/runs/qh2267ds/workspace</a>"
      ],
      "text/plain": [
       "<IPython.core.display.HTML object>"
      ]
     },
     "metadata": {},
     "output_type": "display_data"
    },
    {
     "name": "stdout",
     "output_type": "stream",
     "text": [
      "Epoch 1/10\n",
      "157/157 [==============================] - 8s 41ms/step - loss: 0.2365 - x_prob_reshape_loss: 0.1607 - x_boxes_reshape_loss: 0.0759 - x_prob_reshape_accuracy: 0.9359\n",
      "Epoch 2/10\n",
      "157/157 [==============================] - 6s 41ms/step - loss: 0.1356 - x_prob_reshape_loss: 0.0850 - x_boxes_reshape_loss: 0.0506 - x_prob_reshape_accuracy: 0.9663\n",
      "Epoch 3/10\n",
      "157/157 [==============================] - 6s 41ms/step - loss: 0.1254 - x_prob_reshape_loss: 0.0766 - x_boxes_reshape_loss: 0.0488 - x_prob_reshape_accuracy: 0.9682\n",
      "Epoch 4/10\n",
      "157/157 [==============================] - 6s 41ms/step - loss: 0.1221 - x_prob_reshape_loss: 0.0743 - x_boxes_reshape_loss: 0.0478 - x_prob_reshape_accuracy: 0.9687\n",
      "Epoch 5/10\n",
      "157/157 [==============================] - 6s 41ms/step - loss: 0.1132 - x_prob_reshape_loss: 0.0664 - x_boxes_reshape_loss: 0.0468 - x_prob_reshape_accuracy: 0.9719\n",
      "Epoch 6/10\n",
      "157/157 [==============================] - 6s 41ms/step - loss: 0.1160 - x_prob_reshape_loss: 0.0696 - x_boxes_reshape_loss: 0.0464 - x_prob_reshape_accuracy: 0.9703\n",
      "Epoch 7/10\n",
      "157/157 [==============================] - 7s 42ms/step - loss: 0.1097 - x_prob_reshape_loss: 0.0640 - x_boxes_reshape_loss: 0.0457 - x_prob_reshape_accuracy: 0.9727\n",
      "Epoch 8/10\n",
      "157/157 [==============================] - 7s 42ms/step - loss: 0.1090 - x_prob_reshape_loss: 0.0636 - x_boxes_reshape_loss: 0.0454 - x_prob_reshape_accuracy: 0.9724\n",
      "Epoch 9/10\n",
      "157/157 [==============================] - 7s 42ms/step - loss: 0.1071 - x_prob_reshape_loss: 0.0618 - x_boxes_reshape_loss: 0.0453 - x_prob_reshape_accuracy: 0.9735\n",
      "Epoch 10/10\n",
      "157/157 [==============================] - 6s 41ms/step - loss: 0.1101 - x_prob_reshape_loss: 0.0647 - x_boxes_reshape_loss: 0.0454 - x_prob_reshape_accuracy: 0.9721\n"
     ]
    },
    {
     "data": {
      "text/html": [
       "<style>\n",
       "    table.wandb td:nth-child(1) { padding: 0 10px; text-align: left ; width: auto;} td:nth-child(2) {text-align: left ; width: 100%}\n",
       "    .wandb-row { display: flex; flex-direction: row; flex-wrap: wrap; justify-content: flex-start; width: 100% }\n",
       "    .wandb-col { display: flex; flex-direction: column; flex-basis: 100%; flex: 1; padding: 10px; }\n",
       "    </style>\n",
       "<div class=\"wandb-row\"><div class=\"wandb-col\"><h3>Run history:</h3><br/><table class=\"wandb\"><tr><td>epoch</td><td>▁▂▃▃▄▅▆▆▇█</td></tr><tr><td>loss</td><td>█▃▂▂▁▁▁▁▁▁</td></tr><tr><td>x_boxes_reshape_loss</td><td>█▂▂▂▁▁▁▁▁▁</td></tr><tr><td>x_prob_reshape_accuracy</td><td>▁▇▇▇█▇████</td></tr><tr><td>x_prob_reshape_loss</td><td>█▃▂▂▁▂▁▁▁▁</td></tr></table><br/></div><div class=\"wandb-col\"><h3>Run summary:</h3><br/><table class=\"wandb\"><tr><td>epoch</td><td>9</td></tr><tr><td>loss</td><td>0.11011</td></tr><tr><td>x_boxes_reshape_loss</td><td>0.04545</td></tr><tr><td>x_prob_reshape_accuracy</td><td>0.97207</td></tr><tr><td>x_prob_reshape_loss</td><td>0.06466</td></tr></table><br/></div></div>"
      ],
      "text/plain": [
       "<IPython.core.display.HTML object>"
      ]
     },
     "metadata": {},
     "output_type": "display_data"
    },
    {
     "data": {
      "text/html": [
       " View run <strong style=\"color:#cdcd00\">quiet-sweep-5</strong> at: <a href='https://wandb.ai/alphanium/Working%20Hyperparameter%20Tuning/runs/qh2267ds/workspace' target=\"_blank\">https://wandb.ai/alphanium/Working%20Hyperparameter%20Tuning/runs/qh2267ds/workspace</a><br/>Synced 6 W&B file(s), 1 media file(s), 0 artifact file(s) and 0 other file(s)"
      ],
      "text/plain": [
       "<IPython.core.display.HTML object>"
      ]
     },
     "metadata": {},
     "output_type": "display_data"
    },
    {
     "data": {
      "text/html": [
       "Find logs at: <code>./wandb/run-20240401_140242-qh2267ds/logs</code>"
      ],
      "text/plain": [
       "<IPython.core.display.HTML object>"
      ]
     },
     "metadata": {},
     "output_type": "display_data"
    }
   ],
   "source": [
    "sweep_id = wandb.sweep(sweep_config, project=\"Working Hyperparameter Tuning\")\n",
    "wandb.agent(sweep_id, train_with_sweep, count=5)"
   ]
  }
 ],
 "metadata": {
  "kernelspec": {
   "display_name": "tiny_yolo",
   "language": "python",
   "name": "python3"
  },
  "language_info": {
   "codemirror_mode": {
    "name": "ipython",
    "version": 3
   },
   "file_extension": ".py",
   "mimetype": "text/x-python",
   "name": "python",
   "nbconvert_exporter": "python",
   "pygments_lexer": "ipython3",
   "version": "3.10.13"
  }
 },
 "nbformat": 4,
 "nbformat_minor": 2
}
