{
 "cells": [
  {
   "cell_type": "code",
   "execution_count": 8,
   "metadata": {},
   "outputs": [
    {
     "name": "stderr",
     "output_type": "stream",
     "text": [
      "2024-04-04 14:52:43.604835: I tensorflow/core/common_runtime/gpu/gpu_device.cc:1929] Created device /job:localhost/replica:0/task:0/device:GPU:0 with 16424 MB memory:  -> device: 0, name: NVIDIA GeForce RTX 3090, pci bus id: 0000:68:00.0, compute capability: 8.6\n"
     ]
    }
   ],
   "source": [
    "import numpy as np\n",
    "import tensorflow as tf\n",
    "from tensorflow.keras import layers, models\n",
    "import cv2\n",
    "import matplotlib.pyplot as plt\n",
    "import h5py\n",
    "import wandb\n",
    "import random\n",
    "\n",
    "\n",
    "# Configure Keras to use GPU\n",
    "config = tf.compat.v1.ConfigProto()\n",
    "config.gpu_options.allow_growth = True\n",
    "sess = tf.compat.v1.Session(config=config)\n",
    "tf.compat.v1.keras.backend.set_session(sess)\n",
    "\n"
   ]
  },
  {
   "cell_type": "code",
   "execution_count": 9,
   "metadata": {},
   "outputs": [],
   "source": [
    "import wandb\n",
    "import tensorflow as tf\n",
    "import numpy as np\n",
    "import h5py\n",
    "from tensorflow.keras import layers, models, optimizers\n",
    "\n",
    "\n",
    "\n",
    "with h5py.File('TrainingData5zeroes.h5', 'r') as hdf:\n",
    "    ls = list(hdf.keys())\n",
    "    images = hdf.get('images')\n",
    "    boxes = hdf.get('boxes')\n",
    "    images = np.array(images)\n",
    "    boxes = np.array(boxes)\n"
   ]
  },
  {
   "cell_type": "code",
   "execution_count": 13,
   "metadata": {},
   "outputs": [
    {
     "data": {
      "text/plain": [
       "(10000, 64, 64)"
      ]
     },
     "execution_count": 13,
     "metadata": {},
     "output_type": "execute_result"
    }
   ],
   "source": [
    "images.shape"
   ]
  },
  {
   "cell_type": "code",
   "execution_count": 18,
   "metadata": {},
   "outputs": [],
   "source": [
    "\n",
    "\n",
    "image_normalized = (images + 1e-9) / 9.26\n",
    "normalized_boxes = boxes / [1, 64, 64, 64, 64]\n",
    "\n",
    "images_np = image_normalized\n",
    "\n",
    "probabilities = np.array(normalized_boxes[:, :, :-4])\n",
    "probabilities = tf.expand_dims(probabilities, axis=1)\n",
    "boxes_np = np.array(normalized_boxes[:, :, 1:])\n",
    "boxes_np = tf.expand_dims(boxes_np, axis=1)\n",
    "batch_size = 128\n",
    "dataset = tf.data.Dataset.from_tensor_slices((images_np, {'x_prob_reshape': probabilities, 'x_boxes_reshape': boxes_np}))\n",
    "dataset = dataset.shuffle(buffer_size=10000).batch(batch_size)\n",
    "\n",
    "\n",
    "\n",
    "\n",
    "# total_items = 10000\n",
    "# train_size = int(total_items * 0.8)\n",
    "# val_size = total_items - train_size\n",
    "\n",
    "# # Splitting the dataset\n",
    "# train_dataset = dataset.take(train_size)\n",
    "# val_dataset = dataset.take(val_size)\n",
    "\n",
    "\n",
    "# train_dataset = train_dataset.shuffle(buffer_size=train_size,reshuffle_each_iteration=True)\n",
    "# train_dataset = train_dataset.batch(batch_size)\n",
    "# val_dataset = val_dataset.batch(batch_size) \n",
    "\n",
    "    \n",
    "    \n",
    "    \n",
    "   "
   ]
  },
  {
   "cell_type": "code",
   "execution_count": 19,
   "metadata": {},
   "outputs": [
    {
     "name": "stdout",
     "output_type": "stream",
     "text": [
      "Epoch 1/11\n"
     ]
    },
    {
     "name": "stderr",
     "output_type": "stream",
     "text": [
      "2024-04-04 14:55:18.362930: I external/local_xla/xla/stream_executor/cuda/cuda_dnn.cc:454] Loaded cuDNN version 8904\n",
      "2024-04-04 14:55:18.449672: I external/local_tsl/tsl/platform/default/subprocess.cc:304] Start cannot spawn child process: No such file or directory\n",
      "2024-04-04 14:55:19.450556: I external/local_tsl/tsl/platform/default/subprocess.cc:304] Start cannot spawn child process: No such file or directory\n",
      "2024-04-04 14:55:20.466312: I external/local_xla/xla/service/service.cc:168] XLA service 0x5c1b50481ea0 initialized for platform CUDA (this does not guarantee that XLA will be used). Devices:\n",
      "2024-04-04 14:55:20.466336: I external/local_xla/xla/service/service.cc:176]   StreamExecutor device (0): NVIDIA GeForce RTX 3090, Compute Capability 8.6\n",
      "2024-04-04 14:55:20.471072: I tensorflow/compiler/mlir/tensorflow/utils/dump_mlir_util.cc:269] disabling MLIR crash reproducer, set env var `MLIR_CRASH_REPRODUCER_DIRECTORY` to enable.\n",
      "WARNING: All log messages before absl::InitializeLog() is called are written to STDERR\n",
      "I0000 00:00:1712256920.590157  915296 device_compiler.h:186] Compiled cluster using XLA!  This line is logged at most once for the lifetime of the process.\n"
     ]
    },
    {
     "name": "stdout",
     "output_type": "stream",
     "text": [
      "79/79 [==============================] - 21s 95ms/step - loss: 0.5227 - x_prob_reshape_loss: 0.3880 - x_boxes_reshape_loss: 0.1347 - x_prob_reshape_accuracy: 0.8405\n",
      "Epoch 2/11\n",
      "79/79 [==============================] - 6s 73ms/step - loss: 0.2454 - x_prob_reshape_loss: 0.1777 - x_boxes_reshape_loss: 0.0677 - x_prob_reshape_accuracy: 0.9516\n",
      "Epoch 3/11\n",
      "79/79 [==============================] - 6s 72ms/step - loss: 0.1958 - x_prob_reshape_loss: 0.1409 - x_boxes_reshape_loss: 0.0548 - x_prob_reshape_accuracy: 0.9547\n",
      "Epoch 4/11\n",
      "79/79 [==============================] - 6s 73ms/step - loss: 0.1718 - x_prob_reshape_loss: 0.1212 - x_boxes_reshape_loss: 0.0506 - x_prob_reshape_accuracy: 0.9584\n",
      "Epoch 5/11\n",
      "79/79 [==============================] - 6s 72ms/step - loss: 0.1543 - x_prob_reshape_loss: 0.1060 - x_boxes_reshape_loss: 0.0483 - x_prob_reshape_accuracy: 0.9635\n",
      "Epoch 6/11\n",
      "79/79 [==============================] - 6s 71ms/step - loss: 0.1456 - x_prob_reshape_loss: 0.0985 - x_boxes_reshape_loss: 0.0470 - x_prob_reshape_accuracy: 0.9645\n",
      "Epoch 7/11\n",
      "79/79 [==============================] - 6s 72ms/step - loss: 0.1395 - x_prob_reshape_loss: 0.0934 - x_boxes_reshape_loss: 0.0461 - x_prob_reshape_accuracy: 0.9654\n",
      "Epoch 8/11\n",
      "79/79 [==============================] - 6s 72ms/step - loss: 0.1366 - x_prob_reshape_loss: 0.0912 - x_boxes_reshape_loss: 0.0454 - x_prob_reshape_accuracy: 0.9643\n",
      "Epoch 9/11\n",
      "79/79 [==============================] - 6s 72ms/step - loss: 0.1318 - x_prob_reshape_loss: 0.0869 - x_boxes_reshape_loss: 0.0449 - x_prob_reshape_accuracy: 0.9662\n",
      "Epoch 10/11\n",
      "79/79 [==============================] - 6s 72ms/step - loss: 0.1296 - x_prob_reshape_loss: 0.0850 - x_boxes_reshape_loss: 0.0446 - x_prob_reshape_accuracy: 0.9663\n",
      "Epoch 11/11\n",
      "79/79 [==============================] - 6s 72ms/step - loss: 0.1260 - x_prob_reshape_loss: 0.0819 - x_boxes_reshape_loss: 0.0442 - x_prob_reshape_accuracy: 0.9671\n"
     ]
    },
    {
     "data": {
      "text/plain": [
       "<keras.src.callbacks.History at 0x753b4fde26b0>"
      ]
     },
     "execution_count": 19,
     "metadata": {},
     "output_type": "execute_result"
    }
   ],
   "source": [
    " \n",
    "    \n",
    "\n",
    "    \n",
    "input_shape = (64,64,1)\n",
    "num_classes = 280\n",
    "num_coordinates = 4\n",
    "\n",
    "x_input = layers.Input(shape=input_shape)\n",
    "#Layer 1\n",
    "x = layers.Conv2D(64, kernel_size=3, padding='same', activation='relu')(x_input)\n",
    "x = layers.MaxPool2D()(x)\n",
    "x = layers.BatchNormalization()(x) \n",
    "x = layers.Conv2D(64, kernel_size=3, padding='same', activation='relu')(x)\n",
    "#Layer 2\n",
    "x = layers.Conv2D(128, kernel_size=3, padding='same', activation='relu')(x)\n",
    "x = layers.Conv2D(128, kernel_size=3, padding='same', activation='relu')(x)\n",
    "#Layer 3\n",
    "x = layers.Conv2D(256, kernel_size=3, padding='same', activation='relu')(x)\n",
    "x = layers.Conv2D(256, kernel_size=3, padding='same', activation='relu')(x)\n",
    "#Layer 4\n",
    "x = layers.Conv2D(512, kernel_size=3, padding='same', activation='relu')(x)\n",
    "x = layers.MaxPool2D()(x)\n",
    "x = layers.Conv2D(512, kernel_size=3, padding='same', activation='relu')(x)\n",
    "x = layers.MaxPool2D()(x)\n",
    "x = layers.Conv2D(512, kernel_size=3, padding='same', activation='relu')(x)\n",
    "x = layers.MaxPool2D()(x)\n",
    "#Layer 5\n",
    "x = layers.Conv2D(256, kernel_size=5, padding='same', activation='relu')(x)\n",
    "x = layers.MaxPool2D()(x)\n",
    "x = layers.BatchNormalization()(x) \n",
    "\n",
    "\n",
    "x = layers.Flatten()(x)\n",
    "# Probability output\n",
    "x_prob = layers.Dense(num_classes, activation='sigmoid', name='x_prob')(x)\n",
    "x_prob_reshape = layers.Reshape((-1, num_classes, 1), name='x_prob_reshape')(x_prob)\n",
    "\n",
    "# Bounding box output\n",
    "x_boxes = layers.Dense(num_classes * num_coordinates, activation='sigmoid', name='x_boxes')(x)\n",
    "x_boxes_reshape = layers.Reshape((-1, num_classes, num_coordinates), name='x_boxes_reshape')(x_boxes)\n",
    "\n",
    "\n",
    "model = tf.keras.models.Model(x_input, [x_prob_reshape, x_boxes_reshape])\n",
    "optimizer = tf.keras.optimizers.Adam(learning_rate=3e-5) \n",
    "model.compile(optimizer= optimizer, loss= {'x_prob_reshape': tf.keras.losses.BinaryCrossentropy(), 'x_boxes_reshape':tf.keras.losses.MeanSquaredError()}, metrics={'x_prob_reshape': 'accuracy'} )\n",
    "num_epochs = 11\n",
    "        \n",
    "#         # Fit the model with both training and validation datasets\n",
    "# model.fit(train_dataset, \n",
    "#                   epochs=num_epochs, \n",
    "#                   validation_data=val_dataset, \n",
    "#                   )\n",
    "\n",
    "        # Fit the model with both training and validation datasets\n",
    "model.fit(dataset, \n",
    "                  epochs=num_epochs\n",
    "                  \n",
    "                  )"
   ]
  },
  {
   "cell_type": "code",
   "execution_count": 20,
   "metadata": {},
   "outputs": [
    {
     "name": "stdout",
     "output_type": "stream",
     "text": [
      "313/313 [==============================] - 3s 8ms/step\n"
     ]
    }
   ],
   "source": [
    "dataset = tf.data.Dataset.from_tensor_slices((images_np,{'x_prob_reshape':probabilities,'x_boxes_reshape':boxes_np}))\n",
    "\n",
    "# # Assuming dataset has 10,000 examples and we want an 80/20 split\n",
    "# total_items = 10000\n",
    "# train_size = int(total_items * 0.6)\n",
    "# # val_size = total_items - train_size\n",
    "\n",
    "# # Splitting the dataset\n",
    "# train_dataset = dataset.take(train_size)\n",
    "# # val_dataset = dataset.skip(train_size)\n",
    "\n",
    "\n",
    "# # train_dataset = train_dataset.shuffle(buffer_size=train_size,reshuffle_each_iteration=True)\n",
    "# train_dataset = train_dataset.batch(6000)\n",
    "# inputs,targets = next(iter(train_dataset))\n",
    "dataset = dataset.batch(10000)\n",
    "inputs,targets = next(iter(dataset))\n",
    "output = model.predict(inputs)"
   ]
  },
  {
   "cell_type": "code",
   "execution_count": 30,
   "metadata": {},
   "outputs": [
    {
     "data": {
      "image/png": "[encoded data removed]",
      "text/plain": [
       "<Figure size 400x400 with 1 Axes>"
      ]
     },
     "metadata": {},
     "output_type": "display_data"
    },
    {
     "data": {
      "image/png": "[encoded data removed]",
      "text/plain": [
       "<Figure size 400x400 with 1 Axes>"
      ]
     },
     "metadata": {},
     "output_type": "display_data"
    }
   ],
   "source": [
    "def visualize_bounding_boxes(image, probability_vector, bounding_box_coordinates, threshold=0.9):\n",
    "    \"\"\"\n",
    "    Visualizes bounding boxes on an image based on a probability vector.\n",
    "\n",
    "    Parameters:\n",
    "    - image: A 3D tensor representing the image.\n",
    "    - probability_vector: A 1D tensor representing the probabilities associated with bounding boxes.\n",
    "    - bounding_box_coordinates: A 2D tensor representing bounding box coordinates.\n",
    "    - threshold: Probability threshold for visualization.\n",
    "\n",
    "    Returns:\n",
    "    None (displays the image with bounding boxes).\n",
    "    \"\"\"\n",
    "    # Convert to NumPy arrays for easier handling\n",
    "    image_np = image\n",
    "    prob_vector_np = probability_vector\n",
    "    bbox_coordinates_np = bounding_box_coordinates\n",
    "   # Denormalize image if necessary (adjust based on your normalization method)\n",
    "    denormalized_image = image_np  # Modify if normalization was applied during training\n",
    "\n",
    "    # Visualize the image\n",
    "    plt.figure(figsize=(4, 4))\n",
    "    plt.imshow(denormalized_image, cmap='gray')\n",
    "    plt.title(\"Bounding Box Visualization\")\n",
    "\n",
    "    # Plot bounding boxes based on probability threshold\n",
    "    for i in range(len(prob_vector_np)):\n",
    "        prob = prob_vector_np[i]\n",
    "        bbox = bbox_coordinates_np[i]\n",
    "        if prob > threshold:\n",
    "            # Denormalize bounding box coordinates if necessary\n",
    "            denormalized_bbox = bbox  # Modify if normalization was applied during training\n",
    "            y1, x1, y2, x2 = denormalized_bbox\n",
    "            plt.plot([x1, x2, x2, x1, x1],[y1, y1, y2, y2, y1],\n",
    "                     \n",
    "                     color='r', linewidth=2, label='Bounding Box')\n",
    "\n",
    "   \n",
    "\n",
    "\n",
    "\n",
    "\n",
    "\n",
    "\n",
    "   \n",
    "    plt.show()\n",
    "\n",
    "t = np.random.randint(0,400)\n",
    "\n",
    "\n",
    "visualize_bounding_boxes(tf.convert_to_tensor(inputs[t]), probabilities.numpy()[t].squeeze(), tf.convert_to_tensor(output[1][t,0,:,:])*[64,64,64,64]) ##myprediction\n",
    "visualize_bounding_boxes(tf.convert_to_tensor(image_normalized[t]), probabilities.numpy()[t].squeeze(), tf.convert_to_tensor(boxes_np[t,0,:,:])*[64,64,64,64]) ##myprediction\n",
    "\n",
    "\n",
    "\n"
   ]
  },
  {
   "cell_type": "code",
   "execution_count": 7,
   "metadata": {},
   "outputs": [
    {
     "ename": "NameError",
     "evalue": "name 'val_dataset' is not defined",
     "output_type": "error",
     "traceback": [
      "\u001b[0;31m---------------------------------------------------------------------------\u001b[0m",
      "\u001b[0;31mNameError\u001b[0m                                 Traceback (most recent call last)",
      "Cell \u001b[0;32mIn[7], line 40\u001b[0m\n\u001b[1;32m     36\u001b[0m     plt\u001b[38;5;241m.\u001b[39mshow()\n\u001b[1;32m     39\u001b[0m \u001b[38;5;66;03m# Assuming `val_dataset` is already defined and batched\u001b[39;00m\n\u001b[0;32m---> 40\u001b[0m \u001b[38;5;28;01mfor\u001b[39;00m images, labels \u001b[38;5;129;01min\u001b[39;00m \u001b[43mval_dataset\u001b[49m\u001b[38;5;241m.\u001b[39mtake(\u001b[38;5;241m1\u001b[39m):  \u001b[38;5;66;03m# Take 1 batch\u001b[39;00m\n\u001b[1;32m     41\u001b[0m     \u001b[38;5;66;03m# Predict on the batch\u001b[39;00m\n\u001b[1;32m     42\u001b[0m     pred_probs, pred_boxes \u001b[38;5;241m=\u001b[39m model\u001b[38;5;241m.\u001b[39mpredict(images)\n\u001b[1;32m     44\u001b[0m     \u001b[38;5;66;03m# Convert predictions and labels to the required format if necessary\u001b[39;00m\n\u001b[1;32m     45\u001b[0m     \u001b[38;5;66;03m# This step depends on your data and model output format\u001b[39;00m\n\u001b[1;32m     46\u001b[0m \n\u001b[1;32m     47\u001b[0m     \u001b[38;5;66;03m# Visualize the first image in the batch as an example\u001b[39;00m\n",
      "\u001b[0;31mNameError\u001b[0m: name 'val_dataset' is not defined"
     ]
    }
   ],
   "source": [
    "import matplotlib.pyplot as plt\n",
    "\n",
    "def visualize_comparisons(image, true_probs, true_boxes, pred_probs, pred_boxes, threshold=0.9):\n",
    "    \"\"\"\n",
    "    Visualizes true and predicted bounding boxes on an image.\n",
    "\n",
    "    Parameters:\n",
    "    - image: The image to visualize.\n",
    "    - true_probs: True probabilities for each bounding box.\n",
    "    - true_boxes: True bounding box coordinates.\n",
    "    - pred_probs: Predicted probabilities for each bounding box.\n",
    "    - pred_boxes: Predicted bounding box coordinates.\n",
    "    - threshold: Probability threshold for showing bounding boxes.\n",
    "    \"\"\"\n",
    "    # Assuming image normalization that can be directly visualized\n",
    "    plt.imshow(image.squeeze(), cmap='gray')  # Adjust if your image has more than one channel\n",
    "    plt.title(\"True vs. Predicted Bounding Boxes\")\n",
    "\n",
    "    # Iterate over true boxes\n",
    "    for i, prob in enumerate(true_probs):\n",
    "        if prob > threshold:\n",
    "            bbox = true_boxes[i]\n",
    "            plt.plot([bbox[1], bbox[3], bbox[3], bbox[1], bbox[1]],\n",
    "                     [bbox[0], bbox[0], bbox[2], bbox[2], bbox[0]],\n",
    "                     color='green', linewidth=2, label='True Box' if i == 0 else \"\")\n",
    "\n",
    "    # Iterate over predicted boxes\n",
    "    for i, prob in enumerate(pred_probs):\n",
    "        if prob > threshold:\n",
    "            bbox = pred_boxes[i]\n",
    "            plt.plot([bbox[1], bbox[3], bbox[3], bbox[1], bbox[1]],\n",
    "                     [bbox[0], bbox[0], bbox[2], bbox[2], bbox[0]],\n",
    "                     color='red', linewidth=2, linestyle='dashed', label='Predicted Box' if i == 0 else \"\")\n",
    "\n",
    "    plt.legend()\n",
    "    plt.show()\n",
    "\n",
    "\n",
    "# Assuming `val_dataset` is already defined and batched\n",
    "for images, labels in val_dataset.take(1):  # Take 1 batch\n",
    "    # Predict on the batch\n",
    "    pred_probs, pred_boxes = model.predict(images)\n",
    "\n",
    "    # Convert predictions and labels to the required format if necessary\n",
    "    # This step depends on your data and model output format\n",
    "\n",
    "    # Visualize the first image in the batch as an example\n",
    "    image = images[0].numpy()  # Assuming TensorFlow dataset\n",
    "    true_probs = labels['x_prob_reshape'][0].numpy().squeeze()\n",
    "    true_boxes = labels['x_boxes_reshape'][0].numpy().squeeze() * [64,64,64,64]  # Rescale if your boxes were normalized\n",
    "    pred_probs = pred_probs[0].squeeze()\n",
    "    pred_boxes = pred_boxes[0].squeeze() * [64,64,64,64]  # Adjust scaling to match your data preparation\n",
    "\n",
    "    visualize_comparisons(image, true_probs, true_boxes, pred_probs, pred_boxes)\n"
   ]
  }
 ],
 "metadata": {
  "kernelspec": {
   "display_name": "tiny_yolo",
   "language": "python",
   "name": "python3"
  },
  "language_info": {
   "codemirror_mode": {
    "name": "ipython",
    "version": 3
   },
   "file_extension": ".py",
   "mimetype": "text/x-python",
   "name": "python",
   "nbconvert_exporter": "python",
   "pygments_lexer": "ipython3",
   "version": "3.10.13"
  }
 },
 "nbformat": 4,
 "nbformat_minor": 2
}
