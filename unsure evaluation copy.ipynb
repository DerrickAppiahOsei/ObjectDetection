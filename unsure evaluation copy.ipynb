{
 "cells": [
  {
   "cell_type": "markdown",
   "metadata": {},
   "source": [
    "### Load Libraries"
   ]
  },
  {
   "cell_type": "code",
   "execution_count": 1,
   "metadata": {},
   "outputs": [
    {
     "name": "stderr",
     "output_type": "stream",
     "text": [
      "2024-04-18 15:27:30.127214: I tensorflow/core/util/port.cc:113] oneDNN custom operations are on. You may see slightly different numerical results due to floating-point round-off errors from different computation orders. To turn them off, set the environment variable `TF_ENABLE_ONEDNN_OPTS=0`.\n",
      "2024-04-18 15:27:30.160017: E external/local_xla/xla/stream_executor/cuda/cuda_dnn.cc:9261] Unable to register cuDNN factory: Attempting to register factory for plugin cuDNN when one has already been registered\n",
      "2024-04-18 15:27:30.160045: E external/local_xla/xla/stream_executor/cuda/cuda_fft.cc:607] Unable to register cuFFT factory: Attempting to register factory for plugin cuFFT when one has already been registered\n",
      "2024-04-18 15:27:30.160944: E external/local_xla/xla/stream_executor/cuda/cuda_blas.cc:1515] Unable to register cuBLAS factory: Attempting to register factory for plugin cuBLAS when one has already been registered\n",
      "2024-04-18 15:27:30.166496: I tensorflow/core/platform/cpu_feature_guard.cc:182] This TensorFlow binary is optimized to use available CPU instructions in performance-critical operations.\n",
      "To enable the following instructions: AVX2 AVX512F AVX512_VNNI FMA, in other operations, rebuild TensorFlow with the appropriate compiler flags.\n",
      "2024-04-18 15:27:30.813401: W tensorflow/compiler/tf2tensorrt/utils/py_utils.cc:38] TF-TRT Warning: Could not find TensorRT\n",
      "2024-04-18 15:27:31.991967: I tensorflow/core/common_runtime/gpu/gpu_device.cc:1929] Created device /job:localhost/replica:0/task:0/device:GPU:0 with 21568 MB memory:  -> device: 0, name: NVIDIA GeForce RTX 3090, pci bus id: 0000:68:00.0, compute capability: 8.6\n"
     ]
    }
   ],
   "source": [
    "import numpy as np\n",
    "import tensorflow as tf\n",
    "from tensorflow.keras import layers, models\n",
    "\n",
    "import matplotlib.pyplot as plt\n",
    "import h5py\n",
    "import os\n",
    "\n",
    "from PIL import Image\n",
    "\n",
    "\n",
    "\n",
    "# Configure Keras to use GPU\n",
    "config = tf.compat.v1.ConfigProto()\n",
    "config.gpu_options.allow_growth = True\n",
    "sess = tf.compat.v1.Session(config=config)\n",
    "tf.compat.v1.keras.backend.set_session(sess)\n"
   ]
  },
  {
   "cell_type": "markdown",
   "metadata": {},
   "source": [
    "### Load and preprocess data"
   ]
  },
  {
   "cell_type": "code",
   "execution_count": 2,
   "metadata": {},
   "outputs": [
    {
     "name": "stderr",
     "output_type": "stream",
     "text": [
      "2024-04-18 15:27:35.151141: I tensorflow/core/common_runtime/gpu/gpu_device.cc:1929] Created device /job:localhost/replica:0/task:0/device:GPU:0 with 21568 MB memory:  -> device: 0, name: NVIDIA GeForce RTX 3090, pci bus id: 0000:68:00.0, compute capability: 8.6\n"
     ]
    }
   ],
   "source": [
    "with h5py.File('TrainingData5zeroes.h5', 'r') as hdf:\n",
    "    ls = list(hdf.keys())\n",
    "    images = hdf.get('images')\n",
    "    boxes = hdf.get('boxes')\n",
    "    images = np.array(images)[:5000]\n",
    "    boxes = np.array(boxes)[:5000]\n",
    "\n",
    "\n",
    "image_normalized = (images + 1e-9) / 9.26\n",
    "normalized_boxes = boxes / [1, 64, 64, 64, 64]\n",
    "\n",
    "images_np = image_normalized\n",
    "\n",
    "probabilities = np.array(normalized_boxes[:, :, :-4])\n",
    "probabilities = tf.expand_dims(probabilities, axis=1)\n",
    "boxes_np = np.array(normalized_boxes[:, :, 1:])\n",
    "boxes_np = tf.expand_dims(boxes_np, axis=1)\n",
    "batch_size = 128\n",
    "dataset = tf.data.Dataset.from_tensor_slices((images_np, {'x_prob_reshape': probabilities, 'x_boxes_reshape': boxes_np}))\n",
    "dataset = dataset.shuffle(buffer_size=10000).batch(batch_size)\n"
   ]
  },
  {
   "cell_type": "markdown",
   "metadata": {},
   "source": [
    "### Model layout and definition"
   ]
  },
  {
   "cell_type": "code",
   "execution_count": 3,
   "metadata": {},
   "outputs": [],
   "source": [
    "input_shape = (64,64,1)\n",
    "num_classes = 280\n",
    "num_coordinates = 4\n",
    "\n",
    "x_input = layers.Input(shape=input_shape)\n",
    "#Layer 1\n",
    "x = layers.Conv2D(64, kernel_size=3, padding='same', activation='relu')(x_input)\n",
    "x = layers.MaxPool2D()(x)\n",
    "x = layers.BatchNormalization()(x) \n",
    "x = layers.Conv2D(64, kernel_size=3, padding='same', activation='relu')(x)\n",
    "#Layer 2\n",
    "x = layers.Conv2D(128, kernel_size=3, padding='same', activation='relu')(x)\n",
    "x = layers.Conv2D(128, kernel_size=3, padding='same', activation='relu')(x)\n",
    "#Layer 3\n",
    "x = layers.Conv2D(256, kernel_size=3, padding='same', activation='relu')(x)\n",
    "x = layers.Conv2D(256, kernel_size=3, padding='same', activation='relu')(x)\n",
    "#Layer 4\n",
    "x = layers.Conv2D(512, kernel_size=3, padding='same', activation='relu')(x)\n",
    "x = layers.MaxPool2D()(x)\n",
    "x = layers.Conv2D(512, kernel_size=3, padding='same', activation='relu')(x)\n",
    "x = layers.MaxPool2D()(x)\n",
    "x = layers.Conv2D(512, kernel_size=3, padding='same', activation='relu')(x)\n",
    "x = layers.MaxPool2D()(x)\n",
    "#Layer 5\n",
    "x = layers.Conv2D(256, kernel_size=5, padding='same', activation='relu')(x)\n",
    "x = layers.MaxPool2D()(x)\n",
    "x = layers.BatchNormalization()(x) \n",
    "\n",
    "\n",
    "x = layers.Flatten()(x)\n",
    "# Probability output\n",
    "x_prob = layers.Dense(num_classes, activation='sigmoid', name='x_prob')(x)\n",
    "x_prob_reshape = layers.Reshape((-1, num_classes, 1), name='x_prob_reshape')(x_prob)\n",
    "\n",
    "# Bounding box output\n",
    "x_boxes = layers.Dense(num_classes * num_coordinates, activation='sigmoid', name='x_boxes')(x)\n",
    "x_boxes_reshape = layers.Reshape((-1, num_classes, num_coordinates), name='x_boxes_reshape')(x_boxes)\n",
    "\n",
    "\n",
    "model = tf.keras.models.Model(x_input, [x_prob_reshape, x_boxes_reshape])\n",
    "optimizer = tf.keras.optimizers.Adam(learning_rate=3e-5) \n",
    "model.compile(optimizer= optimizer, loss= {'x_prob_reshape': tf.keras.losses.BinaryCrossentropy(), 'x_boxes_reshape':tf.keras.losses.MeanSquaredError()}, metrics={'x_prob_reshape': 'accuracy'} )\n",
    "num_epochs = 100"
   ]
  },
  {
   "cell_type": "markdown",
   "metadata": {},
   "source": [
    "### Load saved weights"
   ]
  },
  {
   "cell_type": "code",
   "execution_count": 66,
   "metadata": {},
   "outputs": [],
   "source": [
    "loaded_model = tf.keras.models.load_model(\"/home/m3-learning/Documents/Research Data/Derrick's Object Detection/Models/Sweep Weights/Train and Val/glamorous-sweep-7.h5\")"
   ]
  },
  {
   "cell_type": "markdown",
   "metadata": {},
   "source": [
    "### Post Training processing for furthur analysis"
   ]
  },
  {
   "cell_type": "code",
   "execution_count": 67,
   "metadata": {},
   "outputs": [
    {
     "name": "stdout",
     "output_type": "stream",
     "text": [
      "157/157 [==============================] - 1s 8ms/step\n"
     ]
    }
   ],
   "source": [
    "dataset = tf.data.Dataset.from_tensor_slices((images_np,{'x_prob_reshape':probabilities,'x_boxes_reshape':boxes_np}))\n",
    "dataset = dataset.batch(5000)\n",
    "inputs,targets = next(iter(dataset))\n",
    "output =loaded_model.predict(inputs)"
   ]
  },
  {
   "cell_type": "code",
   "execution_count": 65,
   "metadata": {},
   "outputs": [
    {
     "name": "stdout",
     "output_type": "stream",
     "text": [
      "MSE Loss: 1.4689214515124013e-05\n"
     ]
    }
   ],
   "source": [
    "import tensorflow as tf\n",
    "\n",
    "r = np.random.randint(0,5000)\n",
    "tensor1 = tf.constant(targets['x_boxes_reshape'][r], dtype=tf.float64)\n",
    "\n",
    "tensor2 = tf.constant(output[1][r], dtype=tf.float32)\n",
    "\n",
    "\n",
    "tensor2 = tf.cast(tensor2, tf.float64)\n",
    "\n",
    "\n",
    "mse_loss_fn = tf.keras.losses.MeanSquaredError()\n",
    "mse_loss = mse_loss_fn(tensor1, tensor2)\n",
    "\n",
    "print(\"MSE Loss:\", mse_loss.numpy())"
   ]
  },
  {
   "cell_type": "markdown",
   "metadata": {},
   "source": [
    "### Visualisation of Predictions Against Labels"
   ]
  },
  {
   "cell_type": "code",
   "execution_count": 87,
   "metadata": {},
   "outputs": [
    {
     "data": {
      "image/png": "[encoded data removed]",
      "text/plain": [
       "<Figure size 400x400 with 1 Axes>"
      ]
     },
     "metadata": {},
     "output_type": "display_data"
    },
    {
     "data": {
      "image/png": "[encoded data removed]",
      "text/plain": [
       "<Figure size 400x400 with 1 Axes>"
      ]
     },
     "metadata": {},
     "output_type": "display_data"
    }
   ],
   "source": [
    "def visualize_bounding_boxes(image, probability_vector, bounding_box_coordinates, threshold=0.9):\n",
    "    \"\"\"\n",
    "    Visualizes bounding boxes on an image based on a probability vector.\n",
    "\n",
    "    Parameters:\n",
    "    - image: A 3D tensor representing the image.\n",
    "    - probability_vector: A 1D tensor representing the probabilities associated with bounding boxes.\n",
    "    - bounding_box_coordinates: A 2D tensor representing bounding box coordinates.\n",
    "    - threshold: Probability threshold for visualization.\n",
    "\n",
    "    Returns:\n",
    "    None (displays the image with bounding boxes).\n",
    "    \"\"\"\n",
    "    # Convert to NumPy arrays for easier handling\n",
    "    image_np = image\n",
    "    prob_vector_np = probability_vector\n",
    "    bbox_coordinates_np = bounding_box_coordinates\n",
    "   # Denormalize image if necessary (adjust based on your normalization method)\n",
    "    denormalized_image = image_np  # Modify if normalization was applied during training\n",
    "\n",
    "    # Visualize the image\n",
    "    plt.figure(figsize=(4, 4))\n",
    "    plt.imshow(denormalized_image, cmap='gray')\n",
    "    plt.title(\"Bounding Box Visualization\")\n",
    "\n",
    "    # Plot bounding boxes based on probability threshold\n",
    "    for i in range(len(prob_vector_np)):\n",
    "        prob = prob_vector_np[i]\n",
    "        bbox = bbox_coordinates_np[i]\n",
    "        if prob > threshold:\n",
    "            # Denormalize bounding box coordinates if necessary\n",
    "            denormalized_bbox = bbox  # Modify if normalization was applied during training\n",
    "            y1, x1, y2, x2 = denormalized_bbox\n",
    "            plt.plot([x1, x2, x2, x1, x1],[y1, y1, y2, y2, y1],\n",
    "                     \n",
    "                     color='r', linewidth=2, label='Bounding Box')\n",
    "\n",
    "   \n",
    "\n",
    "\n",
    "\n",
    "\n",
    "\n",
    "\n",
    "   \n",
    "    plt.show()\n",
    "\n",
    "t = np.random.randint(0,200)\n",
    "# probabilities = tf.convert_to_tensor(output[0][t,:])\n",
    "# t = 590\n",
    "visualize_bounding_boxes(tf.convert_to_tensor(inputs[t]),tf.convert_to_tensor(output[0][t,0,:,:]), tf.convert_to_tensor(output[1][t,0,:,:])*[64,64,64,64]) ##myprediction\n",
    "visualize_bounding_boxes(tf.convert_to_tensor(images_np[t]), probabilities[t].numpy().squeeze(), tf.convert_to_tensor(boxes_np[t,0,:,:])*[64,64,64,64]) ##myprediction\n"
   ]
  },
  {
   "cell_type": "markdown",
   "metadata": {},
   "source": [
    "### Model Evaluation"
   ]
  },
  {
   "cell_type": "markdown",
   "metadata": {},
   "source": [
    "1) Create Binary masks"
   ]
  },
  {
   "cell_type": "code",
   "execution_count": 68,
   "metadata": {},
   "outputs": [],
   "source": [
    "# import numpy as np\n",
    "\n",
    "def create_binary_mask_from_boxes(boxes, image_shape):\n",
    "    binary_mask = np.zeros(image_shape[:2], dtype=np.uint8)  # assuming image_shape is (height, width)\n",
    "    for box in boxes:\n",
    "        # Scale the box coordinates to the image size\n",
    "        x_min, y_min, x_max, y_max = box\n",
    "        x_min = int(x_min * image_shape[1])\n",
    "        x_max = int(x_max * image_shape[1])\n",
    "        y_min = int(y_min * image_shape[0])\n",
    "        y_max = int(y_max * image_shape[0])\n",
    "        binary_mask[y_min:y_max, x_min:x_max] = 1\n",
    "    return binary_mask\n",
    "\n",
    "# Assume 'output' is your model prediction output and has a shape (N, 1, num_boxes, 4)\n",
    "# Let's also assume 'output[0]' contains the confidence scores, and we only take boxes with confidence > 0.5\n",
    "confidence_threshold = 0.5\n",
    "image_shape = (64, 64, 1)\n",
    "\n",
    "# binary_prediction_masks = []\n",
    "# for i in range(len(output[0])):  # loop through all the predictions\n",
    "#     confidences = output[0][i, 0, :, :]  # assuming the confidence scores are the first element in the last dimension\n",
    "#     boxes = output[1][i, 0, :, :]  # extract all the bounding boxes for the i-th prediction\n",
    "#     high_confidence_indices = np.where(confidences > confidence_threshold)[0]\n",
    "#     selected_boxes = boxes[high_confidence_indices]\n",
    "    \n",
    "#     # Now create the binary mask from these selected boxes\n",
    "#     binary_mask = create_binary_mask_from_boxes(selected_boxes, image_shape)\n",
    "#     binary_prediction_masks.append(binary_mask)\n",
    "\n",
    "\n",
    "# image_shape = (64, 64, 1)  # Update this if needed\n",
    "\n",
    "# binary_ground_truth_masks = []\n",
    "# for i in range(len(boxes_np)):\n",
    "#     # No confidence threshold needed for ground truth, so we use all boxes\n",
    "#     gt_boxes = boxes_np[i, 0, :, :]  # Get all boxes for the i-th ground truth\n",
    "\n",
    "#     # We assume all boxes in the ground truth are valid, so no need to filter by confidence\n",
    "#     binary_ground_truth_mask = create_binary_mask_from_boxes(gt_boxes, image_shape)\n",
    "#     binary_ground_truth_masks.append(binary_ground_truth_mask)\n",
    "\n",
    "\n",
    "\n",
    "import numpy as np\n",
    "from skimage.measure import label\n",
    "import matplotlib.pyplot as plt\n",
    "import tensorflow as tf\n",
    "\n",
    "# Your model's output, output[0] should contain confidence scores, output[1] the bounding boxes\n",
    "# boxes_np should contain ground truth boxes\n",
    "# image_shape should be the shape of your input images to the model\n",
    "\n",
    "# Define NMS function\n",
    "def non_max_suppression(boxes, scores, iou_threshold):\n",
    "    if len(boxes) == 0:\n",
    "        return [], []\n",
    "    # Convert to a numpy array for vectorized operations\n",
    "    boxes = np.array(boxes)\n",
    "    scores = np.array(scores)\n",
    "\n",
    "    # Get the coordinates of the bounding boxes\n",
    "    x1 = boxes[:, 0]\n",
    "    y1 = boxes[:, 1]\n",
    "    x2 = boxes[:, 2]\n",
    "    y2 = boxes[:, 3]\n",
    "\n",
    "    # Compute the area of the bounding boxes and sort by score\n",
    "    areas = (x2 - x1) * (y2 - y1)\n",
    "    order = scores.argsort()[::-1]\n",
    "\n",
    "    keep = []\n",
    "    while order.size > 0:\n",
    "        i = order[0]\n",
    "        keep.append(i)\n",
    "        xx1 = np.maximum(x1[i], x1[order[1:]])\n",
    "        yy1 = np.maximum(y1[i], y1[order[1:]])\n",
    "        xx2 = np.minimum(x2[i], x2[order[1:]])\n",
    "        yy2 = np.minimum(y2[i], y2[order[1:]])\n",
    "\n",
    "        w = np.maximum(0.0, xx2 - xx1)\n",
    "        h = np.maximum(0.0, yy2 - yy1)\n",
    "        inter = w * h\n",
    "        ovr = inter / (areas[i] + areas[order[1:]] - inter)\n",
    "\n",
    "        inds = np.where(ovr <= iou_threshold)[0]\n",
    "        order = order[inds + 1]\n",
    "\n",
    "    return boxes[keep], scores[keep]\n",
    "\n",
    "# Define IoU computation\n",
    "def compute_iou(mask1, mask2):\n",
    "    intersection = np.logical_and(mask1, mask2).sum()\n",
    "    union = np.logical_or(mask1, mask2).sum()\n",
    "    iou = intersection / union if union != 0 else 0\n",
    "    return iou\n",
    "\n",
    "# Apply NMS and create binary masks from the filtered boxes\n",
    "binary_prediction_masks = []\n",
    "for i in range(output[0].shape[0]):\n",
    "    confidences = output[0][i, 0, :, 0]\n",
    "    boxes = output[1][i, 0, :, :]\n",
    "    filtered_boxes, filtered_scores = non_max_suppression(boxes, confidences, iou_threshold=0.5)\n",
    "    binary_mask = create_binary_mask_from_boxes(filtered_boxes, image_shape[:2])\n",
    "    binary_prediction_masks.append(binary_mask)\n",
    "\n",
    "# Create binary masks from ground truth\n",
    "binary_ground_truth_masks = []\n",
    "for i in range(len(boxes_np)):\n",
    "    gt_boxes = boxes_np[i, 0, :, :]\n",
    "    binary_ground_truth_mask = create_binary_mask_from_boxes(gt_boxes, image_shape[:2])\n",
    "    binary_ground_truth_masks.append(binary_ground_truth_mask)"
   ]
  },
  {
   "cell_type": "code",
   "execution_count": 8,
   "metadata": {},
   "outputs": [],
   "source": [
    "import numpy as np\n",
    "from skimage.measure import label\n",
    "import matplotlib.pyplot as plt\n",
    "import tensorflow as tf\n",
    "\n",
    "def create_binary_mask_from_boxes(boxes, image_shape):\n",
    "    binary_mask = np.zeros(image_shape[:2], dtype=np.uint8)  # assuming image_shape is (height, width)\n",
    "    for box in boxes:\n",
    "        # Scale the box coordinates to the image size\n",
    "        x_min, y_min, x_max, y_max = box\n",
    "        x_min = int(x_min * image_shape[1])\n",
    "        x_max = int(x_max * image_shape[1])\n",
    "        y_min = int(y_min * image_shape[0])\n",
    "        y_max = int(y_max * image_shape[0])\n",
    "        binary_mask[y_min:y_max, x_min:x_max] = 1\n",
    "    return binary_mask\n",
    "\n",
    "# Assume 'output' is your model prediction output and has a shape (N, 1, num_boxes, 4)\n",
    "# Let's also assume 'output[0]' contains the confidence scores, and we only take boxes with confidence > 0.5\n",
    "confidence_threshold = 0.5\n",
    "image_shape = (64, 64, 1)\n",
    "\n",
    "# Define NMS function\n",
    "def non_max_suppression(boxes, scores, iou_threshold):\n",
    "    if len(boxes) == 0:\n",
    "        return [], []\n",
    "    # Convert to a numpy array for vectorized operations\n",
    "    boxes = np.array(boxes)\n",
    "    scores = np.array(scores)\n",
    "\n",
    "    # Get the coordinates of the bounding boxes\n",
    "    x1 = boxes[:, 0]\n",
    "    y1 = boxes[:, 1]\n",
    "    x2 = boxes[:, 2]\n",
    "    y2 = boxes[:, 3]\n",
    "\n",
    "    # Compute the area of the bounding boxes and sort by score\n",
    "    areas = (x2 - x1) * (y2 - y1)\n",
    "    order = scores.argsort()[::-1]\n",
    "\n",
    "    keep = []\n",
    "    while order.size > 0:\n",
    "        i = order[0]\n",
    "        keep.append(i)\n",
    "        xx1 = np.maximum(x1[i], x1[order[1:]])\n",
    "        yy1 = np.maximum(y1[i], y1[order[1:]])\n",
    "        xx2 = np.minimum(x2[i], x2[order[1:]])\n",
    "        yy2 = np.minimum(y2[i], y2[order[1:]])\n",
    "\n",
    "        w = np.maximum(0.0, xx2 - xx1)\n",
    "        h = np.maximum(0.0, yy2 - yy1)\n",
    "        inter = w * h\n",
    "        ovr = inter / (areas[i] + areas[order[1:]] - inter)\n",
    "\n",
    "        inds = np.where(ovr <= iou_threshold)[0]\n",
    "        order = order[inds + 1]\n",
    "\n",
    "    return boxes[keep], scores[keep]\n",
    "\n",
    "# Define IoU computation\n",
    "def compute_iou(mask1, mask2):\n",
    "    intersection = np.logical_and(mask1, mask2).sum()\n",
    "    union = np.logical_or(mask1, mask2).sum()\n",
    "    iou = intersection / union if union != 0 else 0\n",
    "    return iou\n",
    "\n",
    "# Apply NMS and create binary masks from the filtered boxes\n",
    "binary_prediction_masks = []\n",
    "for i in range(output[0].shape[0]):\n",
    "    confidences = output[0][i, 0, :, 0]\n",
    "    boxes = output[1][i, 0, :, :]\n",
    "    filtered_boxes, filtered_scores = non_max_suppression(boxes, confidences, iou_threshold=0.5)\n",
    "    binary_mask = create_binary_mask_from_boxes(filtered_boxes, image_shape[:2])\n",
    "    binary_prediction_masks.append(binary_mask)\n",
    "\n",
    "# Create binary masks from ground truth\n",
    "binary_ground_truth_masks = []\n",
    "for i in range(len(boxes_np)):\n",
    "    gt_boxes = boxes_np[i, 0, :, :]\n",
    "    binary_ground_truth_mask = create_binary_mask_from_boxes(gt_boxes, image_shape[:2])\n",
    "    binary_ground_truth_masks.append(binary_ground_truth_mask)\n",
    "    \n",
    "from skimage.measure import label\n",
    "\n",
    "# Assuming binary_prediction_masks is a list of binary masks for the predictions\n",
    "labeled_pred_masks = [label(mask) for mask in binary_prediction_masks]\n",
    "\n",
    "# Assuming binary_ground_truth_masks is a list of binary masks for the ground truth\n",
    "labeled_gt_masks = [label(mask) for mask in binary_ground_truth_masks]\n"
   ]
  },
  {
   "cell_type": "code",
   "execution_count": 9,
   "metadata": {},
   "outputs": [
    {
     "name": "stdout",
     "output_type": "stream",
     "text": [
      "Match found between prediction 87 and ground truth 179 with IoU: 1.0\n",
      "Match found between prediction 207 and ground truth 207 with IoU: 1.0\n",
      "Match found between prediction 326 and ground truth 326 with IoU: 0.5714285714285714\n",
      "Match found between prediction 352 and ground truth 77 with IoU: 1.0\n",
      "Match found between prediction 462 and ground truth 66 with IoU: 0.6666666666666666\n",
      "Match found between prediction 511 and ground truth 511 with IoU: 0.7058823529411765\n",
      "Match found between prediction 549 and ground truth 549 with IoU: 0.6666666666666666\n",
      "Match found between prediction 807 and ground truth 807 with IoU: 0.5106382978723404\n",
      "Match found between prediction 976 and ground truth 359 with IoU: 0.5316455696202531\n",
      "Total matches found: 9\n"
     ]
    }
   ],
   "source": [
    "\n",
    "def find_matches(labeled_pred_masks, labeled_gt_masks, threshold=0.5):  # Lowered threshold for testing\n",
    "    matches = []\n",
    "    for i, pred_mask in enumerate(labeled_pred_masks):\n",
    "        for j, gt_mask in enumerate(labeled_gt_masks):\n",
    "            iou = compute_iou(pred_mask, gt_mask)\n",
    "            if iou > threshold:\n",
    "                matches.append((i, j))\n",
    "                print(f\"Match found between prediction {i} and ground truth {j} with IoU: {iou}\")  # Debug print\n",
    "    return matches\n",
    "\n",
    "# Recalculate matches with debugging and a lower IoU threshold\n",
    "matches = find_matches(labeled_pred_masks, labeled_gt_masks)\n",
    "print(\"Total matches found:\", len(matches))\n",
    "\n",
    "\n",
    "# True Positives (TP): Predicted components that match ground truth components\n",
    "TP = len(matches)\n",
    "\n",
    "# False Positives (FP): Predicted components that don't match any ground truth component\n",
    "total_pred_components = len(np.unique(labeled_pred_masks)) - 1  # minus 1 to exclude background\n",
    "FP = total_pred_components - TP\n",
    "\n",
    "# False Negatives (FN): Ground truth components that weren't matched by predicted components\n",
    "total_gt_components = len(np.unique(labeled_gt_masks)) - 1  # minus 1 to exclude background\n",
    "FN = total_gt_components - TP\n",
    "\n",
    "\n",
    "Precision = TP / (TP + FP) if (TP + FP) > 0 else 0\n",
    "Recall = TP / (TP + FN) if (TP + FN) > 0 else 0\n",
    "F1 = 2 * (Precision * Recall) / (Precision + Recall) if (Precision + Recall) > 0 else 0"
   ]
  },
  {
   "cell_type": "code",
   "execution_count": null,
   "metadata": {},
   "outputs": [],
   "source": [
    "# import os\n",
    "\n",
    "# def create_directory_if_not_exists(directory_path):\n",
    "#     \"\"\"\n",
    "#     Create a directory if it doesn't exist.\n",
    "\n",
    "#     Args:\n",
    "#     - directory_path (str): Path of the directory to be created.\n",
    "#     \"\"\"\n",
    "#     if not os.path.exists(directory_path):\n",
    "#         try:\n",
    "#             os.makedirs(directory_path)\n",
    "#             print(f\"Directory '{directory_path}' created successfully.\")\n",
    "#         except OSError as e:\n",
    "#             print(f\"Error creating directory '{directory_path}': {e}\")\n",
    "#     else:\n",
    "#         print(f\"Directory '{directory_path}' already exists.\")"
   ]
  },
  {
   "cell_type": "code",
   "execution_count": null,
   "metadata": {},
   "outputs": [],
   "source": [
    "# import os\n",
    "\n",
    "# def create_directory_if_not_exists(directory_path):\n",
    "#     \"\"\"\n",
    "#     Create a directory if it doesn't exist.\n",
    "\n",
    "#     Args:\n",
    "#     - directory_path (str): Path of the directory to be created.\n",
    "#     \"\"\"\n",
    "#     if not os.path.exists(directory_path):\n",
    "#         try:\n",
    "#             os.makedirs(directory_path)\n",
    "#             print(f\"Directory '{directory_path}' created successfully.\")\n",
    "#         except OSError as e:\n",
    "#             print(f\"Error creating directory '{directory_path}': {e}\")\n",
    "#     else:\n",
    "#         print(f\"Directory '{directory_path}' already exists.\")"
   ]
  },
  {
   "cell_type": "code",
   "execution_count": 69,
   "metadata": {},
   "outputs": [],
   "source": [
    "# from skimage.measure import label\n",
    "\n",
    "# # Assuming binary_prediction_masks is a list of binary masks for the predictions\n",
    "# labeled_pred_masks = [label(mask) for mask in binary_prediction_masks]\n",
    "\n",
    "# # Assuming binary_ground_truth_masks is a list of binary masks for the ground truth\n",
    "# labeled_gt_masks = [label(mask) for mask in binary_ground_truth_masks]\n"
   ]
  },
  {
   "cell_type": "code",
   "execution_count": 10,
   "metadata": {},
   "outputs": [],
   "source": [
    "\n",
    "# from skimage.metrics import structural_similarity as ssim\n",
    "\n",
    "# def match_components(labeled_pred, labeled_gt):\n",
    "#     matches = []\n",
    "#     for pred_label in np.unique(labeled_pred)[1:]:  # Skip the background label '0'\n",
    "#         pred_mask = labeled_pred == pred_label\n",
    "#         for gt_label in np.unique(labeled_gt)[1:]:\n",
    "#             gt_mask = labeled_gt == gt_label\n",
    "#             iou = compute_iou(pred_mask, gt_mask)\n",
    "#             if iou > 0.5:  # IoU threshold\n",
    "#                 matches.append((pred_label, gt_label))\n",
    "#                 break  # Assuming one-to-one matching\n",
    "#     return matches\n",
    "\n",
    "\n",
    "\n",
    "# matches = match_components(labeled_pred_masks, labeled_gt_masks)\n",
    "\n",
    "\n",
    "\n",
    "\n"
   ]
  },
  {
   "cell_type": "markdown",
   "metadata": {},
   "source": [
    "3) Compute IoU and Find Matches"
   ]
  },
  {
   "cell_type": "code",
   "execution_count": 71,
   "metadata": {},
   "outputs": [
    {
     "name": "stdout",
     "output_type": "stream",
     "text": [
      "Match found between prediction 87 and ground truth 179 with IoU: 1.0\n",
      "Match found between prediction 207 and ground truth 207 with IoU: 1.0\n",
      "Match found between prediction 326 and ground truth 326 with IoU: 0.5714285714285714\n",
      "Match found between prediction 352 and ground truth 77 with IoU: 1.0\n",
      "Match found between prediction 462 and ground truth 66 with IoU: 0.6666666666666666\n",
      "Match found between prediction 511 and ground truth 511 with IoU: 0.7058823529411765\n",
      "Match found between prediction 549 and ground truth 549 with IoU: 0.6666666666666666\n",
      "Match found between prediction 807 and ground truth 807 with IoU: 0.5106382978723404\n",
      "Match found between prediction 976 and ground truth 359 with IoU: 0.5316455696202531\n",
      "Total matches found: 9\n"
     ]
    }
   ],
   "source": [
    "# def compute_iou(mask1, mask2):\n",
    "#     intersection = np.logical_and(mask1, mask2).sum()\n",
    "#     union = np.logical_or(mask1, mask2).sum()\n",
    "#     iou = intersection / union if union != 0 else 0\n",
    "# #     return iou\n",
    "\n",
    "# def find_matches(labeled_pred_masks, labeled_gt_masks, threshold=0.5):  # Lowered threshold for testing\n",
    "#     matches = []\n",
    "#     for i, pred_mask in enumerate(labeled_pred_masks):\n",
    "#         for j, gt_mask in enumerate(labeled_gt_masks):\n",
    "#             iou = compute_iou(pred_mask, gt_mask)\n",
    "#             if iou > threshold:\n",
    "#                 matches.append((i, j))\n",
    "#                 print(f\"Match found between prediction {i} and ground truth {j} with IoU: {iou}\")  # Debug print\n",
    "#     return matches\n",
    "\n",
    "# # Recalculate matches with debugging and a lower IoU threshold\n",
    "# matches = find_matches(labeled_pred_masks, labeled_gt_masks)\n",
    "# print(\"Total matches found:\", len(matches))\n"
   ]
  },
  {
   "cell_type": "code",
   "execution_count": 72,
   "metadata": {},
   "outputs": [],
   "source": [
    "# # True Positives (TP): Predicted components that match ground truth components\n",
    "# TP = len(matches)\n",
    "\n",
    "# # False Positives (FP): Predicted components that don't match any ground truth component\n",
    "# total_pred_components = len(np.unique(labeled_pred_masks)) - 1  # minus 1 to exclude background\n",
    "# FP = total_pred_components - TP\n",
    "\n",
    "# # False Negatives (FN): Ground truth components that weren't matched by predicted components\n",
    "# total_gt_components = len(np.unique(labeled_gt_masks)) - 1  # minus 1 to exclude background\n",
    "# FN = total_gt_components - TP\n",
    "\n",
    "\n",
    "# Precision = TP / (TP + FP) if (TP + FP) > 0 else 0\n",
    "# Recall = TP / (TP + FN) if (TP + FN) > 0 else 0\n",
    "# F1 = 2 * (Precision * Recall) / (Precision + Recall) if (Precision + Recall) > 0 else 0\n"
   ]
  },
  {
   "cell_type": "code",
   "execution_count": 10,
   "metadata": {},
   "outputs": [
    {
     "name": "stdout",
     "output_type": "stream",
     "text": [
      "Precision: 0.16, Recall: 0.17, F1 Score: 0.17\n"
     ]
    }
   ],
   "source": [
    "# Print metrics\n",
    "print(f\"Precision: {Precision:.2f}, Recall: {Recall:.2f}, F1 Score: {F1:.2f}\")\n"
   ]
  },
  {
   "cell_type": "code",
   "execution_count": 11,
   "metadata": {},
   "outputs": [
    {
     "name": "stdout",
     "output_type": "stream",
     "text": [
      "Total Predictions (Components): 56\n",
      "Total Ground Truths (Components): 53\n",
      "True Positives (Matches found): 9\n",
      "False Positives: 47\n",
      "False Negatives: 44\n"
     ]
    }
   ],
   "source": [
    "# Debug print the values\n",
    "print(f\"Total Predictions (Components): {total_pred_components}\")\n",
    "print(f\"Total Ground Truths (Components): {total_gt_components}\")\n",
    "print(f\"True Positives (Matches found): {TP}\")\n",
    "print(f\"False Positives: {FP}\")\n",
    "print(f\"False Negatives: {FN}\")\n"
   ]
  },
  {
   "cell_type": "code",
   "execution_count": 12,
   "metadata": {},
   "outputs": [
    {
     "name": "stdout",
     "output_type": "stream",
     "text": [
      "Total Predictions: 106928\n",
      "Total Ground Truths: 89871\n",
      "Matches Found: 9\n"
     ]
    }
   ],
   "source": [
    "print(\"Total Predictions:\", sum(len(np.unique(mask)) - 1 for mask in labeled_pred_masks))\n",
    "print(\"Total Ground Truths:\", sum(len(np.unique(mask)) - 1 for mask in labeled_gt_masks))\n",
    "print(\"Matches Found:\", len(matches))\n"
   ]
  },
  {
   "cell_type": "code",
   "execution_count": 15,
   "metadata": {},
   "outputs": [
    {
     "ename": "ValueError",
     "evalue": "not enough values to unpack (expected 3, got 2)",
     "output_type": "error",
     "traceback": [
      "\u001b[0;31m---------------------------------------------------------------------------\u001b[0m",
      "\u001b[0;31mValueError\u001b[0m                                Traceback (most recent call last)",
      "Cell \u001b[0;32mIn[15], line 46\u001b[0m\n\u001b[1;32m     39\u001b[0m     plt\u001b[38;5;241m.\u001b[39mshow()\n\u001b[1;32m     41\u001b[0m \u001b[38;5;66;03m# You need to ensure that the 'matches' are index pairs (pred_index, gt_index) that can be passed to np.random.choice.\u001b[39;00m\n\u001b[1;32m     42\u001b[0m \u001b[38;5;66;03m# If 'matches' is not a simple array or needs a specific handling for random sampling, adjust the code accordingly.\u001b[39;00m\n\u001b[1;32m     43\u001b[0m \n\u001b[1;32m     44\u001b[0m \n\u001b[1;32m     45\u001b[0m \u001b[38;5;66;03m# Assuming you have an array or list `images` corresponding to the matches\u001b[39;00m\n\u001b[0;32m---> 46\u001b[0m \u001b[43mvisualize_matches\u001b[49m\u001b[43m(\u001b[49m\u001b[43mimages_np\u001b[49m\u001b[43m,\u001b[49m\u001b[43m \u001b[49m\u001b[43mtf\u001b[49m\u001b[38;5;241;43m.\u001b[39;49m\u001b[43mconvert_to_tensor\u001b[49m\u001b[43m(\u001b[49m\u001b[43mlabeled_pred_masks\u001b[49m\u001b[43m)\u001b[49m\u001b[43m,\u001b[49m\u001b[43m \u001b[49m\u001b[43mtf\u001b[49m\u001b[38;5;241;43m.\u001b[39;49m\u001b[43mconvert_to_tensor\u001b[49m\u001b[43m(\u001b[49m\u001b[43mlabeled_gt_masks\u001b[49m\u001b[43m)\u001b[49m\u001b[43m,\u001b[49m\u001b[43m \u001b[49m\u001b[43mmatches\u001b[49m\u001b[43m)\u001b[49m\n",
      "Cell \u001b[0;32mIn[15], line 28\u001b[0m, in \u001b[0;36mvisualize_matches\u001b[0;34m(images, labeled_pred_masks, labeled_gt_masks, matches, num_samples)\u001b[0m\n\u001b[1;32m     25\u001b[0m sample_matches \u001b[38;5;241m=\u001b[39m [matches[i] \u001b[38;5;28;01mfor\u001b[39;00m i \u001b[38;5;129;01min\u001b[39;00m sample_indices]\n\u001b[1;32m     27\u001b[0m fig, axes \u001b[38;5;241m=\u001b[39m plt\u001b[38;5;241m.\u001b[39msubplots(num_samples, \u001b[38;5;241m3\u001b[39m, figsize\u001b[38;5;241m=\u001b[39m(\u001b[38;5;241m8\u001b[39m, \u001b[38;5;241m5\u001b[39m \u001b[38;5;241m*\u001b[39m num_samples))\n\u001b[0;32m---> 28\u001b[0m \u001b[38;5;28;01mfor\u001b[39;00m idx, (pred_index, gt_index, iou) \u001b[38;5;129;01min\u001b[39;00m \u001b[38;5;28menumerate\u001b[39m(sample_matches):\n\u001b[1;32m     29\u001b[0m     img_index \u001b[38;5;241m=\u001b[39m idx  \u001b[38;5;66;03m# Adjust if images list doesn't align directly with sample indices\u001b[39;00m\n\u001b[1;32m     30\u001b[0m     axes[idx, \u001b[38;5;241m0\u001b[39m]\u001b[38;5;241m.\u001b[39mimshow(images[img_index], cmap\u001b[38;5;241m=\u001b[39m\u001b[38;5;124m'\u001b[39m\u001b[38;5;124mgray\u001b[39m\u001b[38;5;124m'\u001b[39m)\n",
      "\u001b[0;31mValueError\u001b[0m: not enough values to unpack (expected 3, got 2)"
     ]
    },
    {
     "data": {
      "image/png": "[encoded data removed]",
      "text/plain": [
       "<Figure size 800x4500 with 27 Axes>"
      ]
     },
     "metadata": {},
     "output_type": "display_data"
    }
   ],
   "source": [
    "# import matplotlib.pyplot as plt\n",
    "\n",
    "# def visualize_matches(images, labeled_pred_masks, labeled_gt_masks, matches, num_samples=10):\n",
    "#     sample_matches = matches[:num_samples]\n",
    "#     fig, axes = plt.subplots(num_samples, 3, figsize=(8, 5 * num_samples))\n",
    "#     for idx, (pred_index, gt_index) in enumerate(sample_matches):\n",
    "#         axes[idx, 0].imshow(images[idx], cmap='gray')\n",
    "#         axes[idx, 0].set_title('Original Image')\n",
    "#         axes[idx, 1].imshow(labeled_pred_masks[pred_index], cmap='nipy_spectral')\n",
    "#         axes[idx, 1].set_title(f'Predicted Mask (IoU: {compute_iou(labeled_pred_masks[pred_index], labeled_gt_masks[gt_index]):.2f})')\n",
    "#         axes[idx, 2].imshow(labeled_gt_masks[gt_index], cmap='nipy_spectral')\n",
    "#         axes[idx, 2].set_title('Ground Truth Mask')\n",
    "#         for ax in axes[idx]:\n",
    "#             ax.axis('off')\n",
    "#     plt.tight_layout()\n",
    "#     plt.show()\n",
    "def visualize_matches(images, labeled_pred_masks, labeled_gt_masks, matches, num_samples=10):\n",
    "    num_samples = min(num_samples, len(matches))  # Adjust number of samples based on available matches\n",
    "    indices = np.arange(len(matches))\n",
    "    if len(matches) > num_samples:\n",
    "        sample_indices = np.random.choice(indices, size=num_samples, replace=False)\n",
    "    else:\n",
    "        sample_indices = indices\n",
    "\n",
    "    sample_matches = [matches[i] for i in sample_indices]\n",
    "\n",
    "    fig, axes = plt.subplots(num_samples, 3, figsize=(8, 5 * num_samples))\n",
    "    for idx, (pred_index, gt_index, iou) in enumerate(sample_matches):\n",
    "        img_index = idx  # Adjust if images list doesn't align directly with sample indices\n",
    "        axes[idx, 0].imshow(images[img_index], cmap='gray')\n",
    "        axes[idx, 0].set_title('Original Image')\n",
    "        axes[idx, 1].imshow(labeled_pred_masks[pred_index], cmap='nipy_spectral')\n",
    "        axes[idx, 1].set_title(f'Predicted Mask (IoU: {iou:.2f})')\n",
    "        axes[idx, 2].imshow(labeled_gt_masks[gt_index], cmap='nipy_spectral')\n",
    "        axes[idx, 2].set_title('Ground Truth Mask')\n",
    "        for ax in axes[idx]:\n",
    "            ax.axis('off')\n",
    "    plt.tight_layout()\n",
    "    plt.show()\n",
    "\n",
    "# You need to ensure that the 'matches' are index pairs (pred_index, gt_index) that can be passed to np.random.choice.\n",
    "# If 'matches' is not a simple array or needs a specific handling for random sampling, adjust the code accordingly.\n",
    "\n",
    "\n",
    "# Assuming you have an array or list `images` corresponding to the matches\n",
    "visualize_matches(images_np, tf.convert_to_tensor(labeled_pred_masks), tf.convert_to_tensor(labeled_gt_masks), matches)\n",
    "\n",
    "\n"
   ]
  },
  {
   "cell_type": "code",
   "execution_count": 5,
   "metadata": {},
   "outputs": [],
   "source": [
    "# import os\n",
    "\n",
    "# def create_directory_if_not_exists(directory_path):\n",
    "#     \"\"\"\n",
    "#     Create a directory if it doesn't exist.\n",
    "\n",
    "#     Args:\n",
    "#     - directory_path (str): Path of the directory to be created.\n",
    "#     \"\"\"\n",
    "#     if not os.path.exists(directory_path):\n",
    "#         try:\n",
    "#             os.makedirs(directory_path)\n",
    "#             print(f\"Directory '{directory_path}' created successfully.\")\n",
    "#         except OSError as e:\n",
    "#             print(f\"Error creating directory '{directory_path}': {e}\")\n",
    "#     else:\n",
    "#         print(f\"Directory '{directory_path}' already exists.\")"
   ]
  },
  {
   "cell_type": "code",
   "execution_count": 7,
   "metadata": {},
   "outputs": [
    {
     "name": "stdout",
     "output_type": "stream",
     "text": [
      "Directory '/home/m3-learning/Documents/Research Data/Derrick's Object Detection/ValidationResults/' already exists.\n"
     ]
    }
   ],
   "source": [
    "# import re\n",
    "# savepath = \"/home/m3-learning/Documents/Research Data/Derrick's Object Detection/ValidationResults/\"\n",
    "# path = \"/home/m3-learning/Documents/Research Data/Derrick's Object Detection/ValidationData-20231107T163458Z-001/\"\n",
    "# # savepath = '/home/m3-learning/Documents/myML/ValidationResults/'\n",
    "# # path = '/home/m3-learning/Documents/myML/ValidationData-20231107T163458Z-001/ValidationData/'\n",
    "\n",
    "# create_directory_if_not_exists(savepath)\n",
    "\n",
    "# # Regular expression pattern to match files starting with 'Stack' and ending with '.npz'\n",
    "# pattern = re.compile(r'^Stack.*\\.npz$')\n",
    "\n",
    "# import time\n",
    "# start_time = time.time()\n",
    "# for file in os.listdir(path):\n",
    "#   if pattern.match(file):\n",
    "#     general_evaluation(path + file, algorithm = 'fastrcnn_predict', repeat = 1, savepath = savepath, model = loaded_model,\n",
    "#                       method = 'max',  mode = 'dynamic_window', stride = 64) #meanADU = 1007\n",
    "#     print('\\nWorked on ', file, 'cost', \" %s seconds.\" % (time.time() - start_time))\n",
    "#     start_time = time.time()\n",
    "# # import time\n",
    "# start_time = time.time()\n",
    "# for file in os.listdir(path)[:50]:\n",
    "#   if file[0] != 'S':\n",
    "#     continue\n",
    "#   general_evaluation(path + file,algorithm = 'fastrcnn_predict', repeat = 1, savepath = savepath, model = loaded_model,\n",
    "#                      method = 'max',  mode = 'dynamic_window', stride = 64) #meanADU = 1007\n",
    "#   print('\\nWorked on ', file, 'cost', \" %s seconds.\" % (time.time() - start_time))\n",
    "#   start_time = time.time()\n",
    "\n",
    "\n",
    "# import os\n",
    "# import time\n",
    "# import tensorflow as tf\n",
    "\n",
    "# # Assume 'model' is your loaded TensorFlow model, possibly something like:\n",
    "# # model = tf.keras.models.load_model('path_to_your_model')\n",
    "\n",
    "\n",
    "\n",
    "# start_time = time.time()\n",
    "# for file in os.listdir(path)[:50]:\n",
    "#     if not file.startswith('S'):\n",
    "#         continue\n",
    "    \n",
    "    \n",
    "#     general_evaluation(os.path.join(path, file), \n",
    "#                           algorithm='fastrcnn_predict', \n",
    "#                           repeat=1, \n",
    "#                           savepath=savepath, \n",
    "#                           model=loaded_model,  \n",
    "#                           method='max', \n",
    "#                           mode='dynamic_window', \n",
    "#                           stride=64)  # meanADU=1007 may need to be passed inside **kwargs if your function uses it\n",
    "    \n",
    "#     print('\\nWorked on ', file, 'cost', \" %s seconds.\" % (time.time() - start_time))\n",
    "#     start_time = time.time()\n",
    "\n"
   ]
  },
  {
   "cell_type": "code",
   "execution_count": 20,
   "metadata": {},
   "outputs": [
    {
     "name": "stdout",
     "output_type": "stream",
     "text": [
      "Metrics for /home/m3-learning/Documents/myML/ValidationResults/Stack001_result.npz:\n",
      "MAE: 0.0029083251953125\n",
      "Precision: 0.5270942733557651\n",
      "Recall: 0.579563715833866\n",
      "DCE: 1.1005134144805182\n",
      "DCE Corrected: 1.1005134144805182\n",
      "------------------------------\n",
      "Metrics for /home/m3-learning/Documents/myML/ValidationResults/Stack007_result.npz:\n",
      "MAE: 0.01475372314453125\n",
      "Precision: 0.5111817626672449\n",
      "Recall: 0.5457362680449849\n",
      "DCE: 1.0679164079202939\n",
      "DCE Corrected: 1.0674867623778663\n",
      "------------------------------\n",
      "Metrics for /home/m3-learning/Documents/myML/ValidationResults/Stack015_result.npz:\n",
      "MAE: 0.0307403564453125\n",
      "Precision: 0.506194977625215\n",
      "Recall: 0.5001037702063418\n",
      "DCE: 0.9884436409913258\n",
      "DCE Corrected: 0.9884436409913258\n",
      "------------------------------\n",
      "Metrics for /home/m3-learning/Documents/myML/ValidationResults/Stack019_result.npz:\n",
      "MAE: 0.0380645751953125\n",
      "Precision: 0.5142659893905327\n",
      "Recall: 0.4871540870003127\n",
      "DCE: 0.9475161692101801\n",
      "DCE Corrected: 0.9475161692101801\n",
      "------------------------------\n"
     ]
    }
   ],
   "source": [
    "# import numpy as np\n",
    "\n",
    "# file_paths = [\n",
    "#     '/home/m3-learning/Documents/myML/ValidationResults/Stack001_result.npz',\n",
    "#     '/home/m3-learning/Documents/myML/ValidationResults/Stack007_result.npz',\n",
    "#     '/home/m3-learning/Documents/myML/ValidationResults/Stack015_result.npz',\n",
    "#     '/home/m3-learning/Documents/myML/ValidationResults/Stack019_result.npz'\n",
    "\n",
    "# ]\n",
    "\n",
    "# # Iterate over each file path to load and print specific metrics\n",
    "# for file_path in file_paths:\n",
    "#     data = np.load(file_path)\n",
    "#     mae = data['mae']\n",
    "#     precision = data['precision']\n",
    "#     recall = data['recall']\n",
    "#     dce = data['dce']\n",
    "#     dce_corrected = data['dce_corrected']\n",
    "    \n",
    "#     print(f\"Metrics for {file_path}:\")\n",
    "#     print(f\"MAE: {np.mean(mae)}\")\n",
    "#     print(f\"Precision: {np.mean(precision)}\")\n",
    "#     print(f\"Recall: {np.mean(recall)}\")\n",
    "#     print(f\"DCE: {np.mean(dce)}\")\n",
    "#     print(f\"DCE Corrected: {np.mean(dce_corrected)}\")\n",
    "#     print(\"-\" * 30)\n"
   ]
  },
  {
   "cell_type": "code",
   "execution_count": 13,
   "metadata": {},
   "outputs": [
    {
     "name": "stdout",
     "output_type": "stream",
     "text": [
      "Average MAE: 0.0029\n",
      "Average DCE: 1.1005\n",
      "Average Recall: 0.5796\n",
      "Average Precision: 0.5271\n",
      "Average Corrected DCE: 1.1005\n"
     ]
    }
   ],
   "source": [
    "import numpy as np\n",
    "\n",
    "# def load_data(file_path):\n",
    "#     data = np.load(file_path)\n",
    "#     return data['result'], data['mae'], data['dce'], data['recall'], data['precision'], data['deviations'], data['dce_corrected']\n",
    "\n",
    "def load_data(file_path):\n",
    "    \"\"\"\n",
    "    Load data from an NPZ file.\n",
    "    \"\"\"\n",
    "    with np.load(file_path, allow_pickle=True) as data:\n",
    "        result = data['result']\n",
    "        mae = data['mae']\n",
    "        dce = data['dce']\n",
    "        recall = data['recall']\n",
    "        precision = data['precision']\n",
    "        deviations = data['deviations']\n",
    "        dce_corrected = data['dce_corrected']\n",
    "    return result, mae, dce, recall, precision, deviations, dce_corrected\n",
    "\n",
    "# Metric Calculation Functions\n",
    "def calculate_mae(filtered, ground_truth):\n",
    "    return np.mean(np.abs(filtered - ground_truth))\n",
    "\n",
    "def calculate_precision(tp, fp):\n",
    "    return tp / (tp + fp) if (tp + fp) > 0 else 0\n",
    "\n",
    "def calculate_recall(tp, fn):\n",
    "    return tp / (tp + fn) if (tp + fn) > 0 else 0\n",
    "\n",
    "def calculate_dce(detected_count, actual_count):\n",
    "    return detected_count / actual_count if actual_count > 0 else 0\n",
    "\n",
    "def calculate_corrected_dce(deviations, actual_count):\n",
    "    valid_detections = len([d for d in deviations if d <= 6])  # Example threshold\n",
    "    return valid_detections / actual_count if actual_count > 0 else 0\n",
    "\n",
    "# Process data and calculate metrics\n",
    "# def process_data(file_path):\n",
    "#     predictions, ground_truth = load_data(file_path)\n",
    "#     metrics = {'mae': [], 'precision': [], 'recall': [], 'dce': [], 'corrected_dce': []}\n",
    "    \n",
    "#     for i in range(predictions.shape[0]):\n",
    "#         filtered = predictions[i]\n",
    "#         truth = ground_truth[i]\n",
    "\n",
    "#         tp = np.sum((filtered > 0) & (truth > 0))\n",
    "#         fp = np.sum((filtered > 0) & (truth == 0))\n",
    "#         fn = np.sum((filtered == 0) & (truth > 0))\n",
    "#         detected_count = np.sum(filtered > 0)\n",
    "#         actual_count = np.sum(truth > 0)\n",
    "\n",
    "#         mae = calculate_mae(filtered, truth)\n",
    "#         precision = calculate_precision(tp, fp)\n",
    "#         recall = calculate_recall(tp, fn)\n",
    "#         dce = calculate_dce(detected_count, actual_count)\n",
    "#         deviations = np.random.uniform(0, 10, size=tp)  # Example deviations, replace with actual\n",
    "#         corrected_dce = calculate_corrected_dce(deviations, actual_count)\n",
    "\n",
    "#         metrics['mae'].append(mae)\n",
    "#         metrics['precision'].append(precision)\n",
    "#         metrics['recall'].append(recall)\n",
    "#         metrics['dce'].append(dce)\n",
    "#         metrics['corrected_dce'].append(corrected_dce)\n",
    "\n",
    "#     # Calculate average metrics\n",
    "#     for key in metrics:\n",
    "#         metrics[key] = np.mean(metrics[key])\n",
    "\n",
    "#     return metrics\n",
    "\n",
    "# # Example usage\n",
    "# file_path = '/home/m3-learning/Documents/myML/ValidationResults/Stack001_result.npz'\n",
    "# results = process_data(file_path)\n",
    "# print(results)\n",
    "\n",
    "# def process_data(file_path):\n",
    "#     # Load data\n",
    "#     result, mae, dce, recall, precision, deviations, dce_corrected = load_data(file_path)\n",
    "\n",
    "#     # Convert to numpy arrays if they are not already\n",
    "#     mae = np.array(mae)\n",
    "#     dce = np.array(dce)\n",
    "#     recall = np.array(recall)\n",
    "#     precision = np.array(precision)\n",
    "#     dce_corrected = np.array(dce_corrected)\n",
    "\n",
    "#     # Calculate average metrics\n",
    "#     metrics = {\n",
    "#         'Average MAE': np.mean(mae),\n",
    "#         'Average DCE': np.mean(dce),\n",
    "#         'Average Recall': np.mean(recall),\n",
    "#         'Average Precision': np.mean(precision),\n",
    "#         'Average Corrected DCE': np.mean(dce_corrected)\n",
    "#     }\n",
    "\n",
    "#     return metrics\n",
    "\n",
    "# Example usage\n",
    "# file_path = '/home/m3-learning/Documents/myML/ValidationResults/Stack001_result.npz'\n",
    "# results = process_data(file_path)\n",
    "# print(\"Aggregated Metrics:\", results)\n",
    "\n",
    "def process_data(file_path):\n",
    "    \"\"\"\n",
    "    Process the loaded data to calculate average metrics.\n",
    "    \"\"\"\n",
    "    # Load results and metrics from the file\n",
    "    result, mae, dce, recall, precision, deviations, dce_corrected = load_data(file_path)\n",
    "\n",
    "    # Calculate average of each metric\n",
    "    metrics = {\n",
    "        'Average MAE': np.mean(mae),\n",
    "        'Average DCE': np.mean(dce),\n",
    "        'Average Recall': np.mean(recall),\n",
    "        'Average Precision': np.mean(precision),\n",
    "        'Average Corrected DCE': np.mean(dce_corrected)\n",
    "    }\n",
    "\n",
    "    return metrics\n",
    "\n",
    "def print_results(metrics):\n",
    "    \"\"\"\n",
    "    Print the calculated average metrics.\n",
    "    \"\"\"\n",
    "    for metric_name, average_value in metrics.items():\n",
    "        print(f\"{metric_name}: {average_value:.4f}\")\n",
    "\n",
    "# Main function to run the script\n",
    "def main():\n",
    "    file_path = '/home/m3-learning/Documents/myML/ValidationResults/Stack001_result.npz'  # Update this to your actual file path\n",
    "    results = process_data(file_path)\n",
    "    print_results(results)\n",
    "\n",
    "if __name__ == \"__main__\":\n",
    "    main()"
   ]
  },
  {
   "cell_type": "code",
   "execution_count": 8,
   "metadata": {},
   "outputs": [
    {
     "name": "stdout",
     "output_type": "stream",
     "text": [
      "Keys in the NPZ file: ['coordinates', 'result', 'mae', 'dce', 'nume', 'recall', 'precision', 'deviations', 'dce_corrected', 'eventsizes']\n"
     ]
    }
   ],
   "source": [
    "def inspect_npz_file(file_path):\n",
    "    with np.load(file_path) as data:\n",
    "        print(\"Keys in the NPZ file:\", list(data.keys()))\n",
    "\n",
    "# Example usage\n",
    "file_path = '/home/m3-learning/Documents/myML/ValidationResults/Stack001_result.npz'\n",
    "inspect_npz_file(file_path)\n"
   ]
  },
  {
   "cell_type": "code",
   "execution_count": 14,
   "metadata": {},
   "outputs": [
    {
     "data": {
      "image/png": "[encoded data removed]",
      "text/plain": [
       "<Figure size 1000x500 with 1 Axes>"
      ]
     },
     "metadata": {},
     "output_type": "display_data"
    }
   ],
   "source": [
    "import matplotlib.pyplot as plt\n",
    "\n",
    "\n",
    "precisions = []\n",
    "recalls = []\n",
    "\n",
    "for file_path in file_paths:\n",
    "    data = np.load(file_path)\n",
    "    precisions.append(np.mean(data['precision']))\n",
    "    recalls.append(np.mean(data['recall']))\n",
    "\n",
    "# Simple plot of precision and recall\n",
    "plt.figure(figsize=(10, 5))\n",
    "plt.plot(precisions, label='Precision', marker='o')\n",
    "plt.plot(recalls, label='Recall', marker='x')\n",
    "plt.title('Model Performance Across Datasets')\n",
    "plt.xlabel('Dataset')\n",
    "plt.ylabel('Metric Value')\n",
    "plt.legend()\n",
    "plt.xticks(range(len(file_paths)), labels=[f\"Dataset {i+1}\" for i in range(len(file_paths))], rotation=45)\n",
    "plt.tight_layout()\n",
    "plt.show()\n"
   ]
  }
 ],
 "metadata": {
  "kernelspec": {
   "display_name": "electron",
   "language": "python",
   "name": "python3"
  },
  "language_info": {
   "codemirror_mode": {
    "name": "ipython",
    "version": 3
   },
   "file_extension": ".py",
   "mimetype": "text/x-python",
   "name": "python",
   "nbconvert_exporter": "python",
   "pygments_lexer": "ipython3",
   "version": "3.10.13"
  }
 },
 "nbformat": 4,
 "nbformat_minor": 2
}
